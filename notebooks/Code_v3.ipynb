{
 "cells": [
  {
   "cell_type": "code",
   "execution_count": 1,
   "id": "1f72cebc",
   "metadata": {},
   "outputs": [
    {
     "name": "stdout",
     "output_type": "stream",
     "text": [
      "✅ All libraries imported successfully\n",
      "✅ Cache directories created\n"
     ]
    }
   ],
   "source": [
    "\"\"\"\n",
    "F1 Race Strategy Analysis Notebook\n",
    "==================================\n",
    "Comprehensive analysis of F1 race data including tire strategy optimization,\n",
    "pit stop analysis, and race simulation.\n",
    "\"\"\"\n",
    "\n",
    "# Core imports\n",
    "import os\n",
    "import warnings\n",
    "import numpy as np\n",
    "import pandas as pd\n",
    "import matplotlib.pyplot as plt\n",
    "import seaborn as sns\n",
    "import plotly.express as px\n",
    "import plotly.graph_objects as go\n",
    "from plotly.subplots import make_subplots\n",
    "\n",
    "# ML and statistical imports\n",
    "from sklearn.linear_model import LinearRegression\n",
    "from sklearn.metrics import r2_score\n",
    "from scipy import stats\n",
    "\n",
    "# FastF1 for F1 data\n",
    "import fastf1\n",
    "from fastf1 import plotting\n",
    "\n",
    "# Interactive widgets\n",
    "import ipywidgets as widgets\n",
    "from IPython.display import display, clear_output\n",
    "\n",
    "# Parallel processing\n",
    "from concurrent.futures import ProcessPoolExecutor\n",
    "import itertools\n",
    "import time\n",
    "\n",
    "# Configuration\n",
    "warnings.filterwarnings('ignore')\n",
    "plt.style.use('seaborn-v0_8')\n",
    "pd.set_option('display.max_columns', None)\n",
    "pd.set_option('display.precision', 3)\n",
    "\n",
    "# FastF1 cache setup\n",
    "os.makedirs('cache', exist_ok=True)\n",
    "os.makedirs('data', exist_ok=True)\n",
    "fastf1.Cache.enable_cache('cache')\n",
    "\n",
    "print(\"✅ All libraries imported successfully\")\n",
    "print(\"✅ Cache directories created\")\n"
   ]
  },
  {
   "cell_type": "code",
   "execution_count": 2,
   "id": "8f24810e",
   "metadata": {},
   "outputs": [
    {
     "name": "stdout",
     "output_type": "stream",
     "text": [
      "Loading 2024 Silverstone R session...\n"
     ]
    },
    {
     "name": "stderr",
     "output_type": "stream",
     "text": [
      "core           INFO \tLoading data for British Grand Prix - Race [v3.6.0]\n",
      "req            INFO \tUsing cached data for session_info\n",
      "req            INFO \tUsing cached data for driver_info\n",
      "req            INFO \tUsing cached data for session_status_data\n",
      "req            INFO \tUsing cached data for lap_count\n",
      "req            INFO \tUsing cached data for track_status_data\n",
      "req            INFO \tUsing cached data for _extended_timing_data\n",
      "req            INFO \tUsing cached data for timing_app_data\n",
      "core           INFO \tProcessing timing data...\n",
      "req            INFO \tUsing cached data for car_data\n",
      "req            INFO \tUsing cached data for position_data\n",
      "req            INFO \tUsing cached data for weather_data\n",
      "req            INFO \tUsing cached data for race_control_messages\n",
      "core           INFO \tFinished loading data for 20 drivers: ['44', '1', '4', '81', '55', '27', '18', '14', '23', '22', '2', '20', '3', '16', '77', '31', '11', '24', '63', '10']\n"
     ]
    },
    {
     "name": "stdout",
     "output_type": "stream",
     "text": [
      "✅ Loaded 960 laps from 19 drivers\n",
      "\n",
      "Dataset shape: (960, 32)\n",
      "Drivers: ['ALB', 'ALO', 'BOT', 'HAM', 'HUL', 'LEC', 'MAG', 'NOR', 'OCO', 'PER', 'PIA', 'RIC', 'RUS', 'SAI', 'SAR', 'STR', 'TSU', 'VER', 'ZHO']\n",
      "Compounds: ['HARD', 'INTERMEDIATE', 'MEDIUM', 'SOFT']\n"
     ]
    }
   ],
   "source": [
    "class F1DataLoader:\n",
    "    \"\"\"Handles F1 data loading and basic preprocessing\"\"\"\n",
    "    \n",
    "    def __init__(self, season=2024, event='Silverstone', session_type='R'):\n",
    "        self.season = season\n",
    "        self.event = event\n",
    "        self.session_type = session_type\n",
    "        self.session = None\n",
    "        self.laps = None\n",
    "        \n",
    "    def load_session_data(self):\n",
    "        \"\"\"Load and process session data\"\"\"\n",
    "        print(f\"Loading {self.season} {self.event} {self.session_type} session...\")\n",
    "        \n",
    "        self.session = fastf1.get_session(self.season, self.event, self.session_type)\n",
    "        self.session.load()\n",
    "        \n",
    "        # Get lap data\n",
    "        self.laps = self.session.laps.copy()\n",
    "        \n",
    "        # Data preprocessing\n",
    "        self._preprocess_laps()\n",
    "        \n",
    "        print(f\"✅ Loaded {len(self.laps)} laps from {len(self.laps['Driver'].unique())} drivers\")\n",
    "        return self.laps\n",
    "    \n",
    "    def _preprocess_laps(self):\n",
    "        \"\"\"Clean and preprocess lap data\"\"\"\n",
    "        # Convert time columns\n",
    "        time_columns = ['LapTime', 'PitInTime', 'PitOutTime', 'Sector1Time', \n",
    "                       'Sector2Time', 'Sector3Time']\n",
    "        \n",
    "        for col in time_columns:\n",
    "            if col in self.laps.columns:\n",
    "                self.laps[col] = pd.to_timedelta(self.laps[col], errors='coerce')\n",
    "        \n",
    "        # Add numeric lap time\n",
    "        self.laps['LapTimeSeconds'] = self.laps['LapTime'].dt.total_seconds()\n",
    "        \n",
    "        # Clean invalid laps\n",
    "        self.laps = self.laps[\n",
    "            (self.laps['LapTimeSeconds'] > 60) &  # Reasonable lap times\n",
    "            (self.laps['LapTimeSeconds'] < 200) &\n",
    "            (~self.laps['LapTime'].isna())\n",
    "        ].reset_index(drop=True)\n",
    "        \n",
    "        # Save to CSV\n",
    "        self.laps.to_csv('data/laps_processed.csv', index=False)\n",
    "\n",
    "# Load data\n",
    "loader = F1DataLoader(season=2024, event='Silverstone', session_type='R')\n",
    "laps = loader.load_session_data()\n",
    "\n",
    "# Display basic info\n",
    "print(f\"\\nDataset shape: {laps.shape}\")\n",
    "print(f\"Drivers: {sorted(laps['Driver'].unique())}\")\n",
    "print(f\"Compounds: {sorted(laps['Compound'].unique())}\")\n"
   ]
  },
  {
   "cell_type": "code",
   "execution_count": 3,
   "id": "3d5c5556",
   "metadata": {},
   "outputs": [
    {
     "name": "stdout",
     "output_type": "stream",
     "text": [
      "✅ Data analysis completed\n",
      "Stint analysis: 64 records\n",
      "Pace analysis: 59 records\n",
      "Pit stop analysis: 19 records\n"
     ]
    }
   ],
   "source": [
    "class F1DataAnalyzer:\n",
    "    \"\"\"Comprehensive F1 data analysis\"\"\"\n",
    "    \n",
    "    def __init__(self, laps_df):\n",
    "        self.laps = laps_df\n",
    "        self.clean_laps = self._get_clean_laps()\n",
    "        \n",
    "    def _get_clean_laps(self):\n",
    "        \"\"\"Get clean laps (no pit stops, not deleted)\"\"\"\n",
    "        return self.laps[\n",
    "            (~self.laps['PitInTime'].notnull()) &\n",
    "            (~self.laps['PitOutTime'].notnull()) &\n",
    "            (~self.laps['Deleted'])\n",
    "        ].copy()\n",
    "    \n",
    "    def stint_analysis(self):\n",
    "        \"\"\"Analyze stint performance\"\"\"\n",
    "        stints = (\n",
    "            self.laps.groupby(['Driver', 'Stint', 'Compound'])\n",
    "            .agg({\n",
    "                'LapNumber': ['min', 'max', 'count'],\n",
    "                'TyreLife': 'mean',\n",
    "                'LapTime': ['first', 'last'],\n",
    "                'LapTimeSeconds': ['mean', 'std']\n",
    "            })\n",
    "            .reset_index()\n",
    "        )\n",
    "        \n",
    "        # Flatten column names\n",
    "        stints.columns = ['Driver', 'Stint', 'Compound', 'StintStartLap', \n",
    "                         'StintEndLap', 'NumLaps', 'AvgTyreLife', \n",
    "                         'FirstLapTime', 'LastLapTime', 'MeanLapTime', 'StdLapTime']\n",
    "        \n",
    "        # Calculate degradation\n",
    "        stints['FirstLapTimeSeconds'] = stints['FirstLapTime'].dt.total_seconds()\n",
    "        stints['LastLapTimeSeconds'] = stints['LastLapTime'].dt.total_seconds()\n",
    "        stints['DegradationDelta'] = stints['LastLapTimeSeconds'] - stints['FirstLapTimeSeconds']\n",
    "        \n",
    "        stints.to_csv('data/stint_analysis.csv', index=False)\n",
    "        return stints\n",
    "    \n",
    "    def pace_analysis(self):\n",
    "        \"\"\"Analyze pace by stint and compound\"\"\"\n",
    "        pace_analysis = (\n",
    "            self.clean_laps.groupby(['Driver', 'Stint', 'Compound'])\n",
    "            .agg({\n",
    "                'LapTimeSeconds': ['mean', 'std', 'count'],\n",
    "                'LapNumber': ['min', 'max']\n",
    "            })\n",
    "            .reset_index()\n",
    "        )\n",
    "        \n",
    "        pace_analysis.columns = ['Driver', 'Stint', 'Compound', \n",
    "                               'MeanLapTime', 'StdLapTime', 'ValidLaps',\n",
    "                               'StintStart', 'StintEnd']\n",
    "        \n",
    "        # Filter out short stints\n",
    "        pace_analysis = pace_analysis[pace_analysis['ValidLaps'] >= 5]\n",
    "        \n",
    "        pace_analysis.to_csv('data/pace_analysis.csv', index=False)\n",
    "        return pace_analysis\n",
    "    \n",
    "    def pit_stop_analysis(self):\n",
    "        \"\"\"Analyze pit stops\"\"\"\n",
    "        pit_stops = self.laps[self.laps['PitInTime'].notnull()].copy()\n",
    "        \n",
    "        if len(pit_stops) > 0:\n",
    "            pit_analysis = pit_stops.groupby('Driver').agg({\n",
    "                'LapNumber': 'count',\n",
    "                'LapTimeSeconds': 'mean'\n",
    "            }).rename(columns={\n",
    "                'LapNumber': 'NumPitStops',\n",
    "                'LapTimeSeconds': 'AvgPitLapTime'\n",
    "            })\n",
    "            \n",
    "            pit_analysis.to_csv('data/pit_analysis.csv', index=False)\n",
    "            return pit_analysis\n",
    "        \n",
    "        return pd.DataFrame()\n",
    "\n",
    "# Analyze data\n",
    "analyzer = F1DataAnalyzer(laps)\n",
    "stint_data = analyzer.stint_analysis()\n",
    "pace_data = analyzer.pace_analysis()\n",
    "pit_data = analyzer.pit_stop_analysis()\n",
    "\n",
    "print(\"✅ Data analysis completed\")\n",
    "print(f\"Stint analysis: {len(stint_data)} records\")\n",
    "print(f\"Pace analysis: {len(pace_data)} records\")\n",
    "print(f\"Pit stop analysis: {len(pit_data)} records\")\n"
   ]
  },
  {
   "cell_type": "code",
   "execution_count": 4,
   "id": "dc6e09c3",
   "metadata": {},
   "outputs": [
    {
     "name": "stdout",
     "output_type": "stream",
     "text": [
      "🚀 Initializing Enhanced Tire Degradation Analysis...\n",
      "🔧 Fitting enhanced tire degradation models...\n",
      "Model types: ['linear', 'polynomial']\n",
      "✅ Fitted 59 enhanced degradation models\n",
      "\n",
      "📊 DEGRADATION ANALYSIS SUMMARY:\n",
      "============================================================\n",
      "\n",
      "🔧 Compound Degradation Rates:\n",
      "  HARD        : -0.0212±0.0576 s/lap (R²=0.505, n=3)\n",
      "  INTERMEDIATE: +0.1128±0.3811 s/lap (R²=0.770, n=21)\n",
      "  MEDIUM      : +0.1159±0.4148 s/lap (R²=0.355, n=23)\n",
      "  SOFT        : +0.0737±0.0975 s/lap (R²=0.590, n=12)\n",
      "\n",
      "🏆 Best Model Accuracy: R² = 0.9883\n",
      "📉 Worst Model Accuracy: R² = 0.0634\n",
      "📊 Average Model Accuracy: R² = 0.5583\n",
      "\n",
      "📈 Creating enhanced degradation visualizations...\n"
     ]
    },
    {
     "data": {
      "image/png": "[encoded data removed]",
      "text/plain": [
       "<Figure size 1500x800 with 6 Axes>"
      ]
     },
     "metadata": {},
     "output_type": "display_data"
    },
    {
     "data": {
      "application/vnd.plotly.v1+json": {
       "config": {
        "plotlyServerURL": "https://plot.ly"
       },
       "data": [
        {
         "error_y": {
          "array": {
           "bdata": "NaV3OAV+rT8qVG+Lp2PYP5nUj8q2i9o/s/qd6P7zuD8=",
           "dtype": "f8"
          },
          "type": "data"
         },
         "marker": {
          "color": [
           "blue",
           "green",
           "orange",
           "red"
          ]
         },
         "name": "Avg Degradation Rate",
         "type": "bar",
         "x": [
          "HARD",
          "INTERMEDIATE",
          "MEDIUM",
          "SOFT"
         ],
         "xaxis": "x",
         "y": {
          "bdata": "ew0Vhr+ylb8xRLbq+N68P4cd+qWsqb0/w8AdoQfesj8=",
          "dtype": "f8"
         },
         "yaxis": "y"
        },
        {
         "marker": {
          "color": "lightblue"
         },
         "name": "R² Distribution",
         "nbinsx": 20,
         "type": "histogram",
         "x": {
          "bdata": "3Jb/ue5h0j/CGOLj3iXtP59bqetuIuo/AAko+r2K0D8yHPyn51/lP5XyfijeIew/7P9AO8H83D/g/Gjfe9ToP/bOKosbbto/aA2dytKktz9o6udJON/qPy6/afMpgtQ/sNPle6iFvT/BIK/se7roP+LKxhkmv+U/lJaWUt4qyT8PkRdmBgDqPyz1Q4x15+w/1z5ar0Y96j8Q3QlI7wLPP0iNObz6dec/2Dab2lSMyz8rX29SGwLjPyCQg4Ar8+s/QVZ9f4UC6j8Cv9u/YhXlP+AoSL+cI+c/yGdQc/OOtD8oJEXlDCHIP5rxoQR4SOI/SpZsCQeg7z/2Fw1NPPTWPzjN6zLYObA/hzTln4Yt7j8+poJK1CDYP3B6vW2F9OA/DmK4glbI3T8yDzhOMUvtP4Chgdg83bw/zghIQJUC1D+O4rOsTrTgP4Uvk7m3LO4/aqE6pThg2z8RzXftAMbrPyj7mbi4gOY/gI19t5X00z9ovM1NSCHqP4Q6DfVGmcg/xIhHuX5n0z9XoZVfCNHlPwZ6EauBtNM/1NMzWWF2yT/FY2wPDqjpPxI7tMBnf9g/NOtunN7b5D8ZecnQ2r3uPyPLX09Hdu4/Z448uT3V4T/hWmDDjZDiPw==",
          "dtype": "f8"
         },
         "xaxis": "x2",
         "yaxis": "y2"
        },
        {
         "marker": {
          "color": "purple",
          "size": 8
         },
         "mode": "markers+lines",
         "name": "Avg Degradation by Driver",
         "type": "scatter",
         "x": [
          "ALB",
          "ALO",
          "BOT",
          "HAM",
          "HUL",
          "LEC",
          "MAG",
          "NOR",
          "OCO",
          "PER",
          "PIA",
          "RIC",
          "RUS",
          "SAI",
          "SAR",
          "STR",
          "TSU",
          "VER",
          "ZHO"
         ],
         "xaxis": "x3",
         "y": {
          "bdata": "l57TQQsEpb+LfUJYjzVzP2lS/Rsfl7A/kwwxprOqkD+7twwoj+lzP/SVaESeFsY/Cp03UnEWwj/rqWcUcfCGv6RUM1HpU6g/xDSWb/vh1z9A51Y+aWJQv3dqgOMXJcU/Ooupr6Nyjj94Upk0KZOVP2w/uEwIX7o/k+kehv/1mD9r5oKLBd1TP4WCyQkF06w/2TrjuMvc1z8=",
          "dtype": "f8"
         },
         "yaxis": "y3"
        },
        {
         "domain": {
          "x": [
           0.55,
           1
          ],
          "y": [
           0,
           0.375
          ]
         },
         "labels": [
          "polynomial"
         ],
         "name": "Best Model Types",
         "textinfo": "label+percent",
         "type": "pie",
         "values": {
          "bdata": "Ow==",
          "dtype": "i1"
         }
        }
       ],
       "layout": {
        "annotations": [
         {
          "font": {
           "size": 16
          },
          "showarrow": false,
          "text": "Degradation by Compound",
          "x": 0.225,
          "xanchor": "center",
          "xref": "paper",
          "y": 1,
          "yanchor": "bottom",
          "yref": "paper"
         },
         {
          "font": {
           "size": 16
          },
          "showarrow": false,
          "text": "Model Accuracy Distribution",
          "x": 0.775,
          "xanchor": "center",
          "xref": "paper",
          "y": 1,
          "yanchor": "bottom",
          "yref": "paper"
         },
         {
          "font": {
           "size": 16
          },
          "showarrow": false,
          "text": "Driver Comparison",
          "x": 0.225,
          "xanchor": "center",
          "xref": "paper",
          "y": 0.375,
          "yanchor": "bottom",
          "yref": "paper"
         },
         {
          "font": {
           "size": 16
          },
          "showarrow": false,
          "text": "Compound Usage Analysis",
          "x": 0.775,
          "xanchor": "center",
          "xref": "paper",
          "y": 0.375,
          "yanchor": "bottom",
          "yref": "paper"
         }
        ],
        "height": 800,
        "showlegend": true,
        "template": {
         "data": {
          "bar": [
           {
            "error_x": {
             "color": "#2a3f5f"
            },
            "error_y": {
             "color": "#2a3f5f"
            },
            "marker": {
             "line": {
              "color": "#E5ECF6",
              "width": 0.5
             },
             "pattern": {
              "fillmode": "overlay",
              "size": 10,
              "solidity": 0.2
             }
            },
            "type": "bar"
           }
          ],
          "barpolar": [
           {
            "marker": {
             "line": {
              "color": "#E5ECF6",
              "width": 0.5
             },
             "pattern": {
              "fillmode": "overlay",
              "size": 10,
              "solidity": 0.2
             }
            },
            "type": "barpolar"
           }
          ],
          "carpet": [
           {
            "aaxis": {
             "endlinecolor": "#2a3f5f",
             "gridcolor": "white",
             "linecolor": "white",
             "minorgridcolor": "white",
             "startlinecolor": "#2a3f5f"
            },
            "baxis": {
             "endlinecolor": "#2a3f5f",
             "gridcolor": "white",
             "linecolor": "white",
             "minorgridcolor": "white",
             "startlinecolor": "#2a3f5f"
            },
            "type": "carpet"
           }
          ],
          "choropleth": [
           {
            "colorbar": {
             "outlinewidth": 0,
             "ticks": ""
            },
            "type": "choropleth"
           }
          ],
          "contour": [
           {
            "colorbar": {
             "outlinewidth": 0,
             "ticks": ""
            },
            "colorscale": [
             [
              0,
              "#0d0887"
             ],
             [
              0.1111111111111111,
              "#46039f"
             ],
             [
              0.2222222222222222,
              "#7201a8"
             ],
             [
              0.3333333333333333,
              "#9c179e"
             ],
             [
              0.4444444444444444,
              "#bd3786"
             ],
             [
              0.5555555555555556,
              "#d8576b"
             ],
             [
              0.6666666666666666,
              "#ed7953"
             ],
             [
              0.7777777777777778,
              "#fb9f3a"
             ],
             [
              0.8888888888888888,
              "#fdca26"
             ],
             [
              1,
              "#f0f921"
             ]
            ],
            "type": "contour"
           }
          ],
          "contourcarpet": [
           {
            "colorbar": {
             "outlinewidth": 0,
             "ticks": ""
            },
            "type": "contourcarpet"
           }
          ],
          "heatmap": [
           {
            "colorbar": {
             "outlinewidth": 0,
             "ticks": ""
            },
            "colorscale": [
             [
              0,
              "#0d0887"
             ],
             [
              0.1111111111111111,
              "#46039f"
             ],
             [
              0.2222222222222222,
              "#7201a8"
             ],
             [
              0.3333333333333333,
              "#9c179e"
             ],
             [
              0.4444444444444444,
              "#bd3786"
             ],
             [
              0.5555555555555556,
              "#d8576b"
             ],
             [
              0.6666666666666666,
              "#ed7953"
             ],
             [
              0.7777777777777778,
              "#fb9f3a"
             ],
             [
              0.8888888888888888,
              "#fdca26"
             ],
             [
              1,
              "#f0f921"
             ]
            ],
            "type": "heatmap"
           }
          ],
          "histogram": [
           {
            "marker": {
             "pattern": {
              "fillmode": "overlay",
              "size": 10,
              "solidity": 0.2
             }
            },
            "type": "histogram"
           }
          ],
          "histogram2d": [
           {
            "colorbar": {
             "outlinewidth": 0,
             "ticks": ""
            },
            "colorscale": [
             [
              0,
              "#0d0887"
             ],
             [
              0.1111111111111111,
              "#46039f"
             ],
             [
              0.2222222222222222,
              "#7201a8"
             ],
             [
              0.3333333333333333,
              "#9c179e"
             ],
             [
              0.4444444444444444,
              "#bd3786"
             ],
             [
              0.5555555555555556,
              "#d8576b"
             ],
             [
              0.6666666666666666,
              "#ed7953"
             ],
             [
              0.7777777777777778,
              "#fb9f3a"
             ],
             [
              0.8888888888888888,
              "#fdca26"
             ],
             [
              1,
              "#f0f921"
             ]
            ],
            "type": "histogram2d"
           }
          ],
          "histogram2dcontour": [
           {
            "colorbar": {
             "outlinewidth": 0,
             "ticks": ""
            },
            "colorscale": [
             [
              0,
              "#0d0887"
             ],
             [
              0.1111111111111111,
              "#46039f"
             ],
             [
              0.2222222222222222,
              "#7201a8"
             ],
             [
              0.3333333333333333,
              "#9c179e"
             ],
             [
              0.4444444444444444,
              "#bd3786"
             ],
             [
              0.5555555555555556,
              "#d8576b"
             ],
             [
              0.6666666666666666,
              "#ed7953"
             ],
             [
              0.7777777777777778,
              "#fb9f3a"
             ],
             [
              0.8888888888888888,
              "#fdca26"
             ],
             [
              1,
              "#f0f921"
             ]
            ],
            "type": "histogram2dcontour"
           }
          ],
          "mesh3d": [
           {
            "colorbar": {
             "outlinewidth": 0,
             "ticks": ""
            },
            "type": "mesh3d"
           }
          ],
          "parcoords": [
           {
            "line": {
             "colorbar": {
              "outlinewidth": 0,
              "ticks": ""
             }
            },
            "type": "parcoords"
           }
          ],
          "pie": [
           {
            "automargin": true,
            "type": "pie"
           }
          ],
          "scatter": [
           {
            "fillpattern": {
             "fillmode": "overlay",
             "size": 10,
             "solidity": 0.2
            },
            "type": "scatter"
           }
          ],
          "scatter3d": [
           {
            "line": {
             "colorbar": {
              "outlinewidth": 0,
              "ticks": ""
             }
            },
            "marker": {
             "colorbar": {
              "outlinewidth": 0,
              "ticks": ""
             }
            },
            "type": "scatter3d"
           }
          ],
          "scattercarpet": [
           {
            "marker": {
             "colorbar": {
              "outlinewidth": 0,
              "ticks": ""
             }
            },
            "type": "scattercarpet"
           }
          ],
          "scattergeo": [
           {
            "marker": {
             "colorbar": {
              "outlinewidth": 0,
              "ticks": ""
             }
            },
            "type": "scattergeo"
           }
          ],
          "scattergl": [
           {
            "marker": {
             "colorbar": {
              "outlinewidth": 0,
              "ticks": ""
             }
            },
            "type": "scattergl"
           }
          ],
          "scattermap": [
           {
            "marker": {
             "colorbar": {
              "outlinewidth": 0,
              "ticks": ""
             }
            },
            "type": "scattermap"
           }
          ],
          "scattermapbox": [
           {
            "marker": {
             "colorbar": {
              "outlinewidth": 0,
              "ticks": ""
             }
            },
            "type": "scattermapbox"
           }
          ],
          "scatterpolar": [
           {
            "marker": {
             "colorbar": {
              "outlinewidth": 0,
              "ticks": ""
             }
            },
            "type": "scatterpolar"
           }
          ],
          "scatterpolargl": [
           {
            "marker": {
             "colorbar": {
              "outlinewidth": 0,
              "ticks": ""
             }
            },
            "type": "scatterpolargl"
           }
          ],
          "scatterternary": [
           {
            "marker": {
             "colorbar": {
              "outlinewidth": 0,
              "ticks": ""
             }
            },
            "type": "scatterternary"
           }
          ],
          "surface": [
           {
            "colorbar": {
             "outlinewidth": 0,
             "ticks": ""
            },
            "colorscale": [
             [
              0,
              "#0d0887"
             ],
             [
              0.1111111111111111,
              "#46039f"
             ],
             [
              0.2222222222222222,
              "#7201a8"
             ],
             [
              0.3333333333333333,
              "#9c179e"
             ],
             [
              0.4444444444444444,
              "#bd3786"
             ],
             [
              0.5555555555555556,
              "#d8576b"
             ],
             [
              0.6666666666666666,
              "#ed7953"
             ],
             [
              0.7777777777777778,
              "#fb9f3a"
             ],
             [
              0.8888888888888888,
              "#fdca26"
             ],
             [
              1,
              "#f0f921"
             ]
            ],
            "type": "surface"
           }
          ],
          "table": [
           {
            "cells": {
             "fill": {
              "color": "#EBF0F8"
             },
             "line": {
              "color": "white"
             }
            },
            "header": {
             "fill": {
              "color": "#C8D4E3"
             },
             "line": {
              "color": "white"
             }
            },
            "type": "table"
           }
          ]
         },
         "layout": {
          "annotationdefaults": {
           "arrowcolor": "#2a3f5f",
           "arrowhead": 0,
           "arrowwidth": 1
          },
          "autotypenumbers": "strict",
          "coloraxis": {
           "colorbar": {
            "outlinewidth": 0,
            "ticks": ""
           }
          },
          "colorscale": {
           "diverging": [
            [
             0,
             "#8e0152"
            ],
            [
             0.1,
             "#c51b7d"
            ],
            [
             0.2,
             "#de77ae"
            ],
            [
             0.3,
             "#f1b6da"
            ],
            [
             0.4,
             "#fde0ef"
            ],
            [
             0.5,
             "#f7f7f7"
            ],
            [
             0.6,
             "#e6f5d0"
            ],
            [
             0.7,
             "#b8e186"
            ],
            [
             0.8,
             "#7fbc41"
            ],
            [
             0.9,
             "#4d9221"
            ],
            [
             1,
             "#276419"
            ]
           ],
           "sequential": [
            [
             0,
             "#0d0887"
            ],
            [
             0.1111111111111111,
             "#46039f"
            ],
            [
             0.2222222222222222,
             "#7201a8"
            ],
            [
             0.3333333333333333,
             "#9c179e"
            ],
            [
             0.4444444444444444,
             "#bd3786"
            ],
            [
             0.5555555555555556,
             "#d8576b"
            ],
            [
             0.6666666666666666,
             "#ed7953"
            ],
            [
             0.7777777777777778,
             "#fb9f3a"
            ],
            [
             0.8888888888888888,
             "#fdca26"
            ],
            [
             1,
             "#f0f921"
            ]
           ],
           "sequentialminus": [
            [
             0,
             "#0d0887"
            ],
            [
             0.1111111111111111,
             "#46039f"
            ],
            [
             0.2222222222222222,
             "#7201a8"
            ],
            [
             0.3333333333333333,
             "#9c179e"
            ],
            [
             0.4444444444444444,
             "#bd3786"
            ],
            [
             0.5555555555555556,
             "#d8576b"
            ],
            [
             0.6666666666666666,
             "#ed7953"
            ],
            [
             0.7777777777777778,
             "#fb9f3a"
            ],
            [
             0.8888888888888888,
             "#fdca26"
            ],
            [
             1,
             "#f0f921"
            ]
           ]
          },
          "colorway": [
           "#636efa",
           "#EF553B",
           "#00cc96",
           "#ab63fa",
           "#FFA15A",
           "#19d3f3",
           "#FF6692",
           "#B6E880",
           "#FF97FF",
           "#FECB52"
          ],
          "font": {
           "color": "#2a3f5f"
          },
          "geo": {
           "bgcolor": "white",
           "lakecolor": "white",
           "landcolor": "#E5ECF6",
           "showlakes": true,
           "showland": true,
           "subunitcolor": "white"
          },
          "hoverlabel": {
           "align": "left"
          },
          "hovermode": "closest",
          "mapbox": {
           "style": "light"
          },
          "paper_bgcolor": "white",
          "plot_bgcolor": "#E5ECF6",
          "polar": {
           "angularaxis": {
            "gridcolor": "white",
            "linecolor": "white",
            "ticks": ""
           },
           "bgcolor": "#E5ECF6",
           "radialaxis": {
            "gridcolor": "white",
            "linecolor": "white",
            "ticks": ""
           }
          },
          "scene": {
           "xaxis": {
            "backgroundcolor": "#E5ECF6",
            "gridcolor": "white",
            "gridwidth": 2,
            "linecolor": "white",
            "showbackground": true,
            "ticks": "",
            "zerolinecolor": "white"
           },
           "yaxis": {
            "backgroundcolor": "#E5ECF6",
            "gridcolor": "white",
            "gridwidth": 2,
            "linecolor": "white",
            "showbackground": true,
            "ticks": "",
            "zerolinecolor": "white"
           },
           "zaxis": {
            "backgroundcolor": "#E5ECF6",
            "gridcolor": "white",
            "gridwidth": 2,
            "linecolor": "white",
            "showbackground": true,
            "ticks": "",
            "zerolinecolor": "white"
           }
          },
          "shapedefaults": {
           "line": {
            "color": "#2a3f5f"
           }
          },
          "ternary": {
           "aaxis": {
            "gridcolor": "white",
            "linecolor": "white",
            "ticks": ""
           },
           "baxis": {
            "gridcolor": "white",
            "linecolor": "white",
            "ticks": ""
           },
           "bgcolor": "#E5ECF6",
           "caxis": {
            "gridcolor": "white",
            "linecolor": "white",
            "ticks": ""
           }
          },
          "title": {
           "x": 0.05
          },
          "xaxis": {
           "automargin": true,
           "gridcolor": "white",
           "linecolor": "white",
           "ticks": "",
           "title": {
            "standoff": 15
           },
           "zerolinecolor": "white",
           "zerolinewidth": 2
          },
          "yaxis": {
           "automargin": true,
           "gridcolor": "white",
           "linecolor": "white",
           "ticks": "",
           "title": {
            "standoff": 15
           },
           "zerolinecolor": "white",
           "zerolinewidth": 2
          }
         }
        },
        "title": {
         "text": "🏎️ Enhanced F1 Tire Degradation Analysis Dashboard",
         "x": 0.5
        },
        "xaxis": {
         "anchor": "y",
         "domain": [
          0,
          0.45
         ],
         "title": {
          "text": "Compound"
         }
        },
        "xaxis2": {
         "anchor": "y2",
         "domain": [
          0.55,
          1
         ],
         "title": {
          "text": "R² Score"
         }
        },
        "xaxis3": {
         "anchor": "y3",
         "domain": [
          0,
          0.45
         ],
         "title": {
          "text": "Driver"
         }
        },
        "yaxis": {
         "anchor": "x",
         "domain": [
          0.625,
          1
         ],
         "title": {
          "text": "Degradation Rate (s/lap)"
         }
        },
        "yaxis2": {
         "anchor": "x2",
         "domain": [
          0.625,
          1
         ],
         "title": {
          "text": "Frequency"
         }
        },
        "yaxis3": {
         "anchor": "x3",
         "domain": [
          0,
          0.375
         ],
         "title": {
          "text": "Avg Degradation (s/lap)"
         }
        }
       }
      }
     },
     "metadata": {},
     "output_type": "display_data"
    },
    {
     "name": "stdout",
     "output_type": "stream",
     "text": [
      "\n",
      "🔮 Example Predictions:\n",
      "----------------------------------------\n",
      "HAM on SOFT (lap 10): 89.641s (medium confidence)\n",
      "HAM on MEDIUM (lap 15): 91.608s (medium confidence)\n",
      "VER on HARD (lap 25): 88.775s (medium confidence)\n",
      "\n",
      "✅ Enhanced Tire Degradation Analysis Complete!\n"
     ]
    }
   ],
   "source": [
    "# Cell 4: Enhanced Tire Degradation Model with Advanced Visualization (FIXED)\n",
    "import os\n",
    "import warnings\n",
    "import numpy as np\n",
    "import pandas as pd\n",
    "import matplotlib.pyplot as plt\n",
    "import seaborn as sns\n",
    "import plotly.express as px\n",
    "import plotly.graph_objects as go\n",
    "from plotly.subplots import make_subplots\n",
    "\n",
    "# ML and statistical imports\n",
    "from sklearn.linear_model import LinearRegression\n",
    "from sklearn.preprocessing import PolynomialFeatures\n",
    "from sklearn.pipeline import Pipeline\n",
    "from sklearn.metrics import r2_score, mean_absolute_error\n",
    "from scipy import stats\n",
    "import itertools\n",
    "\n",
    "class EnhancedTireDegradationModel:\n",
    "    \"\"\"Enhanced tire degradation model with multiple regression types and advanced visualization\"\"\"\n",
    "    \n",
    "    def __init__(self, clean_laps_df):\n",
    "        self.clean_laps = clean_laps_df\n",
    "        self.models = []\n",
    "        self.degradation_analysis = {}\n",
    "        \n",
    "    def fit_degradation_models(self, model_types=['linear', 'polynomial']):\n",
    "        \"\"\"Fit multiple regression models for each stint with enhanced analysis\"\"\"\n",
    "        print(\"🔧 Fitting enhanced tire degradation models...\")\n",
    "        print(f\"Model types: {model_types}\")\n",
    "        \n",
    "        model_results = []\n",
    "        \n",
    "        for (driver, stint, compound), stint_laps in self.clean_laps.groupby(['Driver', 'Stint', 'Compound']):\n",
    "            stint_laps = stint_laps.dropna(subset=['TyreLife', 'LapTimeSeconds'])\n",
    "            \n",
    "            if len(stint_laps) < 5:  # Need minimum laps for reliable model\n",
    "                continue\n",
    "            \n",
    "            X = stint_laps[['TyreLife']].values\n",
    "            y = stint_laps['LapTimeSeconds'].values\n",
    "            \n",
    "            # Remove outliers using IQR method\n",
    "            Q1 = np.percentile(y, 25)\n",
    "            Q3 = np.percentile(y, 75)\n",
    "            IQR = Q3 - Q1\n",
    "            lower_bound = Q1 - 1.5 * IQR\n",
    "            upper_bound = Q3 + 1.5 * IQR\n",
    "            \n",
    "            mask = (y >= lower_bound) & (y <= upper_bound)\n",
    "            X_clean = X[mask]\n",
    "            y_clean = y[mask]\n",
    "            \n",
    "            if len(X_clean) < 3:\n",
    "                continue\n",
    "            \n",
    "            stint_models = {}\n",
    "            \n",
    "            # Linear regression\n",
    "            if 'linear' in model_types:\n",
    "                linear_model = LinearRegression()\n",
    "                linear_model.fit(X_clean, y_clean)\n",
    "                y_pred_linear = linear_model.predict(X_clean)\n",
    "                \n",
    "                stint_models['linear'] = {\n",
    "                    'model': linear_model,\n",
    "                    'r2': r2_score(y_clean, y_pred_linear),\n",
    "                    'mae': mean_absolute_error(y_clean, y_pred_linear),\n",
    "                    'slope': linear_model.coef_[0],\n",
    "                    'intercept': linear_model.intercept_\n",
    "                }\n",
    "            \n",
    "            # Polynomial regression (degree 2)\n",
    "            if 'polynomial' in model_types:\n",
    "                poly_model = Pipeline([\n",
    "                    ('poly', PolynomialFeatures(degree=2)),\n",
    "                    ('linear', LinearRegression())\n",
    "                ])\n",
    "                poly_model.fit(X_clean, y_clean)\n",
    "                y_pred_poly = poly_model.predict(X_clean)\n",
    "                \n",
    "                # Extract coefficients for polynomial\n",
    "                poly_features = poly_model.named_steps['poly']\n",
    "                linear_step = poly_model.named_steps['linear']\n",
    "                \n",
    "                stint_models['polynomial'] = {\n",
    "                    'model': poly_model,\n",
    "                    'r2': r2_score(y_clean, y_pred_poly),\n",
    "                    'mae': mean_absolute_error(y_clean, y_pred_poly),\n",
    "                    'coefficients': linear_step.coef_,\n",
    "                    'intercept': linear_step.intercept_\n",
    "                }\n",
    "            \n",
    "            # Choose best model based on R²\n",
    "            best_model_type = max(stint_models.keys(), key=lambda k: stint_models[k]['r2'])\n",
    "            best_model = stint_models[best_model_type]\n",
    "            \n",
    "            model_results.append({\n",
    "                'Driver': driver,\n",
    "                'Stint': stint,\n",
    "                'Compound': compound,\n",
    "                'BestModelType': best_model_type,\n",
    "                'R2Score': best_model['r2'],\n",
    "                'MAE': best_model['mae'],\n",
    "                'NumLaps': len(stint_laps),\n",
    "                'NumCleanLaps': len(X_clean),\n",
    "                'MeanLapTime': y.mean(),\n",
    "                'StdLapTime': y.std(),\n",
    "                'LinearSlope': stint_models.get('linear', {}).get('slope', np.nan),\n",
    "                'LinearIntercept': stint_models.get('linear', {}).get('intercept', np.nan),\n",
    "                'TyreLifeRange': [X.min(), X.max()],\n",
    "                'OutliersRemoved': len(X) - len(X_clean)\n",
    "            })\n",
    "            \n",
    "            # Store detailed model info for plotting\n",
    "            self.degradation_analysis[(driver, stint, compound)] = {\n",
    "                'models': stint_models,\n",
    "                'best_model_type': best_model_type,\n",
    "                'X_clean': X_clean,\n",
    "                'y_clean': y_clean,\n",
    "                'X_original': X,\n",
    "                'y_original': y\n",
    "            }\n",
    "        \n",
    "        self.models_df = pd.DataFrame(model_results)\n",
    "        if not self.models_df.empty:\n",
    "            self.models_df.to_csv('data/enhanced_tire_degradation_models.csv', index=False)\n",
    "            print(f\"✅ Fitted {len(model_results)} enhanced degradation models\")\n",
    "            \n",
    "            # Generate summary statistics\n",
    "            self.generate_degradation_summary()\n",
    "        else:\n",
    "            print(\"❌ No valid models could be fitted\")\n",
    "        \n",
    "        return self.models_df\n",
    "    \n",
    "    def generate_degradation_summary(self):\n",
    "        \"\"\"Generate comprehensive degradation summary by compound\"\"\"\n",
    "        if self.models_df.empty:\n",
    "            return\n",
    "        \n",
    "        print(\"\\n📊 DEGRADATION ANALYSIS SUMMARY:\")\n",
    "        print(\"=\" * 60)\n",
    "        \n",
    "        # Summary by compound\n",
    "        compound_summary = self.models_df.groupby('Compound').agg({\n",
    "            'LinearSlope': ['mean', 'std', 'count'],\n",
    "            'R2Score': ['mean', 'min', 'max'],\n",
    "            'MAE': 'mean',\n",
    "            'NumCleanLaps': 'sum'\n",
    "        }).round(4)\n",
    "        \n",
    "        print(\"\\n🔧 Compound Degradation Rates:\")\n",
    "        for compound in compound_summary.index:\n",
    "            slope_mean = compound_summary.loc[compound, ('LinearSlope', 'mean')]\n",
    "            slope_std = compound_summary.loc[compound, ('LinearSlope', 'std')]\n",
    "            r2_mean = compound_summary.loc[compound, ('R2Score', 'mean')]\n",
    "            count = compound_summary.loc[compound, ('LinearSlope', 'count')]\n",
    "            \n",
    "            print(f\"  {compound:12s}: {slope_mean:+.4f}±{slope_std:.4f} s/lap \"\n",
    "                  f\"(R²={r2_mean:.3f}, n={count})\")\n",
    "        \n",
    "        # Best and worst performers\n",
    "        print(f\"\\n🏆 Best Model Accuracy: R² = {self.models_df['R2Score'].max():.4f}\")\n",
    "        print(f\"📉 Worst Model Accuracy: R² = {self.models_df['R2Score'].min():.4f}\")\n",
    "        print(f\"📊 Average Model Accuracy: R² = {self.models_df['R2Score'].mean():.4f}\")\n",
    "    \n",
    "    def plot_degradation_comparison(self, drivers=['HAM', 'VER'], compounds=['SOFT', 'MEDIUM', 'HARD']):\n",
    "        \"\"\"Create comprehensive degradation comparison plot\"\"\"\n",
    "        \n",
    "        if self.models_df.empty:\n",
    "            print(\"❌ No models available for plotting\")\n",
    "            return\n",
    "        \n",
    "        # Filter available combinations\n",
    "        available_data = []\n",
    "        for driver in drivers:\n",
    "            for compound in compounds:\n",
    "                driver_compound_data = self.models_df[\n",
    "                    (self.models_df['Driver'] == driver) & \n",
    "                    (self.models_df['Compound'] == compound)\n",
    "                ]\n",
    "                if not driver_compound_data.empty:\n",
    "                    available_data.append((driver, compound))\n",
    "        \n",
    "        if not available_data:\n",
    "            print(\"❌ No data available for selected drivers/compounds\")\n",
    "            return\n",
    "        \n",
    "        # Create subplots\n",
    "        n_plots = len(available_data)\n",
    "        cols = min(3, n_plots)\n",
    "        rows = (n_plots + cols - 1) // cols\n",
    "        \n",
    "        fig, axes = plt.subplots(rows, cols, figsize=(5*cols, 4*rows))\n",
    "        if n_plots == 1:\n",
    "            axes = [axes]\n",
    "        elif rows == 1:\n",
    "            axes = axes.reshape(1, -1)\n",
    "        axes_flat = axes.flatten() if n_plots > 1 else axes\n",
    "        \n",
    "        colors = {'SOFT': 'red', 'MEDIUM': 'orange', 'HARD': 'blue', 'INTERMEDIATE': 'green'}\n",
    "        \n",
    "        for idx, (driver, compound) in enumerate(available_data):\n",
    "            ax = axes_flat[idx]\n",
    "            \n",
    "            # Find matching stint data\n",
    "            stint_data = None\n",
    "            for (d, s, c), data in self.degradation_analysis.items():\n",
    "                if d == driver and c == compound:\n",
    "                    stint_data = data\n",
    "                    break\n",
    "            \n",
    "            if stint_data is None:\n",
    "                ax.text(0.5, 0.5, f'No data for\\n{driver} - {compound}', \n",
    "                       ha='center', va='center', transform=ax.transAxes)\n",
    "                ax.set_title(f'{driver} - {compound}')\n",
    "                continue\n",
    "            \n",
    "            X_orig = stint_data['X_original'].flatten()\n",
    "            y_orig = stint_data['y_original']\n",
    "            X_clean = stint_data['X_clean'].flatten()\n",
    "            y_clean = stint_data['y_clean']\n",
    "            \n",
    "            # Plot original data (including outliers)\n",
    "            ax.scatter(X_orig, y_orig, alpha=0.3, color='gray', s=20, label='All Data')\n",
    "            \n",
    "            # Plot clean data\n",
    "            ax.scatter(X_clean, y_clean, alpha=0.7, color=colors.get(compound, 'black'), \n",
    "                      s=30, label='Clean Data')\n",
    "            \n",
    "            # Plot best fit line\n",
    "            models = stint_data['models']\n",
    "            best_type = stint_data['best_model_type']\n",
    "            \n",
    "            if best_type in models:\n",
    "                x_range = np.linspace(X_orig.min(), X_orig.max(), 100).reshape(-1, 1)\n",
    "                y_pred = models[best_type]['model'].predict(x_range)\n",
    "                \n",
    "                ax.plot(x_range, y_pred, \n",
    "                       color=colors.get(compound, 'black'), \n",
    "                       linewidth=2, linestyle='-',\n",
    "                       label=f'{best_type.title()} Fit (R²={models[best_type][\"r2\"]:.3f})')\n",
    "            \n",
    "            # Formatting\n",
    "            ax.set_xlabel('Tire Life (laps)')\n",
    "            ax.set_ylabel('Lap Time (seconds)')\n",
    "            ax.set_title(f'{driver} - {compound}')\n",
    "            ax.legend(fontsize=8)\n",
    "            ax.grid(True, alpha=0.3)\n",
    "        \n",
    "        # Hide extra subplots\n",
    "        for idx in range(n_plots, len(axes_flat)):\n",
    "            axes_flat[idx].set_visible(False)\n",
    "        \n",
    "        plt.suptitle('Enhanced Tire Degradation Analysis', fontsize=16, fontweight='bold')\n",
    "        plt.tight_layout()\n",
    "        plt.show()\n",
    "    \n",
    "    def create_interactive_degradation_dashboard(self):\n",
    "        \"\"\"Create interactive Plotly dashboard for degradation analysis (FIXED)\"\"\"\n",
    "        \n",
    "        if self.models_df.empty:\n",
    "            print(\"❌ No models available for interactive dashboard\")\n",
    "            return\n",
    "        \n",
    "        try:\n",
    "            # Create subplot figure with proper specs for different chart types\n",
    "            fig = make_subplots(\n",
    "                rows=2, cols=2,\n",
    "                subplot_titles=('Degradation by Compound', 'Model Accuracy Distribution', \n",
    "                               'Driver Comparison', 'Compound Usage Analysis'),\n",
    "                specs=[[{\"secondary_y\": False}, {\"secondary_y\": False}],\n",
    "                       [{\"secondary_y\": False}, {\"type\": \"domain\"}]]  # domain for pie chart\n",
    "            )\n",
    "            \n",
    "            # Plot 1: Degradation rates by compound\n",
    "            compound_degradation = self.models_df.groupby('Compound')['LinearSlope'].agg(['mean', 'std']).reset_index()\n",
    "            \n",
    "            fig.add_trace(\n",
    "                go.Bar(\n",
    "                    name='Avg Degradation Rate',\n",
    "                    x=compound_degradation['Compound'],\n",
    "                    y=compound_degradation['mean'],\n",
    "                    error_y=dict(type='data', array=compound_degradation['std']),\n",
    "                    marker_color=['red' if c=='SOFT' else 'orange' if c=='MEDIUM' else 'blue' if c=='HARD' else 'green' \n",
    "                                 for c in compound_degradation['Compound']]\n",
    "                ),\n",
    "                row=1, col=1\n",
    "            )\n",
    "            \n",
    "            # Plot 2: R² distribution\n",
    "            fig.add_trace(\n",
    "                go.Histogram(\n",
    "                    x=self.models_df['R2Score'],\n",
    "                    nbinsx=20,\n",
    "                    name='R² Distribution',\n",
    "                    marker_color='lightblue'\n",
    "                ),\n",
    "                row=1, col=2\n",
    "            )\n",
    "            \n",
    "            # Plot 3: Driver performance comparison\n",
    "            driver_avg = self.models_df.groupby('Driver')['LinearSlope'].mean().reset_index()\n",
    "            fig.add_trace(\n",
    "                go.Scatter(\n",
    "                    x=driver_avg['Driver'],\n",
    "                    y=driver_avg['LinearSlope'],\n",
    "                    mode='markers+lines',\n",
    "                    name='Avg Degradation by Driver',\n",
    "                    marker=dict(size=8, color='purple')\n",
    "                ),\n",
    "                row=2, col=1\n",
    "            )\n",
    "            \n",
    "            # Plot 4: Model type usage (PIE CHART - FIXED)\n",
    "            model_counts = self.models_df['BestModelType'].value_counts()\n",
    "            fig.add_trace(\n",
    "                go.Pie(\n",
    "                    labels=model_counts.index,\n",
    "                    values=model_counts.values,\n",
    "                    name='Best Model Types',\n",
    "                    textinfo='label+percent'\n",
    "                ),\n",
    "                row=2, col=2\n",
    "            )\n",
    "            \n",
    "            # Update layout\n",
    "            fig.update_layout(\n",
    "                height=800,\n",
    "                title_text=\"🏎️ Enhanced F1 Tire Degradation Analysis Dashboard\",\n",
    "                title_x=0.5,\n",
    "                showlegend=True\n",
    "            )\n",
    "            \n",
    "            # Update axes labels\n",
    "            fig.update_xaxes(title_text=\"Compound\", row=1, col=1)\n",
    "            fig.update_yaxes(title_text=\"Degradation Rate (s/lap)\", row=1, col=1)\n",
    "            fig.update_xaxes(title_text=\"R² Score\", row=1, col=2)\n",
    "            fig.update_yaxes(title_text=\"Frequency\", row=1, col=2)\n",
    "            fig.update_xaxes(title_text=\"Driver\", row=2, col=1)\n",
    "            fig.update_yaxes(title_text=\"Avg Degradation (s/lap)\", row=2, col=1)\n",
    "            \n",
    "            fig.show()\n",
    "            \n",
    "        except Exception as e:\n",
    "            print(f\"❌ Error creating interactive dashboard: {str(e)}\")\n",
    "            print(\"📊 Creating simplified dashboard instead...\")\n",
    "            \n",
    "            # Fallback to simpler matplotlib visualization\n",
    "            self.create_fallback_dashboard()\n",
    "    \n",
    "    def create_fallback_dashboard(self):\n",
    "        \"\"\"Create fallback matplotlib dashboard if plotly fails\"\"\"\n",
    "        \n",
    "        fig, axes = plt.subplots(2, 2, figsize=(15, 10))\n",
    "        \n",
    "        # Plot 1: Degradation by compound\n",
    "        compound_degradation = self.models_df.groupby('Compound')['LinearSlope'].agg(['mean', 'std'])\n",
    "        \n",
    "        axes[0, 0].bar(compound_degradation.index, compound_degradation['mean'], \n",
    "                       yerr=compound_degradation['std'], capsize=5,\n",
    "                       color=['red' if c=='SOFT' else 'orange' if c=='MEDIUM' else 'blue' for c in compound_degradation.index])\n",
    "        axes[0, 0].set_title('Degradation by Compound')\n",
    "        axes[0, 0].set_ylabel('Degradation Rate (s/lap)')\n",
    "        axes[0, 0].grid(True, alpha=0.3)\n",
    "        \n",
    "        # Plot 2: R² distribution\n",
    "        axes[0, 1].hist(self.models_df['R2Score'], bins=20, color='lightblue', alpha=0.7)\n",
    "        axes[0, 1].set_title('Model Accuracy Distribution')\n",
    "        axes[0, 1].set_xlabel('R² Score')\n",
    "        axes[0, 1].set_ylabel('Frequency')\n",
    "        axes[0, 1].grid(True, alpha=0.3)\n",
    "        \n",
    "        # Plot 3: Driver comparison\n",
    "        driver_avg = self.models_df.groupby('Driver')['LinearSlope'].mean()\n",
    "        axes[1, 0].plot(driver_avg.index, driver_avg.values, 'o-', color='purple')\n",
    "        axes[1, 0].set_title('Driver Degradation Comparison')\n",
    "        axes[1, 0].set_xlabel('Driver')\n",
    "        axes[1, 0].set_ylabel('Avg Degradation (s/lap)')\n",
    "        axes[1, 0].tick_params(axis='x', rotation=45)\n",
    "        axes[1, 0].grid(True, alpha=0.3)\n",
    "        \n",
    "        # Plot 4: Model types\n",
    "        model_counts = self.models_df['BestModelType'].value_counts()\n",
    "        axes[1, 1].pie(model_counts.values, labels=model_counts.index, autopct='%1.1f%%')\n",
    "        axes[1, 1].set_title('Best Model Types')\n",
    "        \n",
    "        plt.suptitle('F1 Tire Degradation Analysis Dashboard', fontsize=16)\n",
    "        plt.tight_layout()\n",
    "        plt.show()\n",
    "    \n",
    "    def get_degradation_prediction(self, driver, compound, tire_life):\n",
    "        \"\"\"Predict lap time for given driver, compound, and tire life\"\"\"\n",
    "        \n",
    "        # Find best model for this driver/compound combination\n",
    "        matching_models = self.models_df[\n",
    "            (self.models_df['Driver'] == driver) & \n",
    "            (self.models_df['Compound'] == compound)\n",
    "        ]\n",
    "        \n",
    "        if matching_models.empty:\n",
    "            # Fallback to compound average\n",
    "            compound_models = self.models_df[self.models_df['Compound'] == compound]\n",
    "            if compound_models.empty:\n",
    "                return None\n",
    "            \n",
    "            avg_slope = compound_models['LinearSlope'].mean()\n",
    "            avg_intercept = compound_models['LinearIntercept'].mean()\n",
    "            \n",
    "            return {\n",
    "                'predicted_laptime': avg_slope * tire_life + avg_intercept,\n",
    "                'prediction_type': 'compound_average',\n",
    "                'confidence': 'low'\n",
    "            }\n",
    "        \n",
    "        # Use the best available model\n",
    "        best_model_row = matching_models.iloc[0]\n",
    "        predicted_time = best_model_row['LinearSlope'] * tire_life + best_model_row['LinearIntercept']\n",
    "        \n",
    "        return {\n",
    "            'predicted_laptime': predicted_time,\n",
    "            'prediction_type': 'driver_specific',\n",
    "            'confidence': 'high' if best_model_row['R2Score'] > 0.8 else 'medium',\n",
    "            'r2_score': best_model_row['R2Score'],\n",
    "            'model_type': best_model_row['BestModelType']\n",
    "        }\n",
    "\n",
    "# Create and fit enhanced models\n",
    "print(\"🚀 Initializing Enhanced Tire Degradation Analysis...\")\n",
    "enhanced_deg_model = EnhancedTireDegradationModel(analyzer.clean_laps)\n",
    "enhanced_degradation_models = enhanced_deg_model.fit_degradation_models(['linear', 'polynomial'])\n",
    "\n",
    "# Create visualizations\n",
    "if not enhanced_degradation_models.empty:\n",
    "    print(\"\\n📈 Creating enhanced degradation visualizations...\")\n",
    "    \n",
    "    # Static comparison plot\n",
    "    enhanced_deg_model.plot_degradation_comparison(['HAM', 'VER', 'LEC'], ['SOFT', 'MEDIUM', 'HARD'])\n",
    "    \n",
    "    # Interactive dashboard\n",
    "    enhanced_deg_model.create_interactive_degradation_dashboard()\n",
    "    \n",
    "    # Example prediction\n",
    "    print(\"\\n🔮 Example Predictions:\")\n",
    "    print(\"-\" * 40)\n",
    "    test_cases = [\n",
    "        ('HAM', 'SOFT', 10),\n",
    "        ('HAM', 'MEDIUM', 15), \n",
    "        ('VER', 'HARD', 25)\n",
    "    ]\n",
    "    \n",
    "    for driver, compound, tire_life in test_cases:\n",
    "        prediction = enhanced_deg_model.get_degradation_prediction(driver, compound, tire_life)\n",
    "        if prediction:\n",
    "            print(f\"{driver} on {compound} (lap {tire_life}): \"\n",
    "                  f\"{prediction['predicted_laptime']:.3f}s \"\n",
    "                  f\"({prediction['confidence']} confidence)\")\n",
    "        else:\n",
    "            print(f\"{driver} on {compound}: No prediction available\")\n",
    "\n",
    "else:\n",
    "    print(\"❌ No enhanced models could be created\")\n",
    "\n",
    "print(\"\\n✅ Enhanced Tire Degradation Analysis Complete!\")\n"
   ]
  },
  {
   "cell_type": "code",
   "execution_count": 5,
   "id": "dfe74dcc",
   "metadata": {},
   "outputs": [
    {
     "name": "stdout",
     "output_type": "stream",
     "text": [
      "🚀 Initializing Enhanced F1 Visualization Dashboard...\n",
      "Available variables: ['laps', 'enhanced_degradation_models (using as degradation_models)']\n",
      "✅ Enhanced degradation model integration available\n",
      "🏎️ Enhanced F1 Visualization Dashboard Initialized\n",
      "Available drivers: 19\n",
      "Available compounds: ['HARD', 'INTERMEDIATE', 'MEDIUM', 'SOFT']\n",
      "\n",
      "✅ Enhanced Dashboard Created Successfully!\n",
      "\n",
      "🏆 ENHANCED FEATURES:\n",
      " • Integration with enhanced tire degradation models\n",
      " • Predicted vs actual lap time comparison\n",
      " • Advanced compound and strategy analysis\n",
      " • Enhanced sector performance visualization\n",
      " • Comprehensive stint analysis with statistics\n",
      " • Tabbed interface for organized analysis\n",
      " • Professional styling and color coding\n",
      " • Real-time filtering and interaction\n",
      " • Fixed all formatting and indexing errors\n",
      "🚀 Creating Comprehensive F1 Dashboard...\n"
     ]
    },
    {
     "name": "stdout",
     "output_type": "stream",
     "text": [
      "\n",
      "🎛️ Comprehensive Dashboard Ready:\n"
     ]
    },
    {
     "data": {
      "application/vnd.jupyter.widget-view+json": {
       "model_id": "9b5f4861877f4dad970f929870f1ae02",
       "version_major": 2,
       "version_minor": 0
      },
      "text/plain": [
       "Tab(children=(interactive(children=(Dropdown(description='🏎️ Driver:', index=3, options=('ALB', 'ALO', 'BOT', …"
      ]
     },
     "metadata": {},
     "output_type": "display_data"
    },
    {
     "name": "stdout",
     "output_type": "stream",
     "text": [
      "\n",
      "✅ Enhanced F1 Visualization Dashboard Complete!\n"
     ]
    }
   ],
   "source": [
    "# Enhanced F1 Visualization Dashboard with Integration to Enhanced Degradation Models (COMPLETE FIXED VERSION)\n",
    "import plotly.graph_objects as go\n",
    "from plotly.subplots import make_subplots\n",
    "import plotly.express as px\n",
    "import ipywidgets as widgets\n",
    "from IPython.display import display\n",
    "import pandas as pd\n",
    "import numpy as np\n",
    "\n",
    "class EnhancedF1VisualizationDashboard:\n",
    "    \"\"\"Enhanced Interactive F1 data visualization dashboard with degradation model integration\"\"\"\n",
    "    \n",
    "    def __init__(self, laps_df, degradation_models_df, enhanced_deg_model=None):\n",
    "        self.laps = laps_df\n",
    "        self.models = degradation_models_df\n",
    "        self.enhanced_deg_model = enhanced_deg_model  # Integration with enhanced degradation model\n",
    "        \n",
    "        print(\"🏎️ Enhanced F1 Visualization Dashboard Initialized\")\n",
    "        print(f\"Available drivers: {len(self.laps['Driver'].unique())}\")\n",
    "        print(f\"Available compounds: {sorted(self.laps['Compound'].unique())}\")\n",
    "        \n",
    "    def create_enhanced_pace_dashboard(self):\n",
    "        \"\"\"Create enhanced interactive pace analysis dashboard with degradation predictions\"\"\"\n",
    "        \n",
    "        # Enhanced widgets with better styling\n",
    "        driver_widget = widgets.Dropdown(\n",
    "            options=sorted(self.laps['Driver'].unique()),\n",
    "            value='HAM',\n",
    "            description='🏎️ Driver:',\n",
    "            style={'description_width': 'initial'}\n",
    "        )\n",
    "        \n",
    "        stint_widget = widgets.IntSlider(\n",
    "            value=1,\n",
    "            min=1,\n",
    "            max=int(self.laps['Stint'].max()),\n",
    "            description='📊 Stint:',\n",
    "            style={'description_width': 'initial'}\n",
    "        )\n",
    "        \n",
    "        compound_widget = widgets.Dropdown(\n",
    "            options=['All'] + sorted(self.laps['Compound'].unique()),\n",
    "            value='All',\n",
    "            description='🔧 Compound:',\n",
    "            style={'description_width': 'initial'}\n",
    "        )\n",
    "        \n",
    "        def update_enhanced_pace_plot(driver, stint, compound_filter):\n",
    "            # Filter data based on selections\n",
    "            data = self.laps[\n",
    "                (self.laps['Driver'] == driver) & \n",
    "                (self.laps['Stint'] == stint)\n",
    "            ]\n",
    "            \n",
    "            if compound_filter != 'All':\n",
    "                data = data[data['Compound'] == compound_filter]\n",
    "            \n",
    "            if data.empty:\n",
    "                print(f\"❌ No data for {driver} stint {stint} with {compound_filter}\")\n",
    "                return\n",
    "            \n",
    "            # Create enhanced subplots with proper specs\n",
    "            fig = make_subplots(\n",
    "                rows=2, cols=2,\n",
    "                subplot_titles=(\n",
    "                    'Lap Times vs Predicted', \n",
    "                    'Tire Degradation Analysis', \n",
    "                    'Sector Performance', \n",
    "                    'Stint Summary'\n",
    "                ),\n",
    "                specs=[\n",
    "                    [{\"secondary_y\": False}, {\"secondary_y\": False}],\n",
    "                    [{\"secondary_y\": False}, {\"type\": \"domain\"}]  # domain for pie chart\n",
    "                ]\n",
    "            )\n",
    "            \n",
    "            # Plot 1: Enhanced Lap Times with Predictions\n",
    "            fig.add_trace(\n",
    "                go.Scatter(\n",
    "                    x=data['LapNumber'],\n",
    "                    y=data['LapTimeSeconds'],\n",
    "                    mode='lines+markers',\n",
    "                    name='Actual Lap Time',\n",
    "                    line=dict(color='blue', width=3),\n",
    "                    marker=dict(size=6)\n",
    "                ),\n",
    "                row=1, col=1\n",
    "            )\n",
    "            \n",
    "            # Add predicted lap times if enhanced model is available\n",
    "            if self.enhanced_deg_model and hasattr(self.enhanced_deg_model, 'degradation_analysis'):\n",
    "                compound = data['Compound'].iloc[0] if not data.empty else 'MEDIUM'\n",
    "                \n",
    "                # Get prediction for this driver/compound\n",
    "                prediction_data = []\n",
    "                for _, row in data.iterrows():\n",
    "                    prediction = self.enhanced_deg_model.get_degradation_prediction(\n",
    "                        driver, compound, row['TyreLife']\n",
    "                    )\n",
    "                    if prediction:\n",
    "                        prediction_data.append(prediction['predicted_laptime'])\n",
    "                    else:\n",
    "                        prediction_data.append(np.nan)\n",
    "                \n",
    "                if prediction_data and not all(np.isnan(prediction_data)):\n",
    "                    fig.add_trace(\n",
    "                        go.Scatter(\n",
    "                            x=data['LapNumber'],\n",
    "                            y=prediction_data,\n",
    "                            mode='lines',\n",
    "                            name='Predicted (Enhanced Model)',\n",
    "                            line=dict(color='red', width=2, dash='dash')\n",
    "                        ),\n",
    "                        row=1, col=1\n",
    "                    )\n",
    "            \n",
    "            # Plot 2: Enhanced Tire Degradation\n",
    "            if 'TyreLife' in data.columns and not data['TyreLife'].isna().all():\n",
    "                # Color by compound\n",
    "                compound_colors = {'SOFT': 'red', 'MEDIUM': 'orange', 'HARD': 'blue', 'INTERMEDIATE': 'green'}\n",
    "                current_compound = data['Compound'].iloc[0] if not data.empty else 'MEDIUM'\n",
    "                \n",
    "                fig.add_trace(\n",
    "                    go.Scatter(\n",
    "                        x=data['TyreLife'],\n",
    "                        y=data['LapTimeSeconds'],\n",
    "                        mode='markers+lines',\n",
    "                        name=f'Degradation ({current_compound})',\n",
    "                        marker=dict(\n",
    "                            color=compound_colors.get(current_compound, 'gray'),\n",
    "                            size=8\n",
    "                        ),\n",
    "                        line=dict(color=compound_colors.get(current_compound, 'gray'))\n",
    "                    ),\n",
    "                    row=1, col=2\n",
    "                )\n",
    "                \n",
    "                # Add trend line if enough data points\n",
    "                if len(data) >= 3:\n",
    "                    z = np.polyfit(data['TyreLife'], data['LapTimeSeconds'], 1)\n",
    "                    p = np.poly1d(z)\n",
    "                    \n",
    "                    tyre_life_range = np.linspace(data['TyreLife'].min(), data['TyreLife'].max(), 50)\n",
    "                    fig.add_trace(\n",
    "                        go.Scatter(\n",
    "                            x=tyre_life_range,\n",
    "                            y=p(tyre_life_range),\n",
    "                            mode='lines',\n",
    "                            name='Trend Line',\n",
    "                            line=dict(color='black', width=2, dash='dot')\n",
    "                        ),\n",
    "                        row=1, col=2\n",
    "                    )\n",
    "            \n",
    "            # Plot 3: Enhanced Sector Analysis\n",
    "            sector_columns = ['Sector1Time', 'Sector2Time', 'Sector3Time']\n",
    "            available_sectors = [col for col in sector_columns if col in data.columns]\n",
    "            \n",
    "            if available_sectors:\n",
    "                sector_data = data.dropna(subset=available_sectors)\n",
    "                if not sector_data.empty:\n",
    "                    colors = ['green', 'yellow', 'purple']\n",
    "                    for i, sector_col in enumerate(available_sectors):\n",
    "                        sector_times = sector_data[sector_col].dt.total_seconds() if hasattr(sector_data[sector_col], 'dt') else sector_data[sector_col]\n",
    "                        \n",
    "                        fig.add_trace(\n",
    "                            go.Scatter(\n",
    "                                x=sector_data['LapNumber'],\n",
    "                                y=sector_times,\n",
    "                                name=f'Sector {i+1}',\n",
    "                                line=dict(color=colors[i % len(colors)], width=2)\n",
    "                            ),\n",
    "                            row=2, col=1\n",
    "                        )\n",
    "            \n",
    "            # Plot 4: Enhanced Stint Summary (Pie Chart)\n",
    "            if not data.empty:\n",
    "                # Create summary statistics\n",
    "                stint_stats = {\n",
    "                    'Fast Laps (<Avg-1s)': len(data[data['LapTimeSeconds'] < (data['LapTimeSeconds'].mean() - 1)]),\n",
    "                    'Average Laps': len(data[(data['LapTimeSeconds'] >= (data['LapTimeSeconds'].mean() - 1)) & \n",
    "                                           (data['LapTimeSeconds'] <= (data['LapTimeSeconds'].mean() + 1))]),\n",
    "                    'Slow Laps (>Avg+1s)': len(data[data['LapTimeSeconds'] > (data['LapTimeSeconds'].mean() + 1)])\n",
    "                }\n",
    "                \n",
    "                # Remove zero values\n",
    "                stint_stats = {k: v for k, v in stint_stats.items() if v > 0}\n",
    "                \n",
    "                if stint_stats:\n",
    "                    fig.add_trace(\n",
    "                        go.Pie(\n",
    "                            labels=list(stint_stats.keys()),\n",
    "                            values=list(stint_stats.values()),\n",
    "                            name='Lap Distribution',\n",
    "                            textinfo='label+percent'\n",
    "                        ),\n",
    "                        row=2, col=2\n",
    "                    )\n",
    "            \n",
    "            # Enhanced layout\n",
    "            fig.update_layout(\n",
    "                height=700,\n",
    "                title=f'🏎️ Enhanced Analysis: {driver} - Stint {stint} ({compound_filter})',\n",
    "                showlegend=True\n",
    "            )\n",
    "            \n",
    "            # Update axes labels\n",
    "            fig.update_xaxes(title_text=\"Lap Number\", row=1, col=1)\n",
    "            fig.update_yaxes(title_text=\"Lap Time (seconds)\", row=1, col=1)\n",
    "            fig.update_xaxes(title_text=\"Tire Life (laps)\", row=1, col=2)\n",
    "            fig.update_yaxes(title_text=\"Lap Time (seconds)\", row=1, col=2)\n",
    "            fig.update_xaxes(title_text=\"Lap Number\", row=2, col=1)\n",
    "            fig.update_yaxes(title_text=\"Sector Time (seconds)\", row=2, col=1)\n",
    "            \n",
    "            fig.show()\n",
    "            \n",
    "            # Print enhanced summary\n",
    "            print(f\"\\n📊 STINT ANALYSIS SUMMARY:\")\n",
    "            print(f\"Driver: {driver} | Stint: {stint} | Compound: {data['Compound'].iloc[0] if not data.empty else 'Unknown'}\")\n",
    "            print(f\"Laps completed: {len(data)}\")\n",
    "            print(f\"Average lap time: {data['LapTimeSeconds'].mean():.3f}s\")\n",
    "            print(f\"Best lap time: {data['LapTimeSeconds'].min():.3f}s\")\n",
    "            print(f\"Worst lap time: {data['LapTimeSeconds'].max():.3f}s\")\n",
    "            print(f\"Consistency (std): {data['LapTimeSeconds'].std():.3f}s\")\n",
    "            \n",
    "            if 'TyreLife' in data.columns:\n",
    "                print(f\"Tire life range: {data['TyreLife'].min()}-{data['TyreLife'].max()} laps\")\n",
    "        \n",
    "        # Create enhanced interactive widget\n",
    "        enhanced_interact = widgets.interactive(\n",
    "            update_enhanced_pace_plot, \n",
    "            driver=driver_widget, \n",
    "            stint=stint_widget,\n",
    "            compound_filter=compound_widget\n",
    "        )\n",
    "        return enhanced_interact\n",
    "    \n",
    "    def create_enhanced_strategy_comparison(self):\n",
    "        \"\"\"Create enhanced strategy comparison visualization with compound analysis (FIXED)\"\"\"\n",
    "        \n",
    "        drivers = sorted(self.laps['Driver'].unique())\n",
    "        \n",
    "        # Create subplots for enhanced comparison\n",
    "        fig = make_subplots(\n",
    "            rows=2, cols=2,\n",
    "            subplot_titles=(\n",
    "                'Race Pace Comparison', \n",
    "                'Compound Usage by Driver',\n",
    "                'Average Pace by Compound', \n",
    "                'Stint Length Distribution'\n",
    "            ),\n",
    "            specs=[\n",
    "                [{\"secondary_y\": False}, {\"secondary_y\": False}],\n",
    "                [{\"secondary_y\": False}, {\"secondary_y\": False}]\n",
    "            ]\n",
    "        )\n",
    "        \n",
    "        colors = px.colors.qualitative.Set3\n",
    "        compound_colors = {'SOFT': 'red', 'MEDIUM': 'orange', 'HARD': 'blue', 'INTERMEDIATE': 'green'}\n",
    "        \n",
    "        # Plot 1: Enhanced Race Pace Comparison (Top 10 drivers)\n",
    "        for i, driver in enumerate(drivers[:10]):\n",
    "            driver_data = self.laps[self.laps['Driver'] == driver]\n",
    "            \n",
    "            fig.add_trace(\n",
    "                go.Scatter(\n",
    "                    x=driver_data['LapNumber'],\n",
    "                    y=driver_data['LapTimeSeconds'],\n",
    "                    mode='lines',\n",
    "                    name=driver,\n",
    "                    line=dict(color=colors[i % len(colors)], width=2),\n",
    "                    opacity=0.7\n",
    "                ),\n",
    "                row=1, col=1\n",
    "            )\n",
    "        \n",
    "        # Plot 2: Compound Usage Analysis\n",
    "        try:\n",
    "            compound_usage = self.laps.groupby(['Driver', 'Compound']).size().unstack(fill_value=0)\n",
    "            \n",
    "            for compound in compound_usage.columns:\n",
    "                fig.add_trace(\n",
    "                    go.Bar(\n",
    "                        x=compound_usage.index[:8],  # Top 8 drivers\n",
    "                        y=compound_usage[compound][:8],\n",
    "                        name=compound,\n",
    "                        marker_color=compound_colors.get(compound, 'gray')\n",
    "                    ),\n",
    "                    row=1, col=2\n",
    "                )\n",
    "        except Exception as e:\n",
    "            print(f\"Warning: Could not create compound usage chart: {e}\")\n",
    "        \n",
    "        # Plot 3: Average Pace by Compound\n",
    "        try:\n",
    "            pace_by_compound = self.laps.groupby('Compound')['LapTimeSeconds'].mean().sort_values()\n",
    "            \n",
    "            fig.add_trace(\n",
    "                go.Bar(\n",
    "                    x=pace_by_compound.index,\n",
    "                    y=pace_by_compound.values,\n",
    "                    name='Avg Pace',\n",
    "                    marker_color=[compound_colors.get(comp, 'gray') for comp in pace_by_compound.index]\n",
    "                ),\n",
    "                row=2, col=1\n",
    "            )\n",
    "        except Exception as e:\n",
    "            print(f\"Warning: Could not create pace by compound chart: {e}\")\n",
    "        \n",
    "        # Plot 4: Stint Length Distribution\n",
    "        try:\n",
    "            stint_lengths = self.laps.groupby(['Driver', 'Stint']).size()\n",
    "            \n",
    "            fig.add_trace(\n",
    "                go.Histogram(\n",
    "                    x=stint_lengths.values,\n",
    "                    nbinsx=20,\n",
    "                    name='Stint Length Distribution',\n",
    "                    marker_color='lightblue'\n",
    "                ),\n",
    "                row=2, col=2\n",
    "            )\n",
    "        except Exception as e:\n",
    "            print(f\"Warning: Could not create stint length chart: {e}\")\n",
    "        \n",
    "        # Enhanced layout\n",
    "        fig.update_layout(\n",
    "            height=800,\n",
    "            title='🏁 Enhanced F1 Strategy Comparison Dashboard',\n",
    "            showlegend=True\n",
    "        )\n",
    "        \n",
    "        # Update axes\n",
    "        fig.update_xaxes(title_text=\"Lap Number\", row=1, col=1)\n",
    "        fig.update_yaxes(title_text=\"Lap Time (seconds)\", row=1, col=1)\n",
    "        fig.update_xaxes(title_text=\"Driver\", row=1, col=2)\n",
    "        fig.update_yaxes(title_text=\"Laps Used\", row=1, col=2)\n",
    "        fig.update_xaxes(title_text=\"Compound\", row=2, col=1)\n",
    "        fig.update_yaxes(title_text=\"Average Lap Time (s)\", row=2, col=1)\n",
    "        fig.update_xaxes(title_text=\"Stint Length (laps)\", row=2, col=2)\n",
    "        fig.update_yaxes(title_text=\"Frequency\", row=2, col=2)\n",
    "        \n",
    "        fig.show()\n",
    "        \n",
    "        # Print enhanced summary (FIXED)\n",
    "        try:\n",
    "            pace_by_compound = self.laps.groupby('Compound')['LapTimeSeconds'].mean().sort_values()\n",
    "            stint_lengths = self.laps.groupby(['Driver', 'Stint']).size()\n",
    "            \n",
    "            print(\"\\n🏁 STRATEGY COMPARISON SUMMARY:\")\n",
    "            print(\"=\" * 50)\n",
    "            \n",
    "            if not pace_by_compound.empty:\n",
    "                print(f\"Fastest compound: {pace_by_compound.index[0]} ({pace_by_compound.iloc:.3f}s avg)\")  # FIXED\n",
    "                print(f\"Slowest compound: {pace_by_compound.index[-1]} ({pace_by_compound.iloc[-1]:.3f}s avg)\")  # FIXED\n",
    "            \n",
    "            if not stint_lengths.empty:\n",
    "                print(f\"Average stint length: {stint_lengths.mean():.1f} laps\")\n",
    "            \n",
    "            compound_counts = self.laps['Compound'].value_counts()\n",
    "            if not compound_counts.empty:\n",
    "                print(f\"Most used compound: {compound_counts.index[0]}\")\n",
    "                \n",
    "        except Exception as e:\n",
    "            print(f\"Warning: Could not generate summary statistics: {e}\")\n",
    "    \n",
    "    def create_comprehensive_dashboard(self):\n",
    "        \"\"\"Create comprehensive dashboard with all enhanced features\"\"\"\n",
    "        \n",
    "        print(\"🚀 Creating Comprehensive F1 Dashboard...\")\n",
    "        \n",
    "        # Create tabs for different analyses\n",
    "        tab_contents = []\n",
    "        tab_titles = ['Pace Analysis', 'Strategy Comparison', 'Degradation Models']\n",
    "        \n",
    "        # Tab 1: Enhanced Pace Analysis\n",
    "        try:\n",
    "            pace_dashboard = self.create_enhanced_pace_dashboard()\n",
    "            tab_contents.append(pace_dashboard)\n",
    "        except Exception as e:\n",
    "            error_widget = widgets.HTML(f\"<h3>Error creating pace dashboard: {str(e)}</h3>\")\n",
    "            tab_contents.append(error_widget)\n",
    "        \n",
    "        # Tab 2: Strategy Comparison (create as output widget)\n",
    "        strategy_output = widgets.Output()\n",
    "        try:\n",
    "            with strategy_output:\n",
    "                self.create_enhanced_strategy_comparison()\n",
    "        except Exception as e:\n",
    "            with strategy_output:\n",
    "                print(f\"Error creating strategy comparison: {str(e)}\")\n",
    "        tab_contents.append(strategy_output)\n",
    "        \n",
    "        # Tab 3: Degradation Model Integration\n",
    "        degradation_output = widgets.Output()\n",
    "        try:\n",
    "            with degradation_output:\n",
    "                if self.enhanced_deg_model and hasattr(self.enhanced_deg_model, 'create_interactive_degradation_dashboard'):\n",
    "                    self.enhanced_deg_model.create_interactive_degradation_dashboard()\n",
    "                    print(\"✅ Enhanced degradation models integrated\")\n",
    "                else:\n",
    "                    print(\"⚠️ Enhanced degradation models not available\")\n",
    "                    print(\"Run the enhanced degradation model cell first for full integration\")\n",
    "        except Exception as e:\n",
    "            with degradation_output:\n",
    "                print(f\"Error creating degradation dashboard: {str(e)}\")\n",
    "        tab_contents.append(degradation_output)\n",
    "        \n",
    "        # Create tabbed interface\n",
    "        tab = widgets.Tab(children=tab_contents)\n",
    "        for i, title in enumerate(tab_titles):\n",
    "            tab.set_title(i, title)\n",
    "        \n",
    "        return tab\n",
    "\n",
    "# Create Enhanced Dashboard with Integration (COMPLETE FIXED VERSION)\n",
    "try:\n",
    "    print(\"🚀 Initializing Enhanced F1 Visualization Dashboard...\")\n",
    "    \n",
    "    # Check what variables actually exist\n",
    "    available_vars = []\n",
    "    if 'laps' in globals():\n",
    "        available_vars.append('laps')\n",
    "    if 'degradation_models' in globals():\n",
    "        available_vars.append('degradation_models')\n",
    "    elif 'enhanced_degradation_models' in globals():\n",
    "        available_vars.append('enhanced_degradation_models (using as degradation_models)')\n",
    "        degradation_models = enhanced_degradation_models\n",
    "    \n",
    "    print(f\"Available variables: {available_vars}\")\n",
    "    \n",
    "    # Check if enhanced degradation model is available\n",
    "    enhanced_deg_ref = None\n",
    "    if 'enhanced_deg_model' in globals():\n",
    "        enhanced_deg_ref = enhanced_deg_model\n",
    "        print(\"✅ Enhanced degradation model integration available\")\n",
    "    else:\n",
    "        print(\"⚠️ Enhanced degradation model not found - limited functionality\")\n",
    "    \n",
    "    # Use the correct variable names based on what's available\n",
    "    if 'laps' in globals() and ('degradation_models' in globals() or 'enhanced_degradation_models' in globals()):\n",
    "        # Create enhanced dashboard\n",
    "        enhanced_dashboard = EnhancedF1VisualizationDashboard(\n",
    "            laps, degradation_models, enhanced_deg_ref\n",
    "        )\n",
    "        \n",
    "        print(\"\\n✅ Enhanced Dashboard Created Successfully!\")\n",
    "        print(\"\\n🏆 ENHANCED FEATURES:\")\n",
    "        print(\" • Integration with enhanced tire degradation models\")\n",
    "        print(\" • Predicted vs actual lap time comparison\")  \n",
    "        print(\" • Advanced compound and strategy analysis\")\n",
    "        print(\" • Enhanced sector performance visualization\")\n",
    "        print(\" • Comprehensive stint analysis with statistics\")\n",
    "        print(\" • Tabbed interface for organized analysis\")\n",
    "        print(\" • Professional styling and color coding\")\n",
    "        print(\" • Real-time filtering and interaction\")\n",
    "        print(\" • Fixed all formatting and indexing errors\")\n",
    "        \n",
    "        # Display comprehensive dashboard\n",
    "        comprehensive_dashboard = enhanced_dashboard.create_comprehensive_dashboard()\n",
    "        print(\"\\n🎛️ Comprehensive Dashboard Ready:\")\n",
    "        display(comprehensive_dashboard)\n",
    "        \n",
    "    else:\n",
    "        print(\"❌ Required variables not found:\")\n",
    "        if 'laps' not in globals():\n",
    "            print(\"  - 'laps' variable missing\")\n",
    "        if 'degradation_models' not in globals() and 'enhanced_degradation_models' not in globals():\n",
    "            print(\"  - 'degradation_models' or 'enhanced_degradation_models' missing\")\n",
    "        print(\"\\n🔧 Please ensure you've run the earlier cells that create these variables:\")\n",
    "        print(\"  - Cell 2: Creates 'laps' from F1DataLoader\")\n",
    "        print(\"  - Cell 3: Creates 'degradation_models' from TireDegradationModel\")\n",
    "        print(\"  - Cell 4: Creates 'enhanced_degradation_models' from EnhancedTireDegradationModel\")\n",
    "        \n",
    "except Exception as e:\n",
    "    print(f\"❌ Error creating enhanced dashboard: {str(e)}\")\n",
    "    print(\"\\n🔧 Troubleshooting:\")\n",
    "    print(\"1. Ensure all previous cells have been run successfully\")\n",
    "    print(\"2. Check variable names in your notebook:\")\n",
    "    print(\"   - Run: print(list(globals().keys())) to see all variables\")\n",
    "    print(\"3. Make sure you have the correct variable names from your original cells\")\n",
    "\n",
    "print(\"\\n✅ Enhanced F1 Visualization Dashboard Complete!\")\n"
   ]
  },
  {
   "cell_type": "code",
   "execution_count": 6,
   "id": "4fe62d07",
   "metadata": {},
   "outputs": [
    {
     "name": "stdout",
     "output_type": "stream",
     "text": [
      "⚠️ Widget installation failed: Command '['C:\\\\Users\\\\Admin\\\\AppData\\\\Local\\\\Microsoft\\\\WindowsApps\\\\PythonSoftwareFoundation.Python.3.11_qbz5n2kfra8p0\\\\python.exe', '-m', 'jupyter', 'nbextension', 'enable', '--py', 'widgetsnbextension', '--sys-prefix']' returned non-zero exit status 1.\n",
      "✅ ipywidgets imported successfully\n",
      "🚀 Initializing Enhanced Race Strategy Simulator...\n",
      "🏎️ Enhanced Race Strategy Simulator Initialized\n",
      "Available compounds: ['HARD', 'INTERMEDIATE', 'MEDIUM', 'SOFT']\n",
      "Available drivers: ['ALB', 'ALO', 'BOT', 'HAM', 'HUL', 'LEC', 'MAG', 'NOR', 'OCO', 'PER', 'PIA', 'RIC', 'RUS', 'SAI', 'SAR', 'STR', 'TSU', 'VER', 'ZHO']\n",
      "Data shape: (960, 32)\n",
      "✅ Enhanced degradation models linked\n",
      "\n",
      "✅ Enhanced Race Strategy Simulator Created Successfully!\n",
      "\n",
      "🏆 NEW ADVANCED FEATURES:\n",
      " • Real-time strategy optimization with progress tracking\n",
      " • Weather simulation factor\n",
      " • Enhanced accuracy metrics and grading\n",
      " • Multi-strategy comparison dashboard\n",
      " • Caching for faster repeated simulations\n",
      " • Advanced visualization with 6-panel analysis\n",
      " • Manual and automatic strategy optimization\n",
      " • Fallback degradation models when none provided\n",
      " • Comprehensive performance metrics\n",
      " • FIXED KeyError issue in tire degradation plot\n",
      "\n",
      "🎛️ Enhanced Interactive Simulator Ready:\n"
     ]
    },
    {
     "data": {
      "application/vnd.jupyter.widget-view+json": {
       "model_id": "6312a006d3c745e1a7bc45124a8fccdf",
       "version_major": 2,
       "version_minor": 0
      },
      "text/plain": [
       "VBox(children=(HTML(value='<h2>🏎️ Enhanced F1 Race Strategy Simulator</h2><p>Real-time optimization with weath…"
      ]
     },
     "metadata": {},
     "output_type": "display_data"
    },
    {
     "name": "stdout",
     "output_type": "stream",
     "text": [
      "\n",
      "✅ Enhanced Interactive Race Strategy Simulator Complete!\n"
     ]
    }
   ],
   "source": [
    "# Cell 6: Enhanced Interactive Race Strategy Simulator with Real-time Optimization (COMPLETE FIXED VERSION)\n",
    "import subprocess\n",
    "import sys\n",
    "import time\n",
    "import numpy as np\n",
    "import pandas as pd\n",
    "import matplotlib.pyplot as plt\n",
    "from tqdm.notebook import tqdm\n",
    "import warnings\n",
    "warnings.filterwarnings('ignore')\n",
    "\n",
    "# Enhanced widget setup\n",
    "def install_and_enable_widgets():\n",
    "    \"\"\"Install and enable ipywidgets properly\"\"\"\n",
    "    try:\n",
    "        subprocess.check_call([sys.executable, \"-m\", \"pip\", \"install\", \"ipywidgets\", \"--quiet\"])\n",
    "        subprocess.check_call([sys.executable, \"-m\", \"jupyter\", \"nbextension\", \"enable\", \"--py\", \"widgetsnbextension\", \"--sys-prefix\"])\n",
    "        print(\"✅ ipywidgets installation complete\")\n",
    "        return True\n",
    "    except Exception as e:\n",
    "        print(f\"⚠️ Widget installation failed: {e}\")\n",
    "        return False\n",
    "\n",
    "# Try to install/enable widgets\n",
    "widget_setup_success = install_and_enable_widgets()\n",
    "\n",
    "# Import widgets\n",
    "WIDGETS_AVAILABLE = False\n",
    "try:\n",
    "    import ipywidgets as widgets\n",
    "    from IPython.display import display, clear_output, HTML\n",
    "    WIDGETS_AVAILABLE = True\n",
    "    print(\"✅ ipywidgets imported successfully\")\n",
    "except ImportError as e:\n",
    "    print(f\"❌ ipywidgets import failed: {e}\")\n",
    "\n",
    "class EnhancedRaceStrategySimulator:\n",
    "    \"\"\"Enhanced Interactive Race Strategy Simulator with real-time optimization and comparison\"\"\"\n",
    "    \n",
    "    def __init__(self, laps_df, degradation_models_df=None):\n",
    "        self.laps = laps_df\n",
    "        self.models = degradation_models_df if degradation_models_df is not None else pd.DataFrame()\n",
    "        self.PIT_LOSS = 25.0  # seconds\n",
    "        self.simulation_cache = {}\n",
    "        self.optimization_history = []\n",
    "        \n",
    "        print(\"🏎️ Enhanced Race Strategy Simulator Initialized\")\n",
    "        print(f\"Available compounds: {sorted(self.laps['Compound'].dropna().unique())}\")\n",
    "        print(f\"Available drivers: {sorted(self.laps['Driver'].dropna().unique())}\")\n",
    "        print(f\"Data shape: {self.laps.shape}\")\n",
    "        \n",
    "        # Create fallback degradation models if none provided\n",
    "        if self.models.empty:\n",
    "            print(\"⚠️ No degradation models provided - creating fallback models\")\n",
    "            self.create_fallback_degradation_models()\n",
    "        \n",
    "    def create_fallback_degradation_models(self):\n",
    "        \"\"\"Create basic degradation models from lap data\"\"\"\n",
    "        print(\"🔧 Creating fallback degradation models from lap data...\")\n",
    "        \n",
    "        fallback_models = []\n",
    "        \n",
    "        # Group by driver and compound to create simple models\n",
    "        for (driver, compound), group in self.laps.groupby(['Driver', 'Compound']):\n",
    "            if len(group) < 5:  # Need minimum data points\n",
    "                continue\n",
    "                \n",
    "            # Simple linear degradation estimation\n",
    "            if 'TyreLife' in group.columns and not group['TyreLife'].isna().all():\n",
    "                # Use tire life if available\n",
    "                x_data = group['TyreLife'].dropna()\n",
    "                y_data = group.loc[x_data.index, 'LapTimeSeconds'].dropna()\n",
    "                \n",
    "                if len(x_data) >= 3 and len(y_data) >= 3:\n",
    "                    # Simple linear regression\n",
    "                    slope = np.polyfit(x_data, y_data, 1)[0]\n",
    "                    intercept = np.polyfit(x_data, y_data, 1)[1]\n",
    "                else:\n",
    "                    # Fallback values\n",
    "                    slope = {'SOFT': 0.08, 'MEDIUM': 0.05, 'HARD': 0.03}.get(compound, 0.05)\n",
    "                    intercept = group['LapTimeSeconds'].mean()\n",
    "            else:\n",
    "                # Use lap number as proxy for tire life\n",
    "                lap_numbers = group['LapNumber']\n",
    "                lap_times = group['LapTimeSeconds']\n",
    "                \n",
    "                if len(lap_numbers) >= 3:\n",
    "                    slope = np.polyfit(lap_numbers, lap_times, 1)[0]\n",
    "                    intercept = np.polyfit(lap_numbers, lap_times, 1)[1]\n",
    "                else:\n",
    "                    slope = {'SOFT': 0.08, 'MEDIUM': 0.05, 'HARD': 0.03}.get(compound, 0.05)\n",
    "                    intercept = group['LapTimeSeconds'].mean()\n",
    "            \n",
    "            fallback_models.append({\n",
    "                'Driver': driver,\n",
    "                'Compound': compound,\n",
    "                'SlopePerLap': slope,\n",
    "                'Intercept': intercept,\n",
    "                'R2Score': 0.7,  # Estimated\n",
    "                'MAE': 0.5      # Estimated\n",
    "            })\n",
    "        \n",
    "        self.models = pd.DataFrame(fallback_models)\n",
    "        print(f\"✅ Created {len(fallback_models)} fallback degradation models\")\n",
    "    \n",
    "    def safe_compounds_for_stints(self, compounds, pit_laps):\n",
    "        \"\"\"Ensure compounds list matches number of stints\"\"\"\n",
    "        needed_stints = len(pit_laps) + 1\n",
    "        if len(compounds) < needed_stints:\n",
    "            return compounds + [compounds[-1]] * (needed_stints - len(compounds))\n",
    "        return compounds[:needed_stints]\n",
    "    \n",
    "    def validate_pit_laps(self, pit_laps, race_length):\n",
    "        \"\"\"Validate and sort pit lap values\"\"\"\n",
    "        return sorted([lap for lap in pit_laps if 1 < lap < race_length - 1])\n",
    "    \n",
    "    def get_degradation_model(self, driver, compound):\n",
    "        \"\"\"Get degradation model with enhanced fallback logic\"\"\"\n",
    "        try:\n",
    "            # Try enhanced models first\n",
    "            if hasattr(self, 'enhanced_models') and not self.enhanced_models.empty:\n",
    "                models = self.enhanced_models[\n",
    "                    (self.enhanced_models['Driver'] == driver) & \n",
    "                    (self.enhanced_models['Compound'] == compound)\n",
    "                ]\n",
    "                if not models.empty:\n",
    "                    return {\n",
    "                        'slope': models['LinearSlope'].mean(),\n",
    "                        'intercept': models['LinearIntercept'].mean(),\n",
    "                        'confidence': 'high' if models['R2Score'].mean() > 0.8 else 'medium'\n",
    "                    }\n",
    "            \n",
    "            # Fallback to original models\n",
    "            models = self.models[\n",
    "                (self.models['Driver'] == driver) & \n",
    "                (self.models['Compound'] == compound)\n",
    "            ]\n",
    "            \n",
    "            if not models.empty:\n",
    "                return {\n",
    "                    'slope': models['SlopePerLap'].mean(),\n",
    "                    'intercept': models['Intercept'].mean(),\n",
    "                    'confidence': 'medium'\n",
    "                }\n",
    "            \n",
    "            # Final fallback to compound average\n",
    "            driver_data = self.laps[\n",
    "                (self.laps['Driver'] == driver) & \n",
    "                (self.laps['Compound'] == compound)\n",
    "            ]\n",
    "            \n",
    "            if not driver_data.empty:\n",
    "                intercept = driver_data['LapTimeSeconds'].mean()\n",
    "                # Estimate degradation based on compound type\n",
    "                compound_degradation = {\n",
    "                    'SOFT': 0.08, 'MEDIUM': 0.05, 'HARD': 0.03, 'INTERMEDIATE': 0.06\n",
    "                }\n",
    "                slope = compound_degradation.get(compound, 0.05)\n",
    "                \n",
    "                return {'slope': slope, 'intercept': intercept, 'confidence': 'low'}\n",
    "            \n",
    "        except Exception as e:\n",
    "            pass\n",
    "        \n",
    "        return {'slope': 0.05, 'intercept': 90.0, 'confidence': 'very_low'}\n",
    "    \n",
    "    def simulate_race_enhanced(self, driver, race_length, pit_laps, compounds, weather_factor=1.0):\n",
    "        \"\"\"Enhanced race simulation with weather and caching\"\"\"\n",
    "        \n",
    "        # Create cache key\n",
    "        cache_key = (driver, race_length, tuple(pit_laps), tuple(compounds), weather_factor)\n",
    "        if cache_key in self.simulation_cache:\n",
    "            return self.simulation_cache[cache_key]\n",
    "        \n",
    "        try:\n",
    "            pit_laps = self.validate_pit_laps(pit_laps, race_length)\n",
    "            compounds = self.safe_compounds_for_stints(compounds, pit_laps)\n",
    "            \n",
    "            lap_times = []\n",
    "            stint_details = []\n",
    "            stint_index = 0\n",
    "            tyre_life = 1\n",
    "            \n",
    "            for lap in range(1, race_length + 1):\n",
    "                # Handle pit stops\n",
    "                if stint_index < len(pit_laps) and lap == pit_laps[stint_index]:\n",
    "                    pit_time = self.PIT_LOSS * weather_factor  # Weather affects pit stops\n",
    "                    lap_times.append(pit_time)\n",
    "                    stint_details.append({\n",
    "                        'lap': lap,\n",
    "                        'stint': stint_index + 1,\n",
    "                        'compound': 'PIT',\n",
    "                        'tyre_life': 0,\n",
    "                        'lap_time': pit_time,\n",
    "                        'is_pit': True\n",
    "                    })\n",
    "                    stint_index += 1\n",
    "                    tyre_life = 1\n",
    "                    continue\n",
    "                \n",
    "                # Regular lap simulation\n",
    "                compound_index = min(stint_index, len(compounds) - 1)\n",
    "                current_compound = compounds[compound_index]\n",
    "                model = self.get_degradation_model(driver, current_compound)\n",
    "                \n",
    "                # Base lap time with degradation\n",
    "                base_time = model['slope'] * tyre_life + model['intercept']\n",
    "                \n",
    "                # Apply weather factor and random variation\n",
    "                weather_time = base_time * weather_factor\n",
    "                final_time = max(60.0, weather_time + np.random.normal(0, 0.1))\n",
    "                \n",
    "                lap_times.append(final_time)\n",
    "                stint_details.append({\n",
    "                    'lap': lap,\n",
    "                    'stint': stint_index + 1,\n",
    "                    'compound': current_compound,\n",
    "                    'tyre_life': tyre_life,\n",
    "                    'lap_time': final_time,\n",
    "                    'is_pit': False\n",
    "                })\n",
    "                \n",
    "                tyre_life += 1\n",
    "            \n",
    "            result = {\n",
    "                'lap_times': lap_times,\n",
    "                'stint_details': stint_details,\n",
    "                'total_time': sum(lap_times),\n",
    "                'avg_lap_time': np.mean(lap_times),\n",
    "                'pit_stops': len(pit_laps)\n",
    "            }\n",
    "            \n",
    "            # Cache result\n",
    "            self.simulation_cache[cache_key] = result\n",
    "            return result\n",
    "            \n",
    "        except Exception as e:\n",
    "            print(f\"Simulation error: {e}\")\n",
    "            return {\n",
    "                'lap_times': [90.0 + np.random.normal(0, 1) for _ in range(race_length)],\n",
    "                'stint_details': [],\n",
    "                'total_time': 90.0 * race_length,\n",
    "                'avg_lap_time': 90.0,\n",
    "                'pit_stops': len(pit_laps)\n",
    "            }\n",
    "    \n",
    "    def get_actual_lap_times(self, driver, race_length):\n",
    "        \"\"\"Get actual lap times with enhanced filtering\"\"\"\n",
    "        try:\n",
    "            actual_data = self.laps[self.laps['Driver'] == driver].sort_values('LapNumber')\n",
    "            if actual_data.empty:\n",
    "                return [], []\n",
    "            \n",
    "            # Enhanced filtering\n",
    "            valid_data = actual_data[\n",
    "                (actual_data['LapTimeSeconds'].notna()) & \n",
    "                (actual_data['LapTimeSeconds'] > 50) & \n",
    "                (actual_data['LapTimeSeconds'] < 300) &  # Increased upper bound\n",
    "                (~actual_data['Deleted'])  # Exclude deleted laps\n",
    "            ][:race_length]\n",
    "            \n",
    "            return valid_data['LapTimeSeconds'].tolist(), valid_data['LapNumber'].tolist()\n",
    "        except:\n",
    "            return [], []\n",
    "    \n",
    "    def calculate_accuracy_metrics(self, actual_times, simulated_times):\n",
    "        \"\"\"Calculate comprehensive accuracy metrics\"\"\"\n",
    "        try:\n",
    "            if not actual_times or not simulated_times or len(actual_times) < 2:\n",
    "                return {}\n",
    "            \n",
    "            min_length = min(len(actual_times), len(simulated_times))\n",
    "            actual = np.array(actual_times[:min_length])\n",
    "            simulated = np.array(simulated_times[:min_length])\n",
    "            \n",
    "            # Remove NaN values\n",
    "            mask = ~(np.isnan(actual) | np.isnan(simulated))\n",
    "            if np.sum(mask) < 2:\n",
    "                return {}\n",
    "                \n",
    "            actual = actual[mask]\n",
    "            simulated = simulated[mask]\n",
    "            \n",
    "            mae = np.mean(np.abs(actual - simulated))\n",
    "            rmse = np.sqrt(np.mean((actual - simulated)**2))\n",
    "            mape = np.mean(np.abs((actual - simulated) / actual)) * 100\n",
    "            correlation = np.corrcoef(actual, simulated)[0, 1] if len(actual) > 1 else 0\n",
    "            \n",
    "            return {\n",
    "                'MAE': mae,\n",
    "                'RMSE': rmse,\n",
    "                'MAPE': mape,\n",
    "                'Correlation': correlation,\n",
    "                'Sample_Size': len(actual),\n",
    "                'Accuracy_Grade': 'Excellent' if mae < 1.0 else 'Good' if mae < 2.0 else 'Fair' if mae < 3.0 else 'Poor'\n",
    "            }\n",
    "        except:\n",
    "            return {}\n",
    "    \n",
    "    def optimize_strategy_realtime(self, driver, race_length, strategy_type='single_pit', progress_callback=None):\n",
    "        \"\"\"Real-time strategy optimization with progress updates\"\"\"\n",
    "        \n",
    "        compounds = sorted([c for c in self.laps['Compound'].dropna().unique() if c])\n",
    "        best_strategy = None\n",
    "        best_time = float('inf')\n",
    "        \n",
    "        if strategy_type == 'no_pit':\n",
    "            total_combinations = len(compounds)\n",
    "            progress_desc = '🔴 No Pit Optimization'\n",
    "            \n",
    "            for i, compound in enumerate(compounds):\n",
    "                if progress_callback:\n",
    "                    progress_callback(i + 1, total_combinations, f'Testing {compound}')\n",
    "                \n",
    "                result = self.simulate_race_enhanced(driver, race_length, [], [compound])\n",
    "                \n",
    "                if result['total_time'] < best_time:\n",
    "                    best_time = result['total_time']\n",
    "                    best_strategy = {\n",
    "                        'type': 'no_pit',\n",
    "                        'pit_laps': [],\n",
    "                        'compounds': [compound],\n",
    "                        'total_time': result['total_time'],\n",
    "                        'simulation': result\n",
    "                    }\n",
    "        \n",
    "        elif strategy_type == 'single_pit':\n",
    "            pit_window = range(max(8, race_length // 4), min(race_length - 8, 3 * race_length // 4), 2)\n",
    "            total_combinations = len(pit_window) * len(compounds) * len(compounds)\n",
    "            progress_desc = '🔵 Single Pit Optimization'\n",
    "            \n",
    "            combination = 0\n",
    "            for pit_lap in pit_window:\n",
    "                for comp1 in compounds:\n",
    "                    for comp2 in compounds:\n",
    "                        combination += 1\n",
    "                        if progress_callback:\n",
    "                            progress_callback(combination, total_combinations, \n",
    "                                           f'Pit lap {pit_lap}: {comp1}→{comp2}')\n",
    "                        \n",
    "                        result = self.simulate_race_enhanced(driver, race_length, [pit_lap], [comp1, comp2])\n",
    "                        \n",
    "                        if result['total_time'] < best_time:\n",
    "                            best_time = result['total_time']\n",
    "                            best_strategy = {\n",
    "                                'type': 'single_pit',\n",
    "                                'pit_laps': [pit_lap],\n",
    "                                'compounds': [comp1, comp2],\n",
    "                                'total_time': result['total_time'],\n",
    "                                'simulation': result\n",
    "                            }\n",
    "        \n",
    "        elif strategy_type == 'double_pit':\n",
    "            pit1_range = range(max(6, race_length // 5), min(race_length // 2, race_length - 15), 3)\n",
    "            total_combinations = 0\n",
    "            for pit1 in pit1_range:\n",
    "                pit2_range = range(pit1 + 8, min(race_length - 6, pit1 + race_length // 2), 3)\n",
    "                total_combinations += len(pit2_range) * (len(compounds) ** 3)\n",
    "            \n",
    "            combination = 0\n",
    "            for pit1 in pit1_range:\n",
    "                pit2_range = range(pit1 + 8, min(race_length - 6, pit1 + race_length // 2), 3)\n",
    "                for pit2 in pit2_range:\n",
    "                    for comp1 in compounds:\n",
    "                        for comp2 in compounds:\n",
    "                            for comp3 in compounds:\n",
    "                                combination += 1\n",
    "                                if progress_callback:\n",
    "                                    progress_callback(combination, total_combinations,\n",
    "                                                   f'Pits {pit1},{pit2}: {comp1}→{comp2}→{comp3}')\n",
    "                                \n",
    "                                result = self.simulate_race_enhanced(driver, race_length, \n",
    "                                                                   [pit1, pit2], [comp1, comp2, comp3])\n",
    "                                \n",
    "                                if result['total_time'] < best_time:\n",
    "                                    best_time = result['total_time']\n",
    "                                    best_strategy = {\n",
    "                                        'type': 'double_pit',\n",
    "                                        'pit_laps': [pit1, pit2],\n",
    "                                        'compounds': [comp1, comp2, comp3],\n",
    "                                        'total_time': result['total_time'],\n",
    "                                        'simulation': result\n",
    "                                    }\n",
    "        \n",
    "        return best_strategy\n",
    "    \n",
    "    def create_enhanced_comparison_plot(self, driver, strategies, actual_times, actual_laps, race_length):\n",
    "        \"\"\"Create enhanced multi-strategy comparison visualization (FIXED)\"\"\"\n",
    "        \n",
    "        fig, axes = plt.subplots(2, 3, figsize=(20, 12))\n",
    "        fig.suptitle(f'🏎️ Enhanced Race Strategy Analysis - {driver}', fontsize=16, fontweight='bold')\n",
    "        \n",
    "        colors = {'no_pit': 'red', 'single_pit': 'blue', 'double_pit': 'green', 'actual': 'black', 'manual': 'purple'}\n",
    "        \n",
    "        # Plot 1: Lap time comparison\n",
    "        ax1 = axes[0, 0]\n",
    "        for strategy_name, strategy in strategies.items():\n",
    "            if 'simulation' in strategy:\n",
    "                lap_times = strategy['simulation']['lap_times']\n",
    "                ax1.plot(range(1, len(lap_times) + 1), lap_times, \n",
    "                        color=colors.get(strategy_name, 'gray'), \n",
    "                        linewidth=2, alpha=0.8, label=f'{strategy_name.replace(\"_\", \" \").title()}')\n",
    "                \n",
    "                # Mark pit stops\n",
    "                for pit_lap in strategy.get('pit_laps', []):\n",
    "                    ax1.axvline(x=pit_lap, color=colors.get(strategy_name, 'gray'), \n",
    "                              linestyle='--', alpha=0.5)\n",
    "        \n",
    "        if actual_times:\n",
    "            ax1.plot(actual_laps[:len(actual_times)], actual_times, 'k--', \n",
    "                    linewidth=2, alpha=0.7, label='Actual Race Data')\n",
    "        \n",
    "        ax1.set_xlabel('Lap Number')\n",
    "        ax1.set_ylabel('Lap Time (seconds)')\n",
    "        ax1.set_title('Lap Time Comparison')\n",
    "        ax1.legend()\n",
    "        ax1.grid(True, alpha=0.3)\n",
    "        \n",
    "        # Plot 2: Cumulative time\n",
    "        ax2 = axes[0, 1]\n",
    "        for strategy_name, strategy in strategies.items():\n",
    "            if 'simulation' in strategy:\n",
    "                cumulative = np.cumsum(strategy['simulation']['lap_times'])\n",
    "                ax2.plot(range(1, len(cumulative) + 1), cumulative, \n",
    "                        color=colors.get(strategy_name, 'gray'), \n",
    "                        linewidth=2, label=f'{strategy_name.replace(\"_\", \" \").title()}')\n",
    "        \n",
    "        if actual_times:\n",
    "            cumulative_actual = np.cumsum(actual_times[:race_length])\n",
    "            ax2.plot(range(1, len(cumulative_actual) + 1), cumulative_actual, 'k--', \n",
    "                    linewidth=2, label='Actual Cumulative')\n",
    "        \n",
    "        ax2.set_xlabel('Lap Number')\n",
    "        ax2.set_ylabel('Cumulative Time (seconds)')\n",
    "        ax2.set_title('Race Progress Comparison')\n",
    "        ax2.legend()\n",
    "        ax2.grid(True, alpha=0.3)\n",
    "        \n",
    "        # Plot 3: Strategy summary\n",
    "        ax3 = axes[0, 2]\n",
    "        strategy_names = list(strategies.keys())\n",
    "        total_times = [strategies[s].get('total_time', 0) for s in strategy_names]\n",
    "        \n",
    "        bars = ax3.bar(strategy_names, total_times, \n",
    "                      color=[colors.get(s, 'gray') for s in strategy_names], alpha=0.7)\n",
    "        \n",
    "        for bar, time in zip(bars, total_times):\n",
    "            height = bar.get_height()\n",
    "            ax3.text(bar.get_x() + bar.get_width()/2., height + 0.5,\n",
    "                    f'{time:.1f}s', ha='center', va='bottom', fontweight='bold')\n",
    "        \n",
    "        ax3.set_ylabel('Total Race Time (seconds)')\n",
    "        ax3.set_title('Strategy Time Comparison')\n",
    "        ax3.grid(True, alpha=0.3)\n",
    "        \n",
    "        # Plot 4: Stint analysis (best strategy)\n",
    "        ax4 = axes[1, 0]\n",
    "        if strategies:\n",
    "            best_strategy = min(strategies.values(), key=lambda x: x.get('total_time', float('inf')))\n",
    "            if 'simulation' in best_strategy:\n",
    "                stint_data = best_strategy['simulation']['stint_details']\n",
    "                \n",
    "                stint_colors = ['red', 'blue', 'green', 'purple', 'orange']\n",
    "                current_stint = 1\n",
    "                \n",
    "                for detail in stint_data:\n",
    "                    if not detail['is_pit']:\n",
    "                        color_idx = (detail['stint'] - 1) % len(stint_colors)\n",
    "                        ax4.scatter(detail['lap'], detail['lap_time'], \n",
    "                                  color=stint_colors[color_idx], \n",
    "                                  s=30, alpha=0.7)\n",
    "                \n",
    "                ax4.set_xlabel('Lap Number')\n",
    "                ax4.set_ylabel('Lap Time (seconds)')\n",
    "                ax4.set_title(f'Best Strategy Stint Analysis ({best_strategy[\"type\"].title()})')\n",
    "                ax4.grid(True, alpha=0.3)\n",
    "        \n",
    "        # Plot 5: Tire degradation visualization (FIXED - was stints[17])\n",
    "        ax5 = axes[1, 1]\n",
    "        if strategies:\n",
    "            for strategy_name, strategy in strategies.items():\n",
    "                if 'simulation' in strategy:\n",
    "                    stint_data = strategy['simulation']['stint_details']\n",
    "                    \n",
    "                    # Group by stint\n",
    "                    stints = {}\n",
    "                    for detail in stint_data:\n",
    "                        if not detail['is_pit']:\n",
    "                            stint_num = detail['stint']\n",
    "                            if stint_num not in stints:\n",
    "                                stints[stint_num] = {'tyre_life': [], 'lap_times': []}\n",
    "                            stints[stint_num]['tyre_life'].append(detail['tyre_life'])\n",
    "                            stints[stint_num]['lap_times'].append(detail['lap_time'])\n",
    "                    \n",
    "                    # Plot degradation for first stint only (FIXED)\n",
    "                    if 1 in stints:\n",
    "                        ax5.plot(stints[1]['tyre_life'], stints[1]['lap_times'], \n",
    "                                'o-', color=colors.get(strategy_name, 'gray'), \n",
    "                                alpha=0.7, label=strategy_name.title())\n",
    "        \n",
    "        ax5.set_xlabel('Tire Life (laps)')\n",
    "        ax5.set_ylabel('Lap Time (seconds)')\n",
    "        ax5.set_title('Tire Degradation (Stint 1)')\n",
    "        ax5.legend()\n",
    "        ax5.grid(True, alpha=0.3)\n",
    "        \n",
    "        # Plot 6: Performance metrics\n",
    "        ax6 = axes[1, 2]\n",
    "        ax6.axis('off')\n",
    "        \n",
    "        metrics_text = f\"\"\"STRATEGY COMPARISON SUMMARY\n",
    "{'='*40}\n",
    "Race Length: {race_length} laps\n",
    "Driver: {driver}\n",
    "\n",
    "STRATEGY PERFORMANCE:\n",
    "\"\"\"\n",
    "        \n",
    "        for strategy_name, strategy in strategies.items():\n",
    "            metrics_text += f\"\\n{strategy_name.upper().replace('_', ' ')}:\\n\"\n",
    "            metrics_text += f\"  Total Time: {strategy.get('total_time', 0):.2f}s\\n\"\n",
    "            metrics_text += f\"  Pit Stops: {len(strategy.get('pit_laps', []))}\\n\"\n",
    "            if strategy.get('compounds'):\n",
    "                metrics_text += f\"  Compounds: {strategy['compounds']}\\n\"\n",
    "        \n",
    "        if actual_times:\n",
    "            actual_total = sum(actual_times[:race_length])\n",
    "            best_sim = min([s.get('total_time', float('inf')) for s in strategies.values()])\n",
    "            difference = best_sim - actual_total\n",
    "            metrics_text += f\"\\nACTUAL vs BEST SIMULATION:\\n\"\n",
    "            metrics_text += f\"  Actual Total: {actual_total:.2f}s\\n\"\n",
    "            metrics_text += f\"  Best Sim: {best_sim:.2f}s\\n\"\n",
    "            metrics_text += f\"  Difference: {difference:+.2f}s\\n\"\n",
    "        \n",
    "        ax6.text(0.05, 0.95, metrics_text, transform=ax6.transAxes, \n",
    "                fontsize=10, verticalalignment='top', fontfamily='monospace',\n",
    "                bbox=dict(boxstyle='round,pad=0.5', facecolor='lightblue', alpha=0.7))\n",
    "        \n",
    "        plt.tight_layout()\n",
    "        plt.show()\n",
    "    \n",
    "    def create_enhanced_interactive_simulator(self):\n",
    "        \"\"\"Create enhanced interactive simulator with real-time optimization\"\"\"\n",
    "        \n",
    "        if not WIDGETS_AVAILABLE:\n",
    "            return self.create_manual_interface()\n",
    "        \n",
    "        try:\n",
    "            available_drivers = sorted([d for d in self.laps['Driver'].dropna().unique() if d])\n",
    "            available_compounds = sorted([c for c in self.laps['Compound'].dropna().unique() if c])\n",
    "            max_laps = int(self.laps['LapNumber'].max())\n",
    "            \n",
    "            # Main control widgets\n",
    "            driver_dropdown = widgets.Dropdown(\n",
    "                options=available_drivers,\n",
    "                value=available_drivers[0],\n",
    "                description='🏎️ Driver:',\n",
    "                style={'description_width': '100px'}\n",
    "            )\n",
    "            \n",
    "            race_length_slider = widgets.IntSlider(\n",
    "                value=min(52, max_laps),\n",
    "                min=20, max=max_laps,\n",
    "                description='🏁 Race Length:',\n",
    "                style={'description_width': '100px'}\n",
    "            )\n",
    "            \n",
    "            # Weather simulation\n",
    "            weather_slider = widgets.FloatSlider(\n",
    "                value=1.0,\n",
    "                min=0.95, max=1.15, step=0.01,\n",
    "                description='🌦️ Weather:',\n",
    "                style={'description_width': '100px'}\n",
    "            )\n",
    "            \n",
    "            # Strategy optimization widgets\n",
    "            strategy_type_dropdown = widgets.Dropdown(\n",
    "                options=[\n",
    "                    ('No Pit Stop', 'no_pit'),\n",
    "                    ('Single Pit Stop', 'single_pit'), \n",
    "                    ('Double Pit Stop', 'double_pit'),\n",
    "                    ('Compare All', 'compare_all')\n",
    "                ],\n",
    "                value='single_pit',\n",
    "                description='📋 Strategy:',\n",
    "                style={'description_width': '100px'}\n",
    "            )\n",
    "            \n",
    "            # Manual strategy widgets\n",
    "            pit1_slider = widgets.IntSlider(\n",
    "                value=20, min=5, max=70,\n",
    "                description='Pit Stop 1:',\n",
    "                style={'description_width': '100px'}\n",
    "            )\n",
    "            \n",
    "            pit2_slider = widgets.IntSlider(\n",
    "                value=40, min=5, max=70,\n",
    "                description='Pit Stop 2:',\n",
    "                style={'description_width': '100px'}\n",
    "            )\n",
    "            \n",
    "            compound_selectors = []\n",
    "            for i in range(3):\n",
    "                compound_selectors.append(\n",
    "                    widgets.Dropdown(\n",
    "                        options=available_compounds,\n",
    "                        value=available_compounds[min(i, len(available_compounds)-1)],\n",
    "                        description=f'Compound {i+1}:',\n",
    "                        style={'description_width': '100px'}\n",
    "                    )\n",
    "                )\n",
    "            \n",
    "            # Action buttons\n",
    "            optimize_button = widgets.Button(\n",
    "                description='🚀 Optimize Strategy',\n",
    "                button_style='success',\n",
    "                layout=widgets.Layout(width='200px', height='40px')\n",
    "            )\n",
    "            \n",
    "            simulate_button = widgets.Button(\n",
    "                description='🎯 Simulate Manual',\n",
    "                button_style='primary',\n",
    "                layout=widgets.Layout(width='200px', height='40px')\n",
    "            )\n",
    "            \n",
    "            compare_button = widgets.Button(\n",
    "                description='📊 Compare All',\n",
    "                button_style='warning',\n",
    "                layout=widgets.Layout(width='200px', height='40px')\n",
    "            )\n",
    "            \n",
    "            # Progress and output widgets\n",
    "            progress_bar = widgets.IntProgress(\n",
    "                min=0, max=100,\n",
    "                description='Progress:',\n",
    "                bar_style='info',\n",
    "                style={'description_width': '80px'},\n",
    "                layout=widgets.Layout(width='400px')\n",
    "            )\n",
    "            \n",
    "            progress_label = widgets.Label(value='Ready to optimize...')\n",
    "            output_area = widgets.Output()\n",
    "            \n",
    "            # Callback functions\n",
    "            def update_progress(current, total, description):\n",
    "                progress_bar.value = int((current / total) * 100)\n",
    "                progress_label.value = f'{description} ({current}/{total})'\n",
    "            \n",
    "            def optimize_strategy(b):\n",
    "                with output_area:\n",
    "                    output_area.clear_output()\n",
    "                    \n",
    "                    driver = driver_dropdown.value\n",
    "                    race_length = race_length_slider.value\n",
    "                    strategy_type = strategy_type_dropdown.value\n",
    "                    weather = weather_slider.value\n",
    "                    \n",
    "                    print(f\"🏎️ Optimizing {strategy_type.replace('_', ' ')} for {driver}\")\n",
    "                    print(f\"Race: {race_length} laps, Weather: {weather:.2f}\")\n",
    "                    print(\"-\" * 50)\n",
    "                    \n",
    "                    start_time = time.time()\n",
    "                    \n",
    "                    if strategy_type == 'compare_all':\n",
    "                        strategies = {}\n",
    "                        for strat_type in ['no_pit', 'single_pit', 'double_pit']:\n",
    "                            print(f\"Optimizing {strat_type}...\")\n",
    "                            strategy = self.optimize_strategy_realtime(\n",
    "                                driver, race_length, strat_type, update_progress\n",
    "                            )\n",
    "                            if strategy:\n",
    "                                strategies[strat_type] = strategy\n",
    "                        \n",
    "                        # Get actual data\n",
    "                        actual_times, actual_laps = self.get_actual_lap_times(driver, race_length)\n",
    "                        \n",
    "                        # Create comparison\n",
    "                        if strategies:\n",
    "                            self.create_enhanced_comparison_plot(\n",
    "                                driver, strategies, actual_times, actual_laps, race_length\n",
    "                            )\n",
    "                            \n",
    "                            # Print summary\n",
    "                            best_strategy = min(strategies.values(), \n",
    "                                             key=lambda x: x.get('total_time', float('inf')))\n",
    "                            print(f\"\\n🏆 OPTIMAL STRATEGY: {best_strategy['type'].upper()}\")\n",
    "                            print(f\"Total Time: {best_strategy['total_time']:.2f}s\")\n",
    "                            print(f\"Pit Stops: {len(best_strategy.get('pit_laps', []))}\")\n",
    "                            print(f\"Compounds: {best_strategy.get('compounds', [])}\")\n",
    "                    else:\n",
    "                        strategy = self.optimize_strategy_realtime(\n",
    "                            driver, race_length, strategy_type, update_progress\n",
    "                        )\n",
    "                        \n",
    "                        if strategy:\n",
    "                            actual_times, actual_laps = self.get_actual_lap_times(driver, race_length)\n",
    "                            self.create_enhanced_comparison_plot(\n",
    "                                driver, {strategy_type: strategy}, \n",
    "                                actual_times, actual_laps, race_length\n",
    "                            )\n",
    "                            \n",
    "                            print(f\"\\n🎯 OPTIMIZED {strategy_type.upper()} STRATEGY:\")\n",
    "                            print(f\"Total Time: {strategy['total_time']:.2f}s\")\n",
    "                            print(f\"Pit Stops: {len(strategy.get('pit_laps', []))}\")\n",
    "                            print(f\"Compounds: {strategy.get('compounds', [])}\")\n",
    "                            \n",
    "                            if actual_times:\n",
    "                                metrics = self.calculate_accuracy_metrics(\n",
    "                                    actual_times, strategy['simulation']['lap_times']\n",
    "                                )\n",
    "                                if metrics:\n",
    "                                    print(f\"Accuracy: {metrics.get('Accuracy_Grade', 'Unknown')}\")\n",
    "                                    print(f\"MAE: {metrics.get('MAE', 0):.3f}s\")\n",
    "                    \n",
    "                    end_time = time.time()\n",
    "                    print(f\"\\n⏱️ Optimization completed in {end_time - start_time:.1f} seconds\")\n",
    "                    \n",
    "                    progress_bar.value = 0\n",
    "                    progress_label.value = 'Optimization complete!'\n",
    "            \n",
    "            def simulate_manual(b):\n",
    "                with output_area:\n",
    "                    output_area.clear_output()\n",
    "                    \n",
    "                    driver = driver_dropdown.value\n",
    "                    race_length = race_length_slider.value\n",
    "                    weather = weather_slider.value\n",
    "                    pit_laps = [pit1_slider.value, pit2_slider.value]\n",
    "                    compounds = [cs.value for cs in compound_selectors]\n",
    "                    \n",
    "                    print(f\"🎯 Manual simulation for {driver}\")\n",
    "                    print(f\"Pit stops: {pit_laps}\")\n",
    "                    print(f\"Compounds: {compounds}\")\n",
    "                    \n",
    "                    result = self.simulate_race_enhanced(\n",
    "                        driver, race_length, pit_laps, compounds, weather\n",
    "                    )\n",
    "                    \n",
    "                    manual_strategy = {\n",
    "                        'manual': {\n",
    "                            'type': 'manual',\n",
    "                            'pit_laps': pit_laps,\n",
    "                            'compounds': compounds,\n",
    "                            'total_time': result['total_time'],\n",
    "                            'simulation': result\n",
    "                        }\n",
    "                    }\n",
    "                    \n",
    "                    actual_times, actual_laps = self.get_actual_lap_times(driver, race_length)\n",
    "                    self.create_enhanced_comparison_plot(\n",
    "                        driver, manual_strategy, actual_times, actual_laps, race_length\n",
    "                    )\n",
    "                    \n",
    "                    print(f\"Total Time: {result['total_time']:.2f}s\")\n",
    "                    print(f\"Average Lap: {result['avg_lap_time']:.3f}s\")\n",
    "            \n",
    "            # Connect callbacks\n",
    "            optimize_button.on_click(optimize_strategy)\n",
    "            simulate_button.on_click(simulate_manual)\n",
    "            compare_button.on_click(lambda b: strategy_type_dropdown.set_trait('value', 'compare_all'))\n",
    "            \n",
    "            # Create layout\n",
    "            header = widgets.HTML(\n",
    "                value=\"<h2>🏎️ Enhanced F1 Race Strategy Simulator</h2>\"\n",
    "                      \"<p>Real-time optimization with weather simulation and strategy comparison</p>\"\n",
    "            )\n",
    "            \n",
    "            controls_left = widgets.VBox([\n",
    "                widgets.HTML(\"<h4>Race Configuration</h4>\"),\n",
    "                driver_dropdown,\n",
    "                race_length_slider,\n",
    "                weather_slider,\n",
    "                strategy_type_dropdown\n",
    "            ])\n",
    "            \n",
    "            controls_right = widgets.VBox([\n",
    "                widgets.HTML(\"<h4>Manual Strategy</h4>\"),\n",
    "                pit1_slider,\n",
    "                pit2_slider,\n",
    "                *compound_selectors\n",
    "            ])\n",
    "            \n",
    "            buttons_area = widgets.HBox([\n",
    "                optimize_button,\n",
    "                simulate_button,\n",
    "                compare_button\n",
    "            ])\n",
    "            \n",
    "            progress_area = widgets.VBox([\n",
    "                progress_bar,\n",
    "                progress_label\n",
    "            ])\n",
    "            \n",
    "            main_layout = widgets.VBox([\n",
    "                header,\n",
    "                widgets.HBox([controls_left, controls_right]),\n",
    "                buttons_area,\n",
    "                progress_area,\n",
    "                output_area\n",
    "            ], layout=widgets.Layout(padding='20px', border='1px solid #ddd'))\n",
    "            \n",
    "            return main_layout\n",
    "            \n",
    "        except Exception as e:\n",
    "            print(f\"❌ Widget creation error: {str(e)}\")\n",
    "            return self.create_manual_interface()\n",
    "    \n",
    "    def create_manual_interface(self):\n",
    "        \"\"\"Manual interface fallback\"\"\"\n",
    "        print(\"📝 ENHANCED MANUAL SIMULATION INTERFACE\")\n",
    "        print(\"=\" * 60)\n",
    "        print(\"Available functions:\")\n",
    "        print()\n",
    "        print(\"# Initialize simulator:\")\n",
    "        print(\"simulator = EnhancedRaceStrategySimulator(laps)\")\n",
    "        print()\n",
    "        print(\"# Optimize strategy:\")\n",
    "        print(\"best_strategy = simulator.optimize_strategy_realtime('HAM', 52, 'single_pit')\")\n",
    "        print()\n",
    "        print(\"# Manual simulation:\")\n",
    "        print(\"result = simulator.simulate_race_enhanced('HAM', 52, [20, 40], ['SOFT', 'MEDIUM', 'HARD'])\")\n",
    "        print()\n",
    "        print(\"# Create comparison:\")\n",
    "        print(\"strategies = {'single_pit': best_strategy}\")\n",
    "        print(\"actual_times, actual_laps = simulator.get_actual_lap_times('HAM', 52)\")\n",
    "        print(\"simulator.create_enhanced_comparison_plot('HAM', strategies, actual_times, actual_laps, 52)\")\n",
    "\n",
    "# Initialize Enhanced Simulator (COMPLETE FIXED VERSION)\n",
    "try:\n",
    "    print(\"🚀 Initializing Enhanced Race Strategy Simulator...\")\n",
    "    \n",
    "    # Check what variables are available\n",
    "    if 'laps' not in globals():\n",
    "        print(\"❌ 'laps' variable not found!\")\n",
    "        print(\"Please ensure you've run the F1 data loading cell first\")\n",
    "        \n",
    "        # Show manual creation example\n",
    "        print(\"\\n📋 To create the 'laps' variable, run:\")\n",
    "        print(\"# Example code:\")\n",
    "        print(\"import fastf1\")\n",
    "        print(\"fastf1.Cache.enable_cache('cache')\")\n",
    "        print(\"session = fastf1.get_session(2023, 'Monaco', 'R')\")\n",
    "        print(\"session.load()\")\n",
    "        print(\"laps = session.laps\")\n",
    "        \n",
    "    else:\n",
    "        # Check for degradation models\n",
    "        degradation_models_ref = None\n",
    "        if 'degradation_models' in globals():\n",
    "            degradation_models_ref = degradation_models\n",
    "        elif 'enhanced_degradation_models' in globals():\n",
    "            degradation_models_ref = enhanced_degradation_models\n",
    "        \n",
    "        # Create simulator (will create fallback models if needed)\n",
    "        enhanced_simulator = EnhancedRaceStrategySimulator(laps, degradation_models_ref)\n",
    "        \n",
    "        # Link enhanced degradation models if available\n",
    "        if 'enhanced_deg_model' in globals() and hasattr(enhanced_deg_model, 'models_df'):\n",
    "            enhanced_simulator.enhanced_models = enhanced_deg_model.models_df\n",
    "            print(\"✅ Enhanced degradation models linked\")\n",
    "        \n",
    "        # Create interactive interface\n",
    "        enhanced_widget = enhanced_simulator.create_enhanced_interactive_simulator()\n",
    "        \n",
    "        print(\"\\n✅ Enhanced Race Strategy Simulator Created Successfully!\")\n",
    "        print(\"\\n🏆 NEW ADVANCED FEATURES:\")\n",
    "        print(\" • Real-time strategy optimization with progress tracking\")\n",
    "        print(\" • Weather simulation factor\")\n",
    "        print(\" • Enhanced accuracy metrics and grading\")\n",
    "        print(\" • Multi-strategy comparison dashboard\")\n",
    "        print(\" • Caching for faster repeated simulations\")\n",
    "        print(\" • Advanced visualization with 6-panel analysis\")\n",
    "        print(\" • Manual and automatic strategy optimization\")\n",
    "        print(\" • Fallback degradation models when none provided\")\n",
    "        print(\" • Comprehensive performance metrics\")\n",
    "        print(\" • FIXED KeyError issue in tire degradation plot\")\n",
    "        \n",
    "        if enhanced_widget and WIDGETS_AVAILABLE:\n",
    "            print(\"\\n🎛️ Enhanced Interactive Simulator Ready:\")\n",
    "            display(enhanced_widget)\n",
    "        elif not WIDGETS_AVAILABLE:\n",
    "            print(\"\\n📝 Manual interface available\")\n",
    "            enhanced_simulator.create_manual_interface()\n",
    "            \n",
    "except Exception as e:\n",
    "    print(f\"❌ Error creating enhanced simulator: {str(e)}\")\n",
    "    print(\"\\n🔧 Troubleshooting:\")\n",
    "    print(\"1. Ensure you have the 'laps' variable from F1 data loading\")\n",
    "    print(\"2. If you don't have degradation models, the simulator will create fallback ones\")\n",
    "    print(\"3. Install ipywidgets: !pip install ipywidgets\")\n",
    "    print(\"4. Restart kernel if widgets don't display\")\n",
    "\n",
    "print(\"\\n✅ Enhanced Interactive Race Strategy Simulator Complete!\")\n"
   ]
  },
  {
   "cell_type": "code",
   "execution_count": 7,
   "id": "6ba84a7b",
   "metadata": {},
   "outputs": [
    {
     "name": "stdout",
     "output_type": "stream",
     "text": [
      "🏁 Initializing Advanced F1 Analytics Dashboard...\n",
      "🏁 Advanced F1 Analytics Dashboard Initialized\n",
      "Data Coverage: 960 laps from 19 drivers\n",
      "🔧 Preparing advanced analytics features...\n",
      "✅ Advanced features prepared\n",
      "\n",
      "✅ Advanced Analytics Dashboard Created Successfully!\n",
      "\n",
      "🏆 ADVANCED FEATURES:\n",
      " • Comprehensive championship analysis with statistical insights\n",
      " • Advanced telemetry analysis with performance heatmaps\n",
      " • Machine Learning lap time predictor with feature importance\n",
      " • Statistical significance testing and performance categorization\n",
      " • Real-time performance prediction capabilities\n",
      " • Professional-grade F1 team analytics\n",
      " • Advanced data preprocessing with rolling statistics\n",
      " • Multi-dimensional performance analysis\n",
      " • FIXED Plotly subplot compatibility issues\n",
      "\n",
      "🎛️ Generating Advanced Analytics Dashboard...\n",
      "🚀 Creating Comprehensive Advanced Analytics Dashboard...\n",
      "This may take a moment...\n",
      "\n",
      "1️⃣ Championship Analysis...\n"
     ]
    },
    {
     "data": {
      "application/vnd.plotly.v1+json": {
       "config": {
        "plotlyServerURL": "https://plot.ly"
       },
       "data": [
        {
         "marker": {
          "color": "green"
         },
         "name": "Consistency (Lower is Better)",
         "type": "bar",
         "x": [
          "NOR",
          "VER",
          "HUL",
          "HAM",
          "STR",
          "TSU",
          "RUS",
          "SAI",
          "RIC",
          "PIA"
         ],
         "xaxis": "x3",
         "y": {
          "bdata": "XRs+n7osGkBTKw5Qhc8aQNQSe0ojMBtAApnAmhtaG0CUcU73Qn0bQB0mczw/ZBxA5gLB52SbHEAMPu3q/KYcQPqyPG4A3BxAC2jbbYxWHUA=",
          "dtype": "f8"
         },
         "yaxis": "y3"
        },
        {
         "marker": {
          "color": "red"
         },
         "name": "Race Wins",
         "type": "bar",
         "x": [
          "NOR",
          "RUS",
          "HAM",
          "PIA"
         ],
         "xaxis": "x4",
         "y": {
          "bdata": "ExEPAQ==",
          "dtype": "i1"
         },
         "yaxis": "y4"
        },
        {
         "marker": {
          "color": "purple"
         },
         "name": "Best Lap Time",
         "type": "bar",
         "x": [
          "SAI",
          "PIA",
          "VER",
          "NOR",
          "HAM",
          "PER",
          "ALO",
          "ALB",
          "LEC",
          "HUL"
         ],
         "xaxis": "x5",
         "y": {
          "bdata": "mG4Sg8ASVkAdWmQ73y9WQLByaJHtPFZAVOOlm8RQVkB56SYxCFxWQGiR7Xw/bVZAPQrXo3BtVkDLoUW2821WQB1aZDvfb1ZAL90kBoF1VkA=",
          "dtype": "f8"
         },
         "yaxis": "y5"
        },
        {
         "line": {
          "width": 2
         },
         "mode": "lines",
         "name": "HAM",
         "opacity": 0.7,
         "type": "scatter",
         "x": {
          "bdata": "AAAAAAAA8D8AAAAAAAAAQAAAAAAAAAhAAAAAAAAAEEAAAAAAAAAUQAAAAAAAABhAAAAAAAAAHEAAAAAAAAAgQAAAAAAAACJAAAAAAAAAJEAAAAAAAAAmQAAAAAAAAChAAAAAAAAAKkAAAAAAAAAsQAAAAAAAAC5AAAAAAAAAMEAAAAAAAAAxQAAAAAAAADJAAAAAAAAAM0AAAAAAAAA0QAAAAAAAADVAAAAAAAAANkAAAAAAAAA3QAAAAAAAADhAAAAAAAAAOUAAAAAAAAA6QAAAAAAAADtAAAAAAAAAPEAAAAAAAAA9QAAAAAAAAD5AAAAAAAAAP0AAAAAAAABAQAAAAAAAgEBAAAAAAAAAQUAAAAAAAIBBQAAAAAAAAEJAAAAAAACAQkAAAAAAAABDQAAAAAAAgENAAAAAAAAAREAAAAAAAIBEQAAAAAAAAEVAAAAAAACARUAAAAAAAABGQAAAAAAAgEZAAAAAAAAAR0AAAAAAAIBHQAAAAAAAAEhAAAAAAACASEAAAAAAAABJQAAAAAAAgElAAAAAAAAASkA=",
          "dtype": "f8"
         },
         "xaxis": "x6",
         "y": {
          "bdata": "GQRWDi0CWEB7FK5H4dpWQOf7qfHS7VZArBxaZDv/VkAX2c73U+tWQDm0yHa+71ZAMzMzMzPrVkBxPQrXo/BWQGq8dJMY5FZAKVyPwvXgVkC6SQwCK99WQHnpJjEI5FZAqvHSTWL4VkDl0CLb+eZWQHnpJjEI5FZA3SQGgZX7VkCgGi/dJG5XQAaBlUOLxFdAL90kBoHtWUDTTWIQWAFZQESLbOf7CVdArkfhehTGVkACK4cW2cZWQHE9Ctej6FZArBxaZDu/V0Cmm8QgsDJZQMHKoUW2S1pAgZVDi2w3XkB7FK5H4RpZQNnO91PjHVlA30+Nl25iWUBmZmZmZp5ZQKRwPQrXm1lAnMQgsHKwWUDTTWIQWJFZQEJg5dAie1lAL90kBoHtWECuR+F6FE5YQDeJQWDlWF1AMQisHFqUVkBkO99PjYdWQHNoke18Z1ZAmG4Sg8ByVkD4U+Olm2xWQHnpJjEIXFZAGy/dJAZpVkDfT42XbmJWQJMYBFYOZVZAppvEILBqVkDP91PjpWtWQGQ730+Nb1ZA001iEFiJVkA=",
          "dtype": "f8"
         },
         "yaxis": "y6"
        },
        {
         "line": {
          "width": 2
         },
         "mode": "lines",
         "name": "VER",
         "opacity": 0.7,
         "type": "scatter",
         "x": {
          "bdata": "AAAAAAAA8D8AAAAAAAAAQAAAAAAAAAhAAAAAAAAAEEAAAAAAAAAUQAAAAAAAABhAAAAAAAAAHEAAAAAAAAAgQAAAAAAAACJAAAAAAAAAJEAAAAAAAAAmQAAAAAAAAChAAAAAAAAAKkAAAAAAAAAsQAAAAAAAAC5AAAAAAAAAMEAAAAAAAAAxQAAAAAAAADJAAAAAAAAAM0AAAAAAAAA0QAAAAAAAADVAAAAAAAAANkAAAAAAAAA3QAAAAAAAADhAAAAAAAAAOUAAAAAAAAA6QAAAAAAAADtAAAAAAAAAPEAAAAAAAAA9QAAAAAAAAD5AAAAAAAAAP0AAAAAAAABAQAAAAAAAgEBAAAAAAAAAQUAAAAAAAIBBQAAAAAAAAEJAAAAAAACAQkAAAAAAAABDQAAAAAAAgENAAAAAAAAAREAAAAAAAIBEQAAAAAAAAEVAAAAAAACARUAAAAAAAABGQAAAAAAAgEZAAAAAAAAAR0AAAAAAAIBHQAAAAAAAAEhAAAAAAACASEAAAAAAAABJQAAAAAAAgElAAAAAAAAASkA=",
          "dtype": "f8"
         },
         "xaxis": "x6",
         "y": {
          "bdata": "L90kBoEtWEC28/3UePFWQM3MzMzMDFdAwcqhRbb7VkBvEoPAyvFWQC/dJAaB7VZApHA9Ctf7VkDfT42XbgJXQI2XbhKD+FZA/Knx0k3qVkCkcD0K1/NWQPCnxks3+VZAf2q8dJPwVkDNzMzMzOxWQA4tsp3vD1dAx0s3iUEgV0Dl0CLb+dZXQF66SQwCC1hA16NwPQqfWUD0/dR46UZYQKwcWmQ7X1dAYOXQItv5VkD+1HjpJglXQOF6FK5HQVdAeekmMQgEWECBlUOLbF9ZQIlBYOXQyl1AJQaBlUNLWUAnMQisHGJZQIPAyqFFhllAmpmZmZmBWUDfT42XbqJZQBBYObTIpllA+FPjpZucWUBg5dAi28FZQFpkO99PfVlAVg4tsp23WEASg8DKof1XQJZDi2znk11A3SQGgZWDVkAtsp3vp2ZWQJHtfD81XlZAH4XrUbhGVkArhxbZzldWQFTjpZvESFZAmG4Sg8BiVkD8qfHSTVpWQLByaJHtPFZApHA9CtdjVkD8qfHSTVJWQDEIrBxaXFZABFYOLbJFVkA=",
          "dtype": "f8"
         },
         "yaxis": "y6"
        },
        {
         "line": {
          "width": 2
         },
         "mode": "lines",
         "name": "NOR",
         "opacity": 0.7,
         "type": "scatter",
         "x": {
          "bdata": "AAAAAAAA8D8AAAAAAAAAQAAAAAAAAAhAAAAAAAAAEEAAAAAAAAAUQAAAAAAAABhAAAAAAAAAHEAAAAAAAAAgQAAAAAAAACJAAAAAAAAAJEAAAAAAAAAmQAAAAAAAAChAAAAAAAAAKkAAAAAAAAAsQAAAAAAAAC5AAAAAAAAAMEAAAAAAAAAxQAAAAAAAADJAAAAAAAAAM0AAAAAAAAA0QAAAAAAAADVAAAAAAAAANkAAAAAAAAA3QAAAAAAAADhAAAAAAAAAOUAAAAAAAAA6QAAAAAAAADtAAAAAAAAAPEAAAAAAAAA9QAAAAAAAAD5AAAAAAAAAP0AAAAAAAABAQAAAAAAAgEBAAAAAAAAAQUAAAAAAAIBBQAAAAAAAAEJAAAAAAACAQkAAAAAAAABDQAAAAAAAgENAAAAAAAAAREAAAAAAAIBEQAAAAAAAAEVAAAAAAACARUAAAAAAAABGQAAAAAAAgEZAAAAAAAAAR0AAAAAAAIBHQAAAAAAAAEhAAAAAAACASEAAAAAAAABJQAAAAAAAgElAAAAAAAAASkA=",
          "dtype": "f8"
         },
         "xaxis": "x6",
         "y": {
          "bdata": "ke18PzVWWEB56SYxCAxXQIGVQ4ts/1ZAWDm0yHb+VkDn+6nx0u1WQNNNYhBY+VZABoGVQ4sEV0D+1HjpJgFXQFg5tMh2/lZAhetRuB71VkAdWmQ73+9WQMuhRbbz7VZAke18PzXeVkA1XrpJDNpWQAaBlUOLvFZAXI/C9SjsVkD6fmq8dJNXQAAAAAAAiFdAlkOLbOdbWUCTGARWDm1YQEa28/3U4FZA16NwPQq3VkAlBoGVQ8tWQMdLN4lB6FZAz/dT46WTV0ApXI/C9WBZQN0kBoGVM1pAw/UoXI86XkAbL90kBhFZQNnO91PjLVlAeekmMQhUWUDn+6nx0o1ZQAIrhxbZpllAokW28/3EWUCkcD0K17tZQPYoXI/ClVlA/Knx0k3yWEAOLbKd739YQDm0yHa+L1hA9ihcj8K1XED0/dR46W5WQKrx0k1igFZAVOOlm8RQVkDjpZvEIHBWQHE9CtejaFZAPQrXo3B9VkASg8DKoXVWQN0kBoGVo1ZAKVyPwvWgVkCJQWDl0KJWQPCnxks3sVZA30+Nl266VkA=",
          "dtype": "f8"
         },
         "yaxis": "y6"
        },
        {
         "line": {
          "width": 2
         },
         "mode": "lines",
         "name": "PIA",
         "opacity": 0.7,
         "type": "scatter",
         "x": {
          "bdata": "AAAAAAAA8D8AAAAAAAAAQAAAAAAAAAhAAAAAAAAAEEAAAAAAAAAUQAAAAAAAABhAAAAAAAAAHEAAAAAAAAAgQAAAAAAAACJAAAAAAAAAJEAAAAAAAAAmQAAAAAAAAChAAAAAAAAAKkAAAAAAAAAsQAAAAAAAAC5AAAAAAAAAMEAAAAAAAAAxQAAAAAAAADJAAAAAAAAAM0AAAAAAAAA0QAAAAAAAADVAAAAAAAAANkAAAAAAAAA3QAAAAAAAADhAAAAAAAAAOUAAAAAAAAA6QAAAAAAAADtAAAAAAAAAPEAAAAAAAAA9QAAAAAAAAD5AAAAAAAAAP0AAAAAAAABAQAAAAAAAgEBAAAAAAAAAQUAAAAAAAIBBQAAAAAAAAEJAAAAAAACAQkAAAAAAAABDQAAAAAAAgENAAAAAAAAAREAAAAAAAIBEQAAAAAAAAEVAAAAAAACARUAAAAAAAABGQAAAAAAAgEZAAAAAAAAAR0AAAAAAAIBHQAAAAAAAAEhAAAAAAACASEAAAAAAAABJQAAAAAAAgElAAAAAAAAASkA=",
          "dtype": "f8"
         },
         "xaxis": "x6",
         "y": {
          "bdata": "jZduEoOAWEDJdr6fGhdXQBfZzvdT+1ZAiUFg5dD6VkBoke18P/VWQIcW2c73A1dAMzMzMzP7VkBWDi2ynf9WQAAAAAAAAFdAlkOLbOfzVkAfhetRuPZWQN9PjZdu6lZA001iEFj5VkD4U+Olm+xWQDeJQWDl4FZAZDvfT40HV0CsHFpkO39XQPCnxks3kVdAO99PjZcuWUCDwMqhRVZYQCPb+X5q9FZAiUFg5dDKVkBYObTIdr5WQAwCK4cW2VZA001iEFiRV0ArhxbZzidZQCuHFtnOb1tAWDm0yHY+XECyne+nxkteQHNoke18H1lA/Knx0k2KWUBU46WbxMhZQM3MzMzM1FlAkxgEVg79WUCyne+nxtNZQOF6FK5HoVlAcT0K16PoWEAQWDm0yEZYQCcxCKwcqlxA30+Nl256VkDb+X5qvGRWQHe+nxovZVZA/Knx0k1SVkCgGi/dJE5WQJHtfD81TlZA9P3UeOlOVkBCYOXQIkNWQA4tsp3vR1ZAJzEIrBxSVkBaZDvfT31WQB1aZDvfL1ZACKwcWmR7VkA=",
          "dtype": "f8"
         },
         "yaxis": "y6"
        },
        {
         "line": {
          "width": 2
         },
         "mode": "lines",
         "name": "SAI",
         "opacity": 0.7,
         "type": "scatter",
         "x": {
          "bdata": "AAAAAAAA8D8AAAAAAAAAQAAAAAAAAAhAAAAAAAAAEEAAAAAAAAAUQAAAAAAAABhAAAAAAAAAHEAAAAAAAAAgQAAAAAAAACJAAAAAAAAAJEAAAAAAAAAmQAAAAAAAAChAAAAAAAAAKkAAAAAAAAAsQAAAAAAAAC5AAAAAAAAAMEAAAAAAAAAxQAAAAAAAADJAAAAAAAAAM0AAAAAAAAA0QAAAAAAAADVAAAAAAAAANkAAAAAAAAA3QAAAAAAAADhAAAAAAAAAOUAAAAAAAAA6QAAAAAAAADtAAAAAAAAAPEAAAAAAAAA9QAAAAAAAAD5AAAAAAAAAP0AAAAAAAABAQAAAAAAAgEBAAAAAAAAAQUAAAAAAAIBBQAAAAAAAAEJAAAAAAACAQkAAAAAAAABDQAAAAAAAgENAAAAAAAAAREAAAAAAAIBEQAAAAAAAAEVAAAAAAACARUAAAAAAAABGQAAAAAAAgEZAAAAAAAAAR0AAAAAAAIBHQAAAAAAAAEhAAAAAAACASEAAAAAAAABJQAAAAAAAgElAAAAAAAAASkA=",
          "dtype": "f8"
         },
         "xaxis": "x6",
         "y": {
          "bdata": "2/l+arysWEDl0CLb+RZXQEoMAiuHBldAexSuR+ECV0BqvHSTGPxWQJqZmZmZ+VZAsHJoke0sV0ArhxbZzhdXQOXQItv5HldAukkMAisXV0AdWmQ73wdXQPT91HjpFldA8tJNYhAQV0AQWDm0yAZXQLTIdr6f+lZAhetRuB4dV0A730+Nl45XQKRwPQrXk1dAcT0K16MgWUDfT42XbiJYQJzEILByYFdANV66SQwKV0BeukkMAhNXQOXQItv5LldA/tR46SbJV0AQWDm0yJ5ZQNEi2/l+al5AGy/dJAapWUD4U+Olm5xZQLpJDAIrr1lAnMQgsHLAWUBQjZduEtNZQL6fGi/dzFlAiUFg5dCyWUD2KFyPwuVZQB1aZDvfr1lAz/dT46UbWUBI4XoUrpdYQBfZzvdTM1hA1XjpJjEwXUBmZmZmZp5WQCuHFtnOd1ZAK4cW2c53VkCe76fGS29WQARWDi2yZVZAEoPAyqFlVkAIrBxaZGNWQMP1KFyPWlZAarx0kxhcVkCyne+nxltWQG3n+6nxIlxAmG4Sg8ASVkA=",
          "dtype": "f8"
         },
         "yaxis": "y6"
        }
       ],
       "layout": {
        "annotations": [
         {
          "font": {
           "size": 16
          },
          "showarrow": false,
          "text": "Championship Standings",
          "x": 0.14444444444444446,
          "xanchor": "center",
          "xref": "paper",
          "y": 1,
          "yanchor": "bottom",
          "yref": "paper"
         },
         {
          "font": {
           "size": 16
          },
          "showarrow": false,
          "text": "Points Distribution",
          "x": 0.5,
          "xanchor": "center",
          "xref": "paper",
          "y": 1,
          "yanchor": "bottom",
          "yref": "paper"
         },
         {
          "font": {
           "size": 16
          },
          "showarrow": false,
          "text": "Driver Consistency (Std Dev)",
          "x": 0.8555555555555556,
          "xanchor": "center",
          "xref": "paper",
          "y": 1,
          "yanchor": "bottom",
          "yref": "paper"
         },
         {
          "font": {
           "size": 16
          },
          "showarrow": false,
          "text": "Race Wins Analysis",
          "x": 0.14444444444444446,
          "xanchor": "center",
          "xref": "paper",
          "y": 0.375,
          "yanchor": "bottom",
          "yref": "paper"
         },
         {
          "font": {
           "size": 16
          },
          "showarrow": false,
          "text": "Fastest Laps Distribution",
          "x": 0.5,
          "xanchor": "center",
          "xref": "paper",
          "y": 0.375,
          "yanchor": "bottom",
          "yref": "paper"
         },
         {
          "font": {
           "size": 16
          },
          "showarrow": false,
          "text": "Performance Trends",
          "x": 0.8555555555555556,
          "xanchor": "center",
          "xref": "paper",
          "y": 0.375,
          "yanchor": "bottom",
          "yref": "paper"
         }
        ],
        "height": 800,
        "showlegend": true,
        "template": {
         "data": {
          "bar": [
           {
            "error_x": {
             "color": "#2a3f5f"
            },
            "error_y": {
             "color": "#2a3f5f"
            },
            "marker": {
             "line": {
              "color": "#E5ECF6",
              "width": 0.5
             },
             "pattern": {
              "fillmode": "overlay",
              "size": 10,
              "solidity": 0.2
             }
            },
            "type": "bar"
           }
          ],
          "barpolar": [
           {
            "marker": {
             "line": {
              "color": "#E5ECF6",
              "width": 0.5
             },
             "pattern": {
              "fillmode": "overlay",
              "size": 10,
              "solidity": 0.2
             }
            },
            "type": "barpolar"
           }
          ],
          "carpet": [
           {
            "aaxis": {
             "endlinecolor": "#2a3f5f",
             "gridcolor": "white",
             "linecolor": "white",
             "minorgridcolor": "white",
             "startlinecolor": "#2a3f5f"
            },
            "baxis": {
             "endlinecolor": "#2a3f5f",
             "gridcolor": "white",
             "linecolor": "white",
             "minorgridcolor": "white",
             "startlinecolor": "#2a3f5f"
            },
            "type": "carpet"
           }
          ],
          "choropleth": [
           {
            "colorbar": {
             "outlinewidth": 0,
             "ticks": ""
            },
            "type": "choropleth"
           }
          ],
          "contour": [
           {
            "colorbar": {
             "outlinewidth": 0,
             "ticks": ""
            },
            "colorscale": [
             [
              0,
              "#0d0887"
             ],
             [
              0.1111111111111111,
              "#46039f"
             ],
             [
              0.2222222222222222,
              "#7201a8"
             ],
             [
              0.3333333333333333,
              "#9c179e"
             ],
             [
              0.4444444444444444,
              "#bd3786"
             ],
             [
              0.5555555555555556,
              "#d8576b"
             ],
             [
              0.6666666666666666,
              "#ed7953"
             ],
             [
              0.7777777777777778,
              "#fb9f3a"
             ],
             [
              0.8888888888888888,
              "#fdca26"
             ],
             [
              1,
              "#f0f921"
             ]
            ],
            "type": "contour"
           }
          ],
          "contourcarpet": [
           {
            "colorbar": {
             "outlinewidth": 0,
             "ticks": ""
            },
            "type": "contourcarpet"
           }
          ],
          "heatmap": [
           {
            "colorbar": {
             "outlinewidth": 0,
             "ticks": ""
            },
            "colorscale": [
             [
              0,
              "#0d0887"
             ],
             [
              0.1111111111111111,
              "#46039f"
             ],
             [
              0.2222222222222222,
              "#7201a8"
             ],
             [
              0.3333333333333333,
              "#9c179e"
             ],
             [
              0.4444444444444444,
              "#bd3786"
             ],
             [
              0.5555555555555556,
              "#d8576b"
             ],
             [
              0.6666666666666666,
              "#ed7953"
             ],
             [
              0.7777777777777778,
              "#fb9f3a"
             ],
             [
              0.8888888888888888,
              "#fdca26"
             ],
             [
              1,
              "#f0f921"
             ]
            ],
            "type": "heatmap"
           }
          ],
          "histogram": [
           {
            "marker": {
             "pattern": {
              "fillmode": "overlay",
              "size": 10,
              "solidity": 0.2
             }
            },
            "type": "histogram"
           }
          ],
          "histogram2d": [
           {
            "colorbar": {
             "outlinewidth": 0,
             "ticks": ""
            },
            "colorscale": [
             [
              0,
              "#0d0887"
             ],
             [
              0.1111111111111111,
              "#46039f"
             ],
             [
              0.2222222222222222,
              "#7201a8"
             ],
             [
              0.3333333333333333,
              "#9c179e"
             ],
             [
              0.4444444444444444,
              "#bd3786"
             ],
             [
              0.5555555555555556,
              "#d8576b"
             ],
             [
              0.6666666666666666,
              "#ed7953"
             ],
             [
              0.7777777777777778,
              "#fb9f3a"
             ],
             [
              0.8888888888888888,
              "#fdca26"
             ],
             [
              1,
              "#f0f921"
             ]
            ],
            "type": "histogram2d"
           }
          ],
          "histogram2dcontour": [
           {
            "colorbar": {
             "outlinewidth": 0,
             "ticks": ""
            },
            "colorscale": [
             [
              0,
              "#0d0887"
             ],
             [
              0.1111111111111111,
              "#46039f"
             ],
             [
              0.2222222222222222,
              "#7201a8"
             ],
             [
              0.3333333333333333,
              "#9c179e"
             ],
             [
              0.4444444444444444,
              "#bd3786"
             ],
             [
              0.5555555555555556,
              "#d8576b"
             ],
             [
              0.6666666666666666,
              "#ed7953"
             ],
             [
              0.7777777777777778,
              "#fb9f3a"
             ],
             [
              0.8888888888888888,
              "#fdca26"
             ],
             [
              1,
              "#f0f921"
             ]
            ],
            "type": "histogram2dcontour"
           }
          ],
          "mesh3d": [
           {
            "colorbar": {
             "outlinewidth": 0,
             "ticks": ""
            },
            "type": "mesh3d"
           }
          ],
          "parcoords": [
           {
            "line": {
             "colorbar": {
              "outlinewidth": 0,
              "ticks": ""
             }
            },
            "type": "parcoords"
           }
          ],
          "pie": [
           {
            "automargin": true,
            "type": "pie"
           }
          ],
          "scatter": [
           {
            "fillpattern": {
             "fillmode": "overlay",
             "size": 10,
             "solidity": 0.2
            },
            "type": "scatter"
           }
          ],
          "scatter3d": [
           {
            "line": {
             "colorbar": {
              "outlinewidth": 0,
              "ticks": ""
             }
            },
            "marker": {
             "colorbar": {
              "outlinewidth": 0,
              "ticks": ""
             }
            },
            "type": "scatter3d"
           }
          ],
          "scattercarpet": [
           {
            "marker": {
             "colorbar": {
              "outlinewidth": 0,
              "ticks": ""
             }
            },
            "type": "scattercarpet"
           }
          ],
          "scattergeo": [
           {
            "marker": {
             "colorbar": {
              "outlinewidth": 0,
              "ticks": ""
             }
            },
            "type": "scattergeo"
           }
          ],
          "scattergl": [
           {
            "marker": {
             "colorbar": {
              "outlinewidth": 0,
              "ticks": ""
             }
            },
            "type": "scattergl"
           }
          ],
          "scattermap": [
           {
            "marker": {
             "colorbar": {
              "outlinewidth": 0,
              "ticks": ""
             }
            },
            "type": "scattermap"
           }
          ],
          "scattermapbox": [
           {
            "marker": {
             "colorbar": {
              "outlinewidth": 0,
              "ticks": ""
             }
            },
            "type": "scattermapbox"
           }
          ],
          "scatterpolar": [
           {
            "marker": {
             "colorbar": {
              "outlinewidth": 0,
              "ticks": ""
             }
            },
            "type": "scatterpolar"
           }
          ],
          "scatterpolargl": [
           {
            "marker": {
             "colorbar": {
              "outlinewidth": 0,
              "ticks": ""
             }
            },
            "type": "scatterpolargl"
           }
          ],
          "scatterternary": [
           {
            "marker": {
             "colorbar": {
              "outlinewidth": 0,
              "ticks": ""
             }
            },
            "type": "scatterternary"
           }
          ],
          "surface": [
           {
            "colorbar": {
             "outlinewidth": 0,
             "ticks": ""
            },
            "colorscale": [
             [
              0,
              "#0d0887"
             ],
             [
              0.1111111111111111,
              "#46039f"
             ],
             [
              0.2222222222222222,
              "#7201a8"
             ],
             [
              0.3333333333333333,
              "#9c179e"
             ],
             [
              0.4444444444444444,
              "#bd3786"
             ],
             [
              0.5555555555555556,
              "#d8576b"
             ],
             [
              0.6666666666666666,
              "#ed7953"
             ],
             [
              0.7777777777777778,
              "#fb9f3a"
             ],
             [
              0.8888888888888888,
              "#fdca26"
             ],
             [
              1,
              "#f0f921"
             ]
            ],
            "type": "surface"
           }
          ],
          "table": [
           {
            "cells": {
             "fill": {
              "color": "#EBF0F8"
             },
             "line": {
              "color": "white"
             }
            },
            "header": {
             "fill": {
              "color": "#C8D4E3"
             },
             "line": {
              "color": "white"
             }
            },
            "type": "table"
           }
          ]
         },
         "layout": {
          "annotationdefaults": {
           "arrowcolor": "#2a3f5f",
           "arrowhead": 0,
           "arrowwidth": 1
          },
          "autotypenumbers": "strict",
          "coloraxis": {
           "colorbar": {
            "outlinewidth": 0,
            "ticks": ""
           }
          },
          "colorscale": {
           "diverging": [
            [
             0,
             "#8e0152"
            ],
            [
             0.1,
             "#c51b7d"
            ],
            [
             0.2,
             "#de77ae"
            ],
            [
             0.3,
             "#f1b6da"
            ],
            [
             0.4,
             "#fde0ef"
            ],
            [
             0.5,
             "#f7f7f7"
            ],
            [
             0.6,
             "#e6f5d0"
            ],
            [
             0.7,
             "#b8e186"
            ],
            [
             0.8,
             "#7fbc41"
            ],
            [
             0.9,
             "#4d9221"
            ],
            [
             1,
             "#276419"
            ]
           ],
           "sequential": [
            [
             0,
             "#0d0887"
            ],
            [
             0.1111111111111111,
             "#46039f"
            ],
            [
             0.2222222222222222,
             "#7201a8"
            ],
            [
             0.3333333333333333,
             "#9c179e"
            ],
            [
             0.4444444444444444,
             "#bd3786"
            ],
            [
             0.5555555555555556,
             "#d8576b"
            ],
            [
             0.6666666666666666,
             "#ed7953"
            ],
            [
             0.7777777777777778,
             "#fb9f3a"
            ],
            [
             0.8888888888888888,
             "#fdca26"
            ],
            [
             1,
             "#f0f921"
            ]
           ],
           "sequentialminus": [
            [
             0,
             "#0d0887"
            ],
            [
             0.1111111111111111,
             "#46039f"
            ],
            [
             0.2222222222222222,
             "#7201a8"
            ],
            [
             0.3333333333333333,
             "#9c179e"
            ],
            [
             0.4444444444444444,
             "#bd3786"
            ],
            [
             0.5555555555555556,
             "#d8576b"
            ],
            [
             0.6666666666666666,
             "#ed7953"
            ],
            [
             0.7777777777777778,
             "#fb9f3a"
            ],
            [
             0.8888888888888888,
             "#fdca26"
            ],
            [
             1,
             "#f0f921"
            ]
           ]
          },
          "colorway": [
           "#636efa",
           "#EF553B",
           "#00cc96",
           "#ab63fa",
           "#FFA15A",
           "#19d3f3",
           "#FF6692",
           "#B6E880",
           "#FF97FF",
           "#FECB52"
          ],
          "font": {
           "color": "#2a3f5f"
          },
          "geo": {
           "bgcolor": "white",
           "lakecolor": "white",
           "landcolor": "#E5ECF6",
           "showlakes": true,
           "showland": true,
           "subunitcolor": "white"
          },
          "hoverlabel": {
           "align": "left"
          },
          "hovermode": "closest",
          "mapbox": {
           "style": "light"
          },
          "paper_bgcolor": "white",
          "plot_bgcolor": "#E5ECF6",
          "polar": {
           "angularaxis": {
            "gridcolor": "white",
            "linecolor": "white",
            "ticks": ""
           },
           "bgcolor": "#E5ECF6",
           "radialaxis": {
            "gridcolor": "white",
            "linecolor": "white",
            "ticks": ""
           }
          },
          "scene": {
           "xaxis": {
            "backgroundcolor": "#E5ECF6",
            "gridcolor": "white",
            "gridwidth": 2,
            "linecolor": "white",
            "showbackground": true,
            "ticks": "",
            "zerolinecolor": "white"
           },
           "yaxis": {
            "backgroundcolor": "#E5ECF6",
            "gridcolor": "white",
            "gridwidth": 2,
            "linecolor": "white",
            "showbackground": true,
            "ticks": "",
            "zerolinecolor": "white"
           },
           "zaxis": {
            "backgroundcolor": "#E5ECF6",
            "gridcolor": "white",
            "gridwidth": 2,
            "linecolor": "white",
            "showbackground": true,
            "ticks": "",
            "zerolinecolor": "white"
           }
          },
          "shapedefaults": {
           "line": {
            "color": "#2a3f5f"
           }
          },
          "ternary": {
           "aaxis": {
            "gridcolor": "white",
            "linecolor": "white",
            "ticks": ""
           },
           "baxis": {
            "gridcolor": "white",
            "linecolor": "white",
            "ticks": ""
           },
           "bgcolor": "#E5ECF6",
           "caxis": {
            "gridcolor": "white",
            "linecolor": "white",
            "ticks": ""
           }
          },
          "title": {
           "x": 0.05
          },
          "xaxis": {
           "automargin": true,
           "gridcolor": "white",
           "linecolor": "white",
           "ticks": "",
           "title": {
            "standoff": 15
           },
           "zerolinecolor": "white",
           "zerolinewidth": 2
          },
          "yaxis": {
           "automargin": true,
           "gridcolor": "white",
           "linecolor": "white",
           "ticks": "",
           "title": {
            "standoff": 15
           },
           "zerolinecolor": "white",
           "zerolinewidth": 2
          }
         }
        },
        "title": {
         "text": "🏆 Championship Analysis Dashboard"
        },
        "xaxis": {
         "anchor": "y",
         "domain": [
          0,
          0.2888888888888889
         ],
         "title": {
          "text": "Driver"
         }
        },
        "xaxis2": {
         "anchor": "y2",
         "domain": [
          0.35555555555555557,
          0.6444444444444445
         ],
         "title": {
          "text": "Points"
         }
        },
        "xaxis3": {
         "anchor": "y3",
         "domain": [
          0.7111111111111111,
          1
         ],
         "title": {
          "text": "Driver"
         }
        },
        "xaxis4": {
         "anchor": "y4",
         "domain": [
          0,
          0.2888888888888889
         ],
         "title": {
          "text": "Driver"
         }
        },
        "xaxis5": {
         "anchor": "y5",
         "domain": [
          0.35555555555555557,
          0.6444444444444445
         ],
         "title": {
          "text": "Driver"
         }
        },
        "xaxis6": {
         "anchor": "y6",
         "domain": [
          0.7111111111111111,
          1
         ],
         "title": {
          "text": "Lap Number"
         }
        },
        "yaxis": {
         "anchor": "x",
         "domain": [
          0.625,
          1
         ],
         "title": {
          "text": "Total Points"
         }
        },
        "yaxis2": {
         "anchor": "x2",
         "domain": [
          0.625,
          1
         ],
         "title": {
          "text": "Frequency"
         }
        },
        "yaxis3": {
         "anchor": "x3",
         "domain": [
          0.625,
          1
         ],
         "title": {
          "text": "Consistency (s)"
         }
        },
        "yaxis4": {
         "anchor": "x4",
         "domain": [
          0,
          0.375
         ],
         "title": {
          "text": "Wins"
         }
        },
        "yaxis5": {
         "anchor": "x5",
         "domain": [
          0,
          0.375
         ],
         "title": {
          "text": "Best Lap Time (s)"
         }
        },
        "yaxis6": {
         "anchor": "x6",
         "domain": [
          0,
          0.375
         ],
         "title": {
          "text": "Avg Lap Time (s)"
         }
        }
       }
      }
     },
     "metadata": {},
     "output_type": "display_data"
    },
    {
     "name": "stdout",
     "output_type": "stream",
     "text": [
      "2️⃣ Telemetry Analysis...\n"
     ]
    },
    {
     "data": {
      "application/vnd.plotly.v1+json": {
       "config": {
        "plotlyServerURL": "https://plot.ly"
       },
       "data": [
        {
         "marker": {
          "color": "rgb(141,211,199)"
         },
         "name": "HAM",
         "nbinsx": 30,
         "opacity": 0.7,
         "type": "histogram",
         "x": {
          "bdata": "GQRWDi0CWEB7FK5H4dpWQOf7qfHS7VZArBxaZDv/VkAX2c73U+tWQDm0yHa+71ZAMzMzMzPrVkBxPQrXo/BWQGq8dJMY5FZAKVyPwvXgVkC6SQwCK99WQHnpJjEI5FZAqvHSTWL4VkDl0CLb+eZWQHnpJjEI5FZA3SQGgZX7VkCgGi/dJG5XQAaBlUOLxFdAL90kBoHtWUDTTWIQWAFZQESLbOf7CVdArkfhehTGVkACK4cW2cZWQHE9Ctej6FZArBxaZDu/V0Cmm8QgsDJZQMHKoUW2S1pAgZVDi2w3XkB7FK5H4RpZQNnO91PjHVlA30+Nl25iWUBmZmZmZp5ZQKRwPQrXm1lAnMQgsHKwWUDTTWIQWJFZQEJg5dAie1lAL90kBoHtWECuR+F6FE5YQDeJQWDlWF1AMQisHFqUVkBkO99PjYdWQHNoke18Z1ZAmG4Sg8ByVkD4U+Olm2xWQHnpJjEIXFZAGy/dJAZpVkDfT42XbmJWQJMYBFYOZVZAppvEILBqVkDP91PjpWtWQGQ730+Nb1ZA001iEFiJVkA=",
          "dtype": "f8"
         },
         "xaxis": "x",
         "yaxis": "y"
        },
        {
         "marker": {
          "color": "rgb(255,255,179)"
         },
         "name": "VER",
         "nbinsx": 30,
         "opacity": 0.7,
         "type": "histogram",
         "x": {
          "bdata": "L90kBoEtWEC28/3UePFWQM3MzMzMDFdAwcqhRbb7VkBvEoPAyvFWQC/dJAaB7VZApHA9Ctf7VkDfT42XbgJXQI2XbhKD+FZA/Knx0k3qVkCkcD0K1/NWQPCnxks3+VZAf2q8dJPwVkDNzMzMzOxWQA4tsp3vD1dAx0s3iUEgV0Dl0CLb+dZXQF66SQwCC1hA16NwPQqfWUD0/dR46UZYQKwcWmQ7X1dAYOXQItv5VkD+1HjpJglXQOF6FK5HQVdAeekmMQgEWECBlUOLbF9ZQIlBYOXQyl1AJQaBlUNLWUAnMQisHGJZQIPAyqFFhllAmpmZmZmBWUDfT42XbqJZQBBYObTIpllA+FPjpZucWUBg5dAi28FZQFpkO99PfVlAVg4tsp23WEASg8DKof1XQJZDi2znk11A3SQGgZWDVkAtsp3vp2ZWQJHtfD81XlZAH4XrUbhGVkArhxbZzldWQFTjpZvESFZAmG4Sg8BiVkD8qfHSTVpWQLByaJHtPFZApHA9CtdjVkD8qfHSTVJWQDEIrBxaXFZABFYOLbJFVkA=",
          "dtype": "f8"
         },
         "xaxis": "x",
         "yaxis": "y"
        },
        {
         "marker": {
          "color": "rgb(190,186,218)"
         },
         "name": "NOR",
         "nbinsx": 30,
         "opacity": 0.7,
         "type": "histogram",
         "x": {
          "bdata": "ke18PzVWWEB56SYxCAxXQIGVQ4ts/1ZAWDm0yHb+VkDn+6nx0u1WQNNNYhBY+VZABoGVQ4sEV0D+1HjpJgFXQFg5tMh2/lZAhetRuB71VkAdWmQ73+9WQMuhRbbz7VZAke18PzXeVkA1XrpJDNpWQAaBlUOLvFZAXI/C9SjsVkD6fmq8dJNXQAAAAAAAiFdAlkOLbOdbWUCTGARWDm1YQEa28/3U4FZA16NwPQq3VkAlBoGVQ8tWQMdLN4lB6FZAz/dT46WTV0ApXI/C9WBZQN0kBoGVM1pAw/UoXI86XkAbL90kBhFZQNnO91PjLVlAeekmMQhUWUDn+6nx0o1ZQAIrhxbZpllAokW28/3EWUCkcD0K17tZQPYoXI/ClVlA/Knx0k3yWEAOLbKd739YQDm0yHa+L1hA9ihcj8K1XED0/dR46W5WQKrx0k1igFZAVOOlm8RQVkDjpZvEIHBWQHE9CtejaFZAPQrXo3B9VkASg8DKoXVWQN0kBoGVo1ZAKVyPwvWgVkCJQWDl0KJWQPCnxks3sVZA30+Nl266VkA=",
          "dtype": "f8"
         },
         "xaxis": "x",
         "yaxis": "y"
        },
        {
         "marker": {
          "color": "rgb(251,128,114)"
         },
         "name": "PIA",
         "nbinsx": 30,
         "opacity": 0.7,
         "type": "histogram",
         "x": {
          "bdata": "jZduEoOAWEDJdr6fGhdXQBfZzvdT+1ZAiUFg5dD6VkBoke18P/VWQIcW2c73A1dAMzMzMzP7VkBWDi2ynf9WQAAAAAAAAFdAlkOLbOfzVkAfhetRuPZWQN9PjZdu6lZA001iEFj5VkD4U+Olm+xWQDeJQWDl4FZAZDvfT40HV0CsHFpkO39XQPCnxks3kVdAO99PjZcuWUCDwMqhRVZYQCPb+X5q9FZAiUFg5dDKVkBYObTIdr5WQAwCK4cW2VZA001iEFiRV0ArhxbZzidZQCuHFtnOb1tAWDm0yHY+XECyne+nxkteQHNoke18H1lA/Knx0k2KWUBU46WbxMhZQM3MzMzM1FlAkxgEVg79WUCyne+nxtNZQOF6FK5HoVlAcT0K16PoWEAQWDm0yEZYQCcxCKwcqlxA30+Nl256VkDb+X5qvGRWQHe+nxovZVZA/Knx0k1SVkCgGi/dJE5WQJHtfD81TlZA9P3UeOlOVkBCYOXQIkNWQA4tsp3vR1ZAJzEIrBxSVkBaZDvfT31WQB1aZDvfL1ZACKwcWmR7VkA=",
          "dtype": "f8"
         },
         "xaxis": "x",
         "yaxis": "y"
        },
        {
         "marker": {
          "color": "rgb(128,177,211)"
         },
         "name": "SAI",
         "nbinsx": 30,
         "opacity": 0.7,
         "type": "histogram",
         "x": {
          "bdata": "2/l+arysWEDl0CLb+RZXQEoMAiuHBldAexSuR+ECV0BqvHSTGPxWQJqZmZmZ+VZAsHJoke0sV0ArhxbZzhdXQOXQItv5HldAukkMAisXV0AdWmQ73wdXQPT91HjpFldA8tJNYhAQV0AQWDm0yAZXQLTIdr6f+lZAhetRuB4dV0A730+Nl45XQKRwPQrXk1dAcT0K16MgWUDfT42XbiJYQJzEILByYFdANV66SQwKV0BeukkMAhNXQOXQItv5LldA/tR46SbJV0AQWDm0yJ5ZQNEi2/l+al5AGy/dJAapWUD4U+Olm5xZQLpJDAIrr1lAnMQgsHLAWUBQjZduEtNZQL6fGi/dzFlAiUFg5dCyWUD2KFyPwuVZQB1aZDvfr1lAz/dT46UbWUBI4XoUrpdYQBfZzvdTM1hA1XjpJjEwXUBmZmZmZp5WQCuHFtnOd1ZAK4cW2c53VkCe76fGS29WQARWDi2yZVZAEoPAyqFlVkAIrBxaZGNWQMP1KFyPWlZAarx0kxhcVkCyne+nxltWQG3n+6nxIlxAmG4Sg8ASVkA=",
          "dtype": "f8"
         },
         "xaxis": "x",
         "yaxis": "y"
        },
        {
         "marker": {
          "color": "rgb(253,180,98)"
         },
         "name": "HUL",
         "nbinsx": 30,
         "opacity": 0.7,
         "type": "histogram",
         "x": {
          "bdata": "tMh2vp8KWUC8dJMYBDZXQB+F61G4JldAeekmMQgkV0D+1HjpJjFXQPhT46WbLFdA9P3UeOkuV0AX2c73UzNXQNNNYhBYGVdAarx0kxgcV0AIrBxaZBtXQIts5/upGVdAy6FFtvMdV0A5tMh2vidXQF66SQwCK1dAI9v5fmpMV0D4U+Olm9xXQEw3iUFg9VdA46WbxCBwWkBg5dAi22FYQKjGSzeJKVdA9P3UeOkOV0C6SQwCKydXQEoMAiuHVldAmG4Sg8D6V0A730+Nl3ZZQEoMAiuHrl5AxSCwcmh5WUAbL90kBqlZQJZDi2zns1lAqMZLN4nRWUB/arx0kwhaQKRwPQrX61lARrbz/dQQWkCmm8QgsAJaQIlBYOXQwllANV66SQwqWUAtsp3vp7ZYQEjhehSuT1hAGQRWDi3qXECR7Xw/NcZWQL6fGi/drFZAL90kBoF1VkAMAiuHFplWQFCNl24Sg1ZApHA9CteLVkCe76fGS3dWQI/C9Shcl1ZAObTIdr6XVkCuR+F6FJ5WQAaBlUOLrFZAke18PzW2VkA=",
          "dtype": "f8"
         },
         "xaxis": "x",
         "yaxis": "y"
        },
        {
         "colorscale": [
          [
           0,
           "rgb(49,54,149)"
          ],
          [
           0.1,
           "rgb(69,117,180)"
          ],
          [
           0.2,
           "rgb(116,173,209)"
          ],
          [
           0.3,
           "rgb(171,217,233)"
          ],
          [
           0.4,
           "rgb(224,243,248)"
          ],
          [
           0.5,
           "rgb(255,255,191)"
          ],
          [
           0.6,
           "rgb(254,224,144)"
          ],
          [
           0.7,
           "rgb(253,174,97)"
          ],
          [
           0.8,
           "rgb(244,109,67)"
          ],
          [
           0.9,
           "rgb(215,48,39)"
          ],
          [
           1,
           "rgb(165,0,38)"
          ]
         ],
         "name": "Avg Lap Time",
         "type": "heatmap",
         "x": [
          "HARD",
          "INTERMEDIATE",
          "MEDIUM",
          "SOFT"
         ],
         "xaxis": "x2",
         "y": {
          "bdata": "AAAAAAAA8D8AAAAAAAAAQAAAAAAAAAhAAAAAAAAAEEAAAAAAAAAUQA==",
          "dtype": "f8"
         },
         "yaxis": "y2",
         "z": {
          "bdata": "wKbjQCqYV0AAAAAAAAAAAEo7EsIxpFdA7aihW+fWV0AAAAAAAAAAAM0JX5t5M1pAr36tzQP5WEAAAAAAAAAAAONYF7fR8FZA4H3J6VSNWkAiIiIiIk5XQLZhcPfvRldAAAAAAAAAAACv8EO/FEVaQIV80LNZfVdA9P3UeGlYV0AAAAAAAAAAAAAAAAAAAAAAE4PAyqGRV0CPwvUo3A5YQA==",
          "dtype": "f8",
          "shape": "5, 4"
         }
        },
        {
         "line": {
          "width": 2
         },
         "mode": "lines+markers",
         "name": "HAM Position",
         "type": "scatter",
         "x": {
          "bdata": "AAAAAAAA8D8AAAAAAAAAQAAAAAAAAAhAAAAAAAAAEEAAAAAAAAAUQAAAAAAAABhAAAAAAAAAHEAAAAAAAAAgQAAAAAAAACJAAAAAAAAAJEAAAAAAAAAmQAAAAAAAAChAAAAAAAAAKkAAAAAAAAAsQAAAAAAAAC5AAAAAAAAAMEAAAAAAAAAxQAAAAAAAADJAAAAAAAAAM0AAAAAAAAA0QAAAAAAAADVAAAAAAAAANkAAAAAAAAA3QAAAAAAAADhAAAAAAAAAOUAAAAAAAAA6QAAAAAAAADtAAAAAAAAAPEAAAAAAAAA9QAAAAAAAAD5AAAAAAAAAP0AAAAAAAABAQAAAAAAAgEBAAAAAAAAAQUAAAAAAAIBBQAAAAAAAAEJAAAAAAACAQkAAAAAAAABDQAAAAAAAgENAAAAAAAAAREAAAAAAAIBEQAAAAAAAAEVAAAAAAACARUAAAAAAAABGQAAAAAAAgEZAAAAAAAAAR0AAAAAAAIBHQAAAAAAAAEhAAAAAAACASEAAAAAAAABJQAAAAAAAgElAAAAAAAAASkA=",
          "dtype": "f8"
         },
         "xaxis": "x3",
         "y": {
          "bdata": "AAAAAAAAAEAAAAAAAAAAQAAAAAAAAABAAAAAAAAAAEAAAAAAAAAAQAAAAAAAAABAAAAAAAAAAEAAAAAAAAAAQAAAAAAAAABAAAAAAAAAAEAAAAAAAAAAQAAAAAAAAABAAAAAAAAAAEAAAAAAAAAAQAAAAAAAAABAAAAAAAAAAEAAAAAAAAAAQAAAAAAAAPA/AAAAAAAA8D8AAAAAAAAIQAAAAAAAAAhAAAAAAAAACEAAAAAAAAAIQAAAAAAAAAhAAAAAAAAACEAAAAAAAAAIQAAAAAAAAABAAAAAAAAACEAAAAAAAAAAQAAAAAAAAABAAAAAAAAAAEAAAAAAAAAAQAAAAAAAAABAAAAAAAAAAEAAAAAAAAAAQAAAAAAAAABAAAAAAAAAAEAAAAAAAAAAQAAAAAAAAAhAAAAAAAAA8D8AAAAAAADwPwAAAAAAAPA/AAAAAAAA8D8AAAAAAADwPwAAAAAAAPA/AAAAAAAA8D8AAAAAAADwPwAAAAAAAPA/AAAAAAAA8D8AAAAAAADwPwAAAAAAAPA/AAAAAAAA8D8=",
          "dtype": "f8"
         },
         "yaxis": "y3"
        },
        {
         "line": {
          "width": 2
         },
         "mode": "lines+markers",
         "name": "VER Position",
         "type": "scatter",
         "x": {
          "bdata": "AAAAAAAA8D8AAAAAAAAAQAAAAAAAAAhAAAAAAAAAEEAAAAAAAAAUQAAAAAAAABhAAAAAAAAAHEAAAAAAAAAgQAAAAAAAACJAAAAAAAAAJEAAAAAAAAAmQAAAAAAAAChAAAAAAAAAKkAAAAAAAAAsQAAAAAAAAC5AAAAAAAAAMEAAAAAAAAAxQAAAAAAAADJAAAAAAAAAM0AAAAAAAAA0QAAAAAAAADVAAAAAAAAANkAAAAAAAAA3QAAAAAAAADhAAAAAAAAAOUAAAAAAAAA6QAAAAAAAADtAAAAAAAAAPEAAAAAAAAA9QAAAAAAAAD5AAAAAAAAAP0AAAAAAAABAQAAAAAAAgEBAAAAAAAAAQUAAAAAAAIBBQAAAAAAAAEJAAAAAAACAQkAAAAAAAABDQAAAAAAAgENAAAAAAAAAREAAAAAAAIBEQAAAAAAAAEVAAAAAAACARUAAAAAAAABGQAAAAAAAgEZAAAAAAAAAR0AAAAAAAIBHQAAAAAAAAEhAAAAAAACASEAAAAAAAABJQAAAAAAAgElAAAAAAAAASkA=",
          "dtype": "f8"
         },
         "xaxis": "x3",
         "y": {
          "bdata": "AAAAAAAACEAAAAAAAAAIQAAAAAAAAAhAAAAAAAAACEAAAAAAAAAIQAAAAAAAAAhAAAAAAAAACEAAAAAAAAAIQAAAAAAAAAhAAAAAAAAACEAAAAAAAAAIQAAAAAAAAAhAAAAAAAAACEAAAAAAAAAIQAAAAAAAABBAAAAAAAAAEEAAAAAAAAAUQAAAAAAAABRAAAAAAAAAFEAAAAAAAAAUQAAAAAAAABRAAAAAAAAAFEAAAAAAAAAUQAAAAAAAABRAAAAAAAAAFEAAAAAAAAAUQAAAAAAAABRAAAAAAAAAEEAAAAAAAAAIQAAAAAAAAAhAAAAAAAAACEAAAAAAAAAIQAAAAAAAAAhAAAAAAAAACEAAAAAAAAAIQAAAAAAAAAhAAAAAAAAACEAAAAAAAAAIQAAAAAAAABBAAAAAAAAACEAAAAAAAAAIQAAAAAAAAAhAAAAAAAAACEAAAAAAAAAIQAAAAAAAAAhAAAAAAAAACEAAAAAAAAAIQAAAAAAAAABAAAAAAAAAAEAAAAAAAAAAQAAAAAAAAABAAAAAAAAAAEA=",
          "dtype": "f8"
         },
         "yaxis": "y3"
        },
        {
         "line": {
          "width": 2
         },
         "mode": "lines+markers",
         "name": "NOR Position",
         "type": "scatter",
         "x": {
          "bdata": "AAAAAAAA8D8AAAAAAAAAQAAAAAAAAAhAAAAAAAAAEEAAAAAAAAAUQAAAAAAAABhAAAAAAAAAHEAAAAAAAAAgQAAAAAAAACJAAAAAAAAAJEAAAAAAAAAmQAAAAAAAAChAAAAAAAAAKkAAAAAAAAAsQAAAAAAAAC5AAAAAAAAAMEAAAAAAAAAxQAAAAAAAADJAAAAAAAAAM0AAAAAAAAA0QAAAAAAAADVAAAAAAAAANkAAAAAAAAA3QAAAAAAAADhAAAAAAAAAOUAAAAAAAAA6QAAAAAAAADtAAAAAAAAAPEAAAAAAAAA9QAAAAAAAAD5AAAAAAAAAP0AAAAAAAABAQAAAAAAAgEBAAAAAAAAAQUAAAAAAAIBBQAAAAAAAAEJAAAAAAACAQkAAAAAAAABDQAAAAAAAgENAAAAAAAAAREAAAAAAAIBEQAAAAAAAAEVAAAAAAACARUAAAAAAAABGQAAAAAAAgEZAAAAAAAAAR0AAAAAAAIBHQAAAAAAAAEhAAAAAAACASEAAAAAAAABJQAAAAAAAgElAAAAAAAAASkA=",
          "dtype": "f8"
         },
         "xaxis": "x3",
         "y": {
          "bdata": "AAAAAAAAEEAAAAAAAAAQQAAAAAAAABBAAAAAAAAAEEAAAAAAAAAQQAAAAAAAABBAAAAAAAAAEEAAAAAAAAAQQAAAAAAAABBAAAAAAAAAEEAAAAAAAAAQQAAAAAAAABBAAAAAAAAAEEAAAAAAAAAQQAAAAAAAAAhAAAAAAAAACEAAAAAAAAAIQAAAAAAAAAhAAAAAAAAAAEAAAAAAAADwPwAAAAAAAPA/AAAAAAAA8D8AAAAAAADwPwAAAAAAAPA/AAAAAAAA8D8AAAAAAADwPwAAAAAAAPA/AAAAAAAAAEAAAAAAAADwPwAAAAAAAPA/AAAAAAAA8D8AAAAAAADwPwAAAAAAAPA/AAAAAAAA8D8AAAAAAADwPwAAAAAAAPA/AAAAAAAA8D8AAAAAAADwPwAAAAAAAPA/AAAAAAAAAEAAAAAAAAAAQAAAAAAAAABAAAAAAAAAAEAAAAAAAAAAQAAAAAAAAABAAAAAAAAAAEAAAAAAAAAAQAAAAAAAAAhAAAAAAAAACEAAAAAAAAAIQAAAAAAAAAhAAAAAAAAACEA=",
          "dtype": "f8"
         },
         "yaxis": "y3"
        },
        {
         "line": {
          "width": 2
         },
         "mode": "lines+markers",
         "name": "PIA Position",
         "type": "scatter",
         "x": {
          "bdata": "AAAAAAAA8D8AAAAAAAAAQAAAAAAAAAhAAAAAAAAAEEAAAAAAAAAUQAAAAAAAABhAAAAAAAAAHEAAAAAAAAAgQAAAAAAAACJAAAAAAAAAJEAAAAAAAAAmQAAAAAAAAChAAAAAAAAAKkAAAAAAAAAsQAAAAAAAAC5AAAAAAAAAMEAAAAAAAAAxQAAAAAAAADJAAAAAAAAAM0AAAAAAAAA0QAAAAAAAADVAAAAAAAAANkAAAAAAAAA3QAAAAAAAADhAAAAAAAAAOUAAAAAAAAA6QAAAAAAAADtAAAAAAAAAPEAAAAAAAAA9QAAAAAAAAD5AAAAAAAAAP0AAAAAAAABAQAAAAAAAgEBAAAAAAAAAQUAAAAAAAIBBQAAAAAAAAEJAAAAAAACAQkAAAAAAAABDQAAAAAAAgENAAAAAAAAAREAAAAAAAIBEQAAAAAAAAEVAAAAAAACARUAAAAAAAABGQAAAAAAAgEZAAAAAAAAAR0AAAAAAAIBHQAAAAAAAAEhAAAAAAACASEAAAAAAAABJQAAAAAAAgElAAAAAAAAASkA=",
          "dtype": "f8"
         },
         "xaxis": "x3",
         "y": {
          "bdata": "AAAAAAAAFEAAAAAAAAAUQAAAAAAAABRAAAAAAAAAFEAAAAAAAAAUQAAAAAAAABRAAAAAAAAAFEAAAAAAAAAUQAAAAAAAABRAAAAAAAAAFEAAAAAAAAAUQAAAAAAAABRAAAAAAAAAFEAAAAAAAAAUQAAAAAAAABRAAAAAAAAAFEAAAAAAAAAQQAAAAAAAABBAAAAAAAAAEEAAAAAAAAAAQAAAAAAAAABAAAAAAAAAAEAAAAAAAAAAQAAAAAAAAABAAAAAAAAAAEAAAAAAAAAAQAAAAAAAAAhAAAAAAAAA8D8AAAAAAAAYQAAAAAAAABhAAAAAAAAAGEAAAAAAAAAYQAAAAAAAABhAAAAAAAAAFEAAAAAAAAAUQAAAAAAAABRAAAAAAAAAFEAAAAAAAAAQQAAAAAAAABRAAAAAAAAAEEAAAAAAAAAQQAAAAAAAABBAAAAAAAAAEEAAAAAAAAAQQAAAAAAAABBAAAAAAAAAEEAAAAAAAAAQQAAAAAAAABBAAAAAAAAAEEAAAAAAAAAQQAAAAAAAABBAAAAAAAAAEEA=",
          "dtype": "f8"
         },
         "yaxis": "y3"
        },
        {
         "domain": {
          "x": [
           0.55,
           1
          ],
          "y": [
           0,
           0.375
          ]
         },
         "labels": [
          "MEDIUM",
          "INTERMEDIATE",
          "SOFT",
          "HARD"
         ],
         "name": "Compound Usage",
         "textinfo": "label+percent",
         "type": "pie",
         "values": {
          "bdata": "/AHqAK4ALAA=",
          "dtype": "i2"
         }
        }
       ],
       "layout": {
        "annotations": [
         {
          "font": {
           "size": 16
          },
          "showarrow": false,
          "text": "Lap Time Distribution by Driver",
          "x": 0.225,
          "xanchor": "center",
          "xref": "paper",
          "y": 1,
          "yanchor": "bottom",
          "yref": "paper"
         },
         {
          "font": {
           "size": 16
          },
          "showarrow": false,
          "text": "Performance Heatmap by Stint/Compound",
          "x": 0.775,
          "xanchor": "center",
          "xref": "paper",
          "y": 1,
          "yanchor": "bottom",
          "yref": "paper"
         },
         {
          "font": {
           "size": 16
          },
          "showarrow": false,
          "text": "Position Changes Over Time",
          "x": 0.225,
          "xanchor": "center",
          "xref": "paper",
          "y": 0.375,
          "yanchor": "bottom",
          "yref": "paper"
         },
         {
          "font": {
           "size": 16
          },
          "showarrow": false,
          "text": "Tire Strategy Analysis",
          "x": 0.775,
          "xanchor": "center",
          "xref": "paper",
          "y": 0.375,
          "yanchor": "bottom",
          "yref": "paper"
         }
        ],
        "height": 800,
        "showlegend": true,
        "template": {
         "data": {
          "bar": [
           {
            "error_x": {
             "color": "#2a3f5f"
            },
            "error_y": {
             "color": "#2a3f5f"
            },
            "marker": {
             "line": {
              "color": "#E5ECF6",
              "width": 0.5
             },
             "pattern": {
              "fillmode": "overlay",
              "size": 10,
              "solidity": 0.2
             }
            },
            "type": "bar"
           }
          ],
          "barpolar": [
           {
            "marker": {
             "line": {
              "color": "#E5ECF6",
              "width": 0.5
             },
             "pattern": {
              "fillmode": "overlay",
              "size": 10,
              "solidity": 0.2
             }
            },
            "type": "barpolar"
           }
          ],
          "carpet": [
           {
            "aaxis": {
             "endlinecolor": "#2a3f5f",
             "gridcolor": "white",
             "linecolor": "white",
             "minorgridcolor": "white",
             "startlinecolor": "#2a3f5f"
            },
            "baxis": {
             "endlinecolor": "#2a3f5f",
             "gridcolor": "white",
             "linecolor": "white",
             "minorgridcolor": "white",
             "startlinecolor": "#2a3f5f"
            },
            "type": "carpet"
           }
          ],
          "choropleth": [
           {
            "colorbar": {
             "outlinewidth": 0,
             "ticks": ""
            },
            "type": "choropleth"
           }
          ],
          "contour": [
           {
            "colorbar": {
             "outlinewidth": 0,
             "ticks": ""
            },
            "colorscale": [
             [
              0,
              "#0d0887"
             ],
             [
              0.1111111111111111,
              "#46039f"
             ],
             [
              0.2222222222222222,
              "#7201a8"
             ],
             [
              0.3333333333333333,
              "#9c179e"
             ],
             [
              0.4444444444444444,
              "#bd3786"
             ],
             [
              0.5555555555555556,
              "#d8576b"
             ],
             [
              0.6666666666666666,
              "#ed7953"
             ],
             [
              0.7777777777777778,
              "#fb9f3a"
             ],
             [
              0.8888888888888888,
              "#fdca26"
             ],
             [
              1,
              "#f0f921"
             ]
            ],
            "type": "contour"
           }
          ],
          "contourcarpet": [
           {
            "colorbar": {
             "outlinewidth": 0,
             "ticks": ""
            },
            "type": "contourcarpet"
           }
          ],
          "heatmap": [
           {
            "colorbar": {
             "outlinewidth": 0,
             "ticks": ""
            },
            "colorscale": [
             [
              0,
              "#0d0887"
             ],
             [
              0.1111111111111111,
              "#46039f"
             ],
             [
              0.2222222222222222,
              "#7201a8"
             ],
             [
              0.3333333333333333,
              "#9c179e"
             ],
             [
              0.4444444444444444,
              "#bd3786"
             ],
             [
              0.5555555555555556,
              "#d8576b"
             ],
             [
              0.6666666666666666,
              "#ed7953"
             ],
             [
              0.7777777777777778,
              "#fb9f3a"
             ],
             [
              0.8888888888888888,
              "#fdca26"
             ],
             [
              1,
              "#f0f921"
             ]
            ],
            "type": "heatmap"
           }
          ],
          "histogram": [
           {
            "marker": {
             "pattern": {
              "fillmode": "overlay",
              "size": 10,
              "solidity": 0.2
             }
            },
            "type": "histogram"
           }
          ],
          "histogram2d": [
           {
            "colorbar": {
             "outlinewidth": 0,
             "ticks": ""
            },
            "colorscale": [
             [
              0,
              "#0d0887"
             ],
             [
              0.1111111111111111,
              "#46039f"
             ],
             [
              0.2222222222222222,
              "#7201a8"
             ],
             [
              0.3333333333333333,
              "#9c179e"
             ],
             [
              0.4444444444444444,
              "#bd3786"
             ],
             [
              0.5555555555555556,
              "#d8576b"
             ],
             [
              0.6666666666666666,
              "#ed7953"
             ],
             [
              0.7777777777777778,
              "#fb9f3a"
             ],
             [
              0.8888888888888888,
              "#fdca26"
             ],
             [
              1,
              "#f0f921"
             ]
            ],
            "type": "histogram2d"
           }
          ],
          "histogram2dcontour": [
           {
            "colorbar": {
             "outlinewidth": 0,
             "ticks": ""
            },
            "colorscale": [
             [
              0,
              "#0d0887"
             ],
             [
              0.1111111111111111,
              "#46039f"
             ],
             [
              0.2222222222222222,
              "#7201a8"
             ],
             [
              0.3333333333333333,
              "#9c179e"
             ],
             [
              0.4444444444444444,
              "#bd3786"
             ],
             [
              0.5555555555555556,
              "#d8576b"
             ],
             [
              0.6666666666666666,
              "#ed7953"
             ],
             [
              0.7777777777777778,
              "#fb9f3a"
             ],
             [
              0.8888888888888888,
              "#fdca26"
             ],
             [
              1,
              "#f0f921"
             ]
            ],
            "type": "histogram2dcontour"
           }
          ],
          "mesh3d": [
           {
            "colorbar": {
             "outlinewidth": 0,
             "ticks": ""
            },
            "type": "mesh3d"
           }
          ],
          "parcoords": [
           {
            "line": {
             "colorbar": {
              "outlinewidth": 0,
              "ticks": ""
             }
            },
            "type": "parcoords"
           }
          ],
          "pie": [
           {
            "automargin": true,
            "type": "pie"
           }
          ],
          "scatter": [
           {
            "fillpattern": {
             "fillmode": "overlay",
             "size": 10,
             "solidity": 0.2
            },
            "type": "scatter"
           }
          ],
          "scatter3d": [
           {
            "line": {
             "colorbar": {
              "outlinewidth": 0,
              "ticks": ""
             }
            },
            "marker": {
             "colorbar": {
              "outlinewidth": 0,
              "ticks": ""
             }
            },
            "type": "scatter3d"
           }
          ],
          "scattercarpet": [
           {
            "marker": {
             "colorbar": {
              "outlinewidth": 0,
              "ticks": ""
             }
            },
            "type": "scattercarpet"
           }
          ],
          "scattergeo": [
           {
            "marker": {
             "colorbar": {
              "outlinewidth": 0,
              "ticks": ""
             }
            },
            "type": "scattergeo"
           }
          ],
          "scattergl": [
           {
            "marker": {
             "colorbar": {
              "outlinewidth": 0,
              "ticks": ""
             }
            },
            "type": "scattergl"
           }
          ],
          "scattermap": [
           {
            "marker": {
             "colorbar": {
              "outlinewidth": 0,
              "ticks": ""
             }
            },
            "type": "scattermap"
           }
          ],
          "scattermapbox": [
           {
            "marker": {
             "colorbar": {
              "outlinewidth": 0,
              "ticks": ""
             }
            },
            "type": "scattermapbox"
           }
          ],
          "scatterpolar": [
           {
            "marker": {
             "colorbar": {
              "outlinewidth": 0,
              "ticks": ""
             }
            },
            "type": "scatterpolar"
           }
          ],
          "scatterpolargl": [
           {
            "marker": {
             "colorbar": {
              "outlinewidth": 0,
              "ticks": ""
             }
            },
            "type": "scatterpolargl"
           }
          ],
          "scatterternary": [
           {
            "marker": {
             "colorbar": {
              "outlinewidth": 0,
              "ticks": ""
             }
            },
            "type": "scatterternary"
           }
          ],
          "surface": [
           {
            "colorbar": {
             "outlinewidth": 0,
             "ticks": ""
            },
            "colorscale": [
             [
              0,
              "#0d0887"
             ],
             [
              0.1111111111111111,
              "#46039f"
             ],
             [
              0.2222222222222222,
              "#7201a8"
             ],
             [
              0.3333333333333333,
              "#9c179e"
             ],
             [
              0.4444444444444444,
              "#bd3786"
             ],
             [
              0.5555555555555556,
              "#d8576b"
             ],
             [
              0.6666666666666666,
              "#ed7953"
             ],
             [
              0.7777777777777778,
              "#fb9f3a"
             ],
             [
              0.8888888888888888,
              "#fdca26"
             ],
             [
              1,
              "#f0f921"
             ]
            ],
            "type": "surface"
           }
          ],
          "table": [
           {
            "cells": {
             "fill": {
              "color": "#EBF0F8"
             },
             "line": {
              "color": "white"
             }
            },
            "header": {
             "fill": {
              "color": "#C8D4E3"
             },
             "line": {
              "color": "white"
             }
            },
            "type": "table"
           }
          ]
         },
         "layout": {
          "annotationdefaults": {
           "arrowcolor": "#2a3f5f",
           "arrowhead": 0,
           "arrowwidth": 1
          },
          "autotypenumbers": "strict",
          "coloraxis": {
           "colorbar": {
            "outlinewidth": 0,
            "ticks": ""
           }
          },
          "colorscale": {
           "diverging": [
            [
             0,
             "#8e0152"
            ],
            [
             0.1,
             "#c51b7d"
            ],
            [
             0.2,
             "#de77ae"
            ],
            [
             0.3,
             "#f1b6da"
            ],
            [
             0.4,
             "#fde0ef"
            ],
            [
             0.5,
             "#f7f7f7"
            ],
            [
             0.6,
             "#e6f5d0"
            ],
            [
             0.7,
             "#b8e186"
            ],
            [
             0.8,
             "#7fbc41"
            ],
            [
             0.9,
             "#4d9221"
            ],
            [
             1,
             "#276419"
            ]
           ],
           "sequential": [
            [
             0,
             "#0d0887"
            ],
            [
             0.1111111111111111,
             "#46039f"
            ],
            [
             0.2222222222222222,
             "#7201a8"
            ],
            [
             0.3333333333333333,
             "#9c179e"
            ],
            [
             0.4444444444444444,
             "#bd3786"
            ],
            [
             0.5555555555555556,
             "#d8576b"
            ],
            [
             0.6666666666666666,
             "#ed7953"
            ],
            [
             0.7777777777777778,
             "#fb9f3a"
            ],
            [
             0.8888888888888888,
             "#fdca26"
            ],
            [
             1,
             "#f0f921"
            ]
           ],
           "sequentialminus": [
            [
             0,
             "#0d0887"
            ],
            [
             0.1111111111111111,
             "#46039f"
            ],
            [
             0.2222222222222222,
             "#7201a8"
            ],
            [
             0.3333333333333333,
             "#9c179e"
            ],
            [
             0.4444444444444444,
             "#bd3786"
            ],
            [
             0.5555555555555556,
             "#d8576b"
            ],
            [
             0.6666666666666666,
             "#ed7953"
            ],
            [
             0.7777777777777778,
             "#fb9f3a"
            ],
            [
             0.8888888888888888,
             "#fdca26"
            ],
            [
             1,
             "#f0f921"
            ]
           ]
          },
          "colorway": [
           "#636efa",
           "#EF553B",
           "#00cc96",
           "#ab63fa",
           "#FFA15A",
           "#19d3f3",
           "#FF6692",
           "#B6E880",
           "#FF97FF",
           "#FECB52"
          ],
          "font": {
           "color": "#2a3f5f"
          },
          "geo": {
           "bgcolor": "white",
           "lakecolor": "white",
           "landcolor": "#E5ECF6",
           "showlakes": true,
           "showland": true,
           "subunitcolor": "white"
          },
          "hoverlabel": {
           "align": "left"
          },
          "hovermode": "closest",
          "mapbox": {
           "style": "light"
          },
          "paper_bgcolor": "white",
          "plot_bgcolor": "#E5ECF6",
          "polar": {
           "angularaxis": {
            "gridcolor": "white",
            "linecolor": "white",
            "ticks": ""
           },
           "bgcolor": "#E5ECF6",
           "radialaxis": {
            "gridcolor": "white",
            "linecolor": "white",
            "ticks": ""
           }
          },
          "scene": {
           "xaxis": {
            "backgroundcolor": "#E5ECF6",
            "gridcolor": "white",
            "gridwidth": 2,
            "linecolor": "white",
            "showbackground": true,
            "ticks": "",
            "zerolinecolor": "white"
           },
           "yaxis": {
            "backgroundcolor": "#E5ECF6",
            "gridcolor": "white",
            "gridwidth": 2,
            "linecolor": "white",
            "showbackground": true,
            "ticks": "",
            "zerolinecolor": "white"
           },
           "zaxis": {
            "backgroundcolor": "#E5ECF6",
            "gridcolor": "white",
            "gridwidth": 2,
            "linecolor": "white",
            "showbackground": true,
            "ticks": "",
            "zerolinecolor": "white"
           }
          },
          "shapedefaults": {
           "line": {
            "color": "#2a3f5f"
           }
          },
          "ternary": {
           "aaxis": {
            "gridcolor": "white",
            "linecolor": "white",
            "ticks": ""
           },
           "baxis": {
            "gridcolor": "white",
            "linecolor": "white",
            "ticks": ""
           },
           "bgcolor": "#E5ECF6",
           "caxis": {
            "gridcolor": "white",
            "linecolor": "white",
            "ticks": ""
           }
          },
          "title": {
           "x": 0.05
          },
          "xaxis": {
           "automargin": true,
           "gridcolor": "white",
           "linecolor": "white",
           "ticks": "",
           "title": {
            "standoff": 15
           },
           "zerolinecolor": "white",
           "zerolinewidth": 2
          },
          "yaxis": {
           "automargin": true,
           "gridcolor": "white",
           "linecolor": "white",
           "ticks": "",
           "title": {
            "standoff": 15
           },
           "zerolinecolor": "white",
           "zerolinewidth": 2
          }
         }
        },
        "title": {
         "text": "🔬 Advanced Telemetry Analysis"
        },
        "xaxis": {
         "anchor": "y",
         "domain": [
          0,
          0.45
         ]
        },
        "xaxis2": {
         "anchor": "y2",
         "domain": [
          0.55,
          1
         ]
        },
        "xaxis3": {
         "anchor": "y3",
         "domain": [
          0,
          0.45
         ]
        },
        "yaxis": {
         "anchor": "x",
         "domain": [
          0.625,
          1
         ]
        },
        "yaxis2": {
         "anchor": "x2",
         "domain": [
          0.625,
          1
         ]
        },
        "yaxis3": {
         "anchor": "x3",
         "domain": [
          0,
          0.375
         ]
        }
       }
      }
     },
     "metadata": {},
     "output_type": "display_data"
    },
    {
     "name": "stdout",
     "output_type": "stream",
     "text": [
      "3️⃣ ML Performance Predictor...\n",
      "🤖 Training ML Performance Predictor...\n"
     ]
    },
    {
     "data": {
      "application/vnd.plotly.v1+json": {
       "config": {
        "plotlyServerURL": "https://plot.ly"
       },
       "data": [
        {
         "marker": {
          "color": "blue",
          "opacity": 0.6
         },
         "mode": "markers",
         "name": "Predictions",
         "type": "scatter",
         "x": {
          "bdata": "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",
          "dtype": "f8"
         },
         "xaxis": "x",
         "y": {
          "bdata": "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",
          "dtype": "f8"
         },
         "yaxis": "y"
        },
        {
         "line": {
          "color": "red",
          "dash": "dash"
         },
         "mode": "lines",
         "name": "Perfect Prediction",
         "type": "scatter",
         "x": [
          89.137,
          125.955
         ],
         "xaxis": "x",
         "y": [
          89.137,
          125.955
         ],
         "yaxis": "y"
        },
        {
         "marker": {
          "color": "green"
         },
         "name": "Feature Importance",
         "orientation": "h",
         "type": "bar",
         "x": {
          "bdata": "RW/2CjiF2z+3lqPbQMjaP7vq5anlFrY/p5M+FBiMoD9A9g+34qiVP+GJAX18p24/0RShAR0qWD90fEEeEBtRP0Tzf4bSPUc/YNXKItc5Rj8=",
          "dtype": "f8"
         },
         "xaxis": "x2",
         "y": [
          "LapNumber",
          "Stint_Progress",
          "Stint",
          "TyreLife",
          "Position",
          "Driver_OCO",
          "Driver_PER",
          "Driver_BOT",
          "Driver_LEC",
          "Driver_ZHO"
         ],
         "yaxis": "y2"
        },
        {
         "marker": {
          "color": "orange"
         },
         "name": "Residuals",
         "nbinsx": 30,
         "type": "histogram",
         "x": {
          "bdata": "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",
          "dtype": "f8"
         },
         "xaxis": "x3",
         "yaxis": "y3"
        }
       ],
       "layout": {
        "annotations": [
         {
          "font": {
           "size": 16
          },
          "showarrow": false,
          "text": "Actual vs Predicted",
          "x": 0.14444444444444446,
          "xanchor": "center",
          "xref": "paper",
          "y": 1,
          "yanchor": "bottom",
          "yref": "paper"
         },
         {
          "font": {
           "size": 16
          },
          "showarrow": false,
          "text": "Feature Importance",
          "x": 0.5,
          "xanchor": "center",
          "xref": "paper",
          "y": 1,
          "yanchor": "bottom",
          "yref": "paper"
         },
         {
          "font": {
           "size": 16
          },
          "showarrow": false,
          "text": "Prediction Residuals",
          "x": 0.8555555555555556,
          "xanchor": "center",
          "xref": "paper",
          "y": 1,
          "yanchor": "bottom",
          "yref": "paper"
         }
        ],
        "height": 500,
        "showlegend": true,
        "template": {
         "data": {
          "bar": [
           {
            "error_x": {
             "color": "#2a3f5f"
            },
            "error_y": {
             "color": "#2a3f5f"
            },
            "marker": {
             "line": {
              "color": "#E5ECF6",
              "width": 0.5
             },
             "pattern": {
              "fillmode": "overlay",
              "size": 10,
              "solidity": 0.2
             }
            },
            "type": "bar"
           }
          ],
          "barpolar": [
           {
            "marker": {
             "line": {
              "color": "#E5ECF6",
              "width": 0.5
             },
             "pattern": {
              "fillmode": "overlay",
              "size": 10,
              "solidity": 0.2
             }
            },
            "type": "barpolar"
           }
          ],
          "carpet": [
           {
            "aaxis": {
             "endlinecolor": "#2a3f5f",
             "gridcolor": "white",
             "linecolor": "white",
             "minorgridcolor": "white",
             "startlinecolor": "#2a3f5f"
            },
            "baxis": {
             "endlinecolor": "#2a3f5f",
             "gridcolor": "white",
             "linecolor": "white",
             "minorgridcolor": "white",
             "startlinecolor": "#2a3f5f"
            },
            "type": "carpet"
           }
          ],
          "choropleth": [
           {
            "colorbar": {
             "outlinewidth": 0,
             "ticks": ""
            },
            "type": "choropleth"
           }
          ],
          "contour": [
           {
            "colorbar": {
             "outlinewidth": 0,
             "ticks": ""
            },
            "colorscale": [
             [
              0,
              "#0d0887"
             ],
             [
              0.1111111111111111,
              "#46039f"
             ],
             [
              0.2222222222222222,
              "#7201a8"
             ],
             [
              0.3333333333333333,
              "#9c179e"
             ],
             [
              0.4444444444444444,
              "#bd3786"
             ],
             [
              0.5555555555555556,
              "#d8576b"
             ],
             [
              0.6666666666666666,
              "#ed7953"
             ],
             [
              0.7777777777777778,
              "#fb9f3a"
             ],
             [
              0.8888888888888888,
              "#fdca26"
             ],
             [
              1,
              "#f0f921"
             ]
            ],
            "type": "contour"
           }
          ],
          "contourcarpet": [
           {
            "colorbar": {
             "outlinewidth": 0,
             "ticks": ""
            },
            "type": "contourcarpet"
           }
          ],
          "heatmap": [
           {
            "colorbar": {
             "outlinewidth": 0,
             "ticks": ""
            },
            "colorscale": [
             [
              0,
              "#0d0887"
             ],
             [
              0.1111111111111111,
              "#46039f"
             ],
             [
              0.2222222222222222,
              "#7201a8"
             ],
             [
              0.3333333333333333,
              "#9c179e"
             ],
             [
              0.4444444444444444,
              "#bd3786"
             ],
             [
              0.5555555555555556,
              "#d8576b"
             ],
             [
              0.6666666666666666,
              "#ed7953"
             ],
             [
              0.7777777777777778,
              "#fb9f3a"
             ],
             [
              0.8888888888888888,
              "#fdca26"
             ],
             [
              1,
              "#f0f921"
             ]
            ],
            "type": "heatmap"
           }
          ],
          "histogram": [
           {
            "marker": {
             "pattern": {
              "fillmode": "overlay",
              "size": 10,
              "solidity": 0.2
             }
            },
            "type": "histogram"
           }
          ],
          "histogram2d": [
           {
            "colorbar": {
             "outlinewidth": 0,
             "ticks": ""
            },
            "colorscale": [
             [
              0,
              "#0d0887"
             ],
             [
              0.1111111111111111,
              "#46039f"
             ],
             [
              0.2222222222222222,
              "#7201a8"
             ],
             [
              0.3333333333333333,
              "#9c179e"
             ],
             [
              0.4444444444444444,
              "#bd3786"
             ],
             [
              0.5555555555555556,
              "#d8576b"
             ],
             [
              0.6666666666666666,
              "#ed7953"
             ],
             [
              0.7777777777777778,
              "#fb9f3a"
             ],
             [
              0.8888888888888888,
              "#fdca26"
             ],
             [
              1,
              "#f0f921"
             ]
            ],
            "type": "histogram2d"
           }
          ],
          "histogram2dcontour": [
           {
            "colorbar": {
             "outlinewidth": 0,
             "ticks": ""
            },
            "colorscale": [
             [
              0,
              "#0d0887"
             ],
             [
              0.1111111111111111,
              "#46039f"
             ],
             [
              0.2222222222222222,
              "#7201a8"
             ],
             [
              0.3333333333333333,
              "#9c179e"
             ],
             [
              0.4444444444444444,
              "#bd3786"
             ],
             [
              0.5555555555555556,
              "#d8576b"
             ],
             [
              0.6666666666666666,
              "#ed7953"
             ],
             [
              0.7777777777777778,
              "#fb9f3a"
             ],
             [
              0.8888888888888888,
              "#fdca26"
             ],
             [
              1,
              "#f0f921"
             ]
            ],
            "type": "histogram2dcontour"
           }
          ],
          "mesh3d": [
           {
            "colorbar": {
             "outlinewidth": 0,
             "ticks": ""
            },
            "type": "mesh3d"
           }
          ],
          "parcoords": [
           {
            "line": {
             "colorbar": {
              "outlinewidth": 0,
              "ticks": ""
             }
            },
            "type": "parcoords"
           }
          ],
          "pie": [
           {
            "automargin": true,
            "type": "pie"
           }
          ],
          "scatter": [
           {
            "fillpattern": {
             "fillmode": "overlay",
             "size": 10,
             "solidity": 0.2
            },
            "type": "scatter"
           }
          ],
          "scatter3d": [
           {
            "line": {
             "colorbar": {
              "outlinewidth": 0,
              "ticks": ""
             }
            },
            "marker": {
             "colorbar": {
              "outlinewidth": 0,
              "ticks": ""
             }
            },
            "type": "scatter3d"
           }
          ],
          "scattercarpet": [
           {
            "marker": {
             "colorbar": {
              "outlinewidth": 0,
              "ticks": ""
             }
            },
            "type": "scattercarpet"
           }
          ],
          "scattergeo": [
           {
            "marker": {
             "colorbar": {
              "outlinewidth": 0,
              "ticks": ""
             }
            },
            "type": "scattergeo"
           }
          ],
          "scattergl": [
           {
            "marker": {
             "colorbar": {
              "outlinewidth": 0,
              "ticks": ""
             }
            },
            "type": "scattergl"
           }
          ],
          "scattermap": [
           {
            "marker": {
             "colorbar": {
              "outlinewidth": 0,
              "ticks": ""
             }
            },
            "type": "scattermap"
           }
          ],
          "scattermapbox": [
           {
            "marker": {
             "colorbar": {
              "outlinewidth": 0,
              "ticks": ""
             }
            },
            "type": "scattermapbox"
           }
          ],
          "scatterpolar": [
           {
            "marker": {
             "colorbar": {
              "outlinewidth": 0,
              "ticks": ""
             }
            },
            "type": "scatterpolar"
           }
          ],
          "scatterpolargl": [
           {
            "marker": {
             "colorbar": {
              "outlinewidth": 0,
              "ticks": ""
             }
            },
            "type": "scatterpolargl"
           }
          ],
          "scatterternary": [
           {
            "marker": {
             "colorbar": {
              "outlinewidth": 0,
              "ticks": ""
             }
            },
            "type": "scatterternary"
           }
          ],
          "surface": [
           {
            "colorbar": {
             "outlinewidth": 0,
             "ticks": ""
            },
            "colorscale": [
             [
              0,
              "#0d0887"
             ],
             [
              0.1111111111111111,
              "#46039f"
             ],
             [
              0.2222222222222222,
              "#7201a8"
             ],
             [
              0.3333333333333333,
              "#9c179e"
             ],
             [
              0.4444444444444444,
              "#bd3786"
             ],
             [
              0.5555555555555556,
              "#d8576b"
             ],
             [
              0.6666666666666666,
              "#ed7953"
             ],
             [
              0.7777777777777778,
              "#fb9f3a"
             ],
             [
              0.8888888888888888,
              "#fdca26"
             ],
             [
              1,
              "#f0f921"
             ]
            ],
            "type": "surface"
           }
          ],
          "table": [
           {
            "cells": {
             "fill": {
              "color": "#EBF0F8"
             },
             "line": {
              "color": "white"
             }
            },
            "header": {
             "fill": {
              "color": "#C8D4E3"
             },
             "line": {
              "color": "white"
             }
            },
            "type": "table"
           }
          ]
         },
         "layout": {
          "annotationdefaults": {
           "arrowcolor": "#2a3f5f",
           "arrowhead": 0,
           "arrowwidth": 1
          },
          "autotypenumbers": "strict",
          "coloraxis": {
           "colorbar": {
            "outlinewidth": 0,
            "ticks": ""
           }
          },
          "colorscale": {
           "diverging": [
            [
             0,
             "#8e0152"
            ],
            [
             0.1,
             "#c51b7d"
            ],
            [
             0.2,
             "#de77ae"
            ],
            [
             0.3,
             "#f1b6da"
            ],
            [
             0.4,
             "#fde0ef"
            ],
            [
             0.5,
             "#f7f7f7"
            ],
            [
             0.6,
             "#e6f5d0"
            ],
            [
             0.7,
             "#b8e186"
            ],
            [
             0.8,
             "#7fbc41"
            ],
            [
             0.9,
             "#4d9221"
            ],
            [
             1,
             "#276419"
            ]
           ],
           "sequential": [
            [
             0,
             "#0d0887"
            ],
            [
             0.1111111111111111,
             "#46039f"
            ],
            [
             0.2222222222222222,
             "#7201a8"
            ],
            [
             0.3333333333333333,
             "#9c179e"
            ],
            [
             0.4444444444444444,
             "#bd3786"
            ],
            [
             0.5555555555555556,
             "#d8576b"
            ],
            [
             0.6666666666666666,
             "#ed7953"
            ],
            [
             0.7777777777777778,
             "#fb9f3a"
            ],
            [
             0.8888888888888888,
             "#fdca26"
            ],
            [
             1,
             "#f0f921"
            ]
           ],
           "sequentialminus": [
            [
             0,
             "#0d0887"
            ],
            [
             0.1111111111111111,
             "#46039f"
            ],
            [
             0.2222222222222222,
             "#7201a8"
            ],
            [
             0.3333333333333333,
             "#9c179e"
            ],
            [
             0.4444444444444444,
             "#bd3786"
            ],
            [
             0.5555555555555556,
             "#d8576b"
            ],
            [
             0.6666666666666666,
             "#ed7953"
            ],
            [
             0.7777777777777778,
             "#fb9f3a"
            ],
            [
             0.8888888888888888,
             "#fdca26"
            ],
            [
             1,
             "#f0f921"
            ]
           ]
          },
          "colorway": [
           "#636efa",
           "#EF553B",
           "#00cc96",
           "#ab63fa",
           "#FFA15A",
           "#19d3f3",
           "#FF6692",
           "#B6E880",
           "#FF97FF",
           "#FECB52"
          ],
          "font": {
           "color": "#2a3f5f"
          },
          "geo": {
           "bgcolor": "white",
           "lakecolor": "white",
           "landcolor": "#E5ECF6",
           "showlakes": true,
           "showland": true,
           "subunitcolor": "white"
          },
          "hoverlabel": {
           "align": "left"
          },
          "hovermode": "closest",
          "mapbox": {
           "style": "light"
          },
          "paper_bgcolor": "white",
          "plot_bgcolor": "#E5ECF6",
          "polar": {
           "angularaxis": {
            "gridcolor": "white",
            "linecolor": "white",
            "ticks": ""
           },
           "bgcolor": "#E5ECF6",
           "radialaxis": {
            "gridcolor": "white",
            "linecolor": "white",
            "ticks": ""
           }
          },
          "scene": {
           "xaxis": {
            "backgroundcolor": "#E5ECF6",
            "gridcolor": "white",
            "gridwidth": 2,
            "linecolor": "white",
            "showbackground": true,
            "ticks": "",
            "zerolinecolor": "white"
           },
           "yaxis": {
            "backgroundcolor": "#E5ECF6",
            "gridcolor": "white",
            "gridwidth": 2,
            "linecolor": "white",
            "showbackground": true,
            "ticks": "",
            "zerolinecolor": "white"
           },
           "zaxis": {
            "backgroundcolor": "#E5ECF6",
            "gridcolor": "white",
            "gridwidth": 2,
            "linecolor": "white",
            "showbackground": true,
            "ticks": "",
            "zerolinecolor": "white"
           }
          },
          "shapedefaults": {
           "line": {
            "color": "#2a3f5f"
           }
          },
          "ternary": {
           "aaxis": {
            "gridcolor": "white",
            "linecolor": "white",
            "ticks": ""
           },
           "baxis": {
            "gridcolor": "white",
            "linecolor": "white",
            "ticks": ""
           },
           "bgcolor": "#E5ECF6",
           "caxis": {
            "gridcolor": "white",
            "linecolor": "white",
            "ticks": ""
           }
          },
          "title": {
           "x": 0.05
          },
          "xaxis": {
           "automargin": true,
           "gridcolor": "white",
           "linecolor": "white",
           "ticks": "",
           "title": {
            "standoff": 15
           },
           "zerolinecolor": "white",
           "zerolinewidth": 2
          },
          "yaxis": {
           "automargin": true,
           "gridcolor": "white",
           "linecolor": "white",
           "ticks": "",
           "title": {
            "standoff": 15
           },
           "zerolinecolor": "white",
           "zerolinewidth": 2
          }
         }
        },
        "title": {
         "text": "🤖 ML Performance Predictor (MAE: 0.648s, R²: 0.976)"
        },
        "xaxis": {
         "anchor": "y",
         "domain": [
          0,
          0.2888888888888889
         ],
         "title": {
          "text": "Actual Lap Time (s)"
         }
        },
        "xaxis2": {
         "anchor": "y2",
         "domain": [
          0.35555555555555557,
          0.6444444444444445
         ],
         "title": {
          "text": "Importance"
         }
        },
        "xaxis3": {
         "anchor": "y3",
         "domain": [
          0.7111111111111111,
          1
         ],
         "title": {
          "text": "Residual (s)"
         }
        },
        "yaxis": {
         "anchor": "x",
         "domain": [
          0,
          1
         ],
         "title": {
          "text": "Predicted Lap Time (s)"
         }
        },
        "yaxis2": {
         "anchor": "x2",
         "domain": [
          0,
          1
         ],
         "title": {
          "text": "Feature"
         }
        },
        "yaxis3": {
         "anchor": "x3",
         "domain": [
          0,
          1
         ],
         "title": {
          "text": "Frequency"
         }
        }
       }
      }
     },
     "metadata": {},
     "output_type": "display_data"
    },
    {
     "name": "stdout",
     "output_type": "stream",
     "text": [
      "✅ ML Model Trained Successfully!\n",
      "   Mean Absolute Error: 0.648 seconds\n",
      "   R² Score: 0.976\n",
      "   Top Features: LapNumber, Stint_Progress, Stint\n",
      "4️⃣ Statistical Insights...\n",
      "📊 ADVANCED STATISTICAL INSIGHTS\n",
      "============================================================\n",
      "\n",
      "🏎️ DRIVER PERFORMANCE ANALYSIS:\n",
      "----------------------------------------\n",
      "Fastest Average Lap: HAM (95.136s)\n",
      "Most Consistent: NOR (σ=6.544s)\n",
      "\n",
      "🔧 COMPOUND PERFORMANCE:\n",
      "----------------------------------------\n",
      "Fastest Compound: HARD (92.892s avg)\n",
      "  HARD        : 92.892s (n=44)\n",
      "  INTERMEDIATE: 104.987s (n=234)\n",
      "  MEDIUM      : 94.461s (n=508)\n",
      "  SOFT        : 93.822s (n=174)\n",
      "\n",
      "⏱️ RACE PROGRESSION:\n",
      "----------------------------------------\n",
      "Early Race (1-15):   93.282s\n",
      "Mid Race (16-40):    101.658s\n",
      "Late Race (40+):     90.841s\n",
      "\n",
      "📈 PERFORMANCE DISTRIBUTION:\n",
      "----------------------------------------\n",
      "Average   :  481 laps ( 50.1%)\n",
      "Slow      :  243 laps ( 25.3%)\n",
      "Fast      :  236 laps ( 24.6%)\n",
      "\n",
      "🔬 STATISTICAL SIGNIFICANCE TESTS:\n",
      "----------------------------------------\n",
      "T-test HAM vs VER:\n",
      "  t-statistic: -0.021\n",
      "  p-value: 0.9831\n",
      "  Result: Not Significant difference\n",
      "\n",
      "✅ Comprehensive Advanced Analytics Dashboard Complete!\n",
      "\n",
      "📋 DASHBOARD SUMMARY:\n",
      "==================================================\n",
      "Total Data Points: 960\n",
      "Drivers Analyzed: 19\n",
      "Analysis Features: 2\n",
      "ML Models Trained: 1\n",
      "Statistical Tests: Completed\n",
      "\n",
      "🔮 Example ML Predictions:\n",
      "----------------------------------------\n",
      "HAM: 105.998s (high confidence, R²=0.976)\n",
      "VER: 105.962s (high confidence, R²=0.976)\n",
      "NOR: 105.893s (high confidence, R²=0.976)\n",
      "\n",
      "✅ Advanced F1 Analytics Dashboard Complete!\n"
     ]
    }
   ],
   "source": [
    "# Cell 7: Advanced Analytics Dashboard with Real-time Insights and ML Integration (FIXED)\n",
    "import numpy as np\n",
    "import pandas as pd\n",
    "import matplotlib.pyplot as plt\n",
    "import seaborn as sns\n",
    "import plotly.graph_objects as go\n",
    "from plotly.subplots import make_subplots\n",
    "import plotly.express as px\n",
    "import warnings\n",
    "warnings.filterwarnings('ignore')\n",
    "\n",
    "# ML and statistical imports\n",
    "from sklearn.ensemble import RandomForestRegressor\n",
    "from sklearn.model_selection import train_test_split\n",
    "from sklearn.preprocessing import StandardScaler\n",
    "from sklearn.metrics import mean_absolute_error, r2_score\n",
    "from scipy import stats\n",
    "import itertools\n",
    "from datetime import datetime, timedelta\n",
    "\n",
    "# Try to import widgets\n",
    "try:\n",
    "    import ipywidgets as widgets\n",
    "    from IPython.display import display, clear_output, HTML\n",
    "    WIDGETS_AVAILABLE = True\n",
    "except ImportError:\n",
    "    WIDGETS_AVAILABLE = False\n",
    "\n",
    "class AdvancedF1AnalyticsDashboard:\n",
    "    \"\"\"Advanced F1 Analytics Dashboard with ML predictions and comprehensive insights\"\"\"\n",
    "    \n",
    "    def __init__(self, laps_df, degradation_models_df=None, session_data=None):\n",
    "        self.laps = laps_df\n",
    "        self.models = degradation_models_df\n",
    "        self.session_data = session_data\n",
    "        self.ml_models = {}\n",
    "        self.insights_cache = {}\n",
    "        \n",
    "        print(\"🏁 Advanced F1 Analytics Dashboard Initialized\")\n",
    "        print(f\"Data Coverage: {len(self.laps)} laps from {len(self.laps['Driver'].unique())} drivers\")\n",
    "        \n",
    "        # Prepare enhanced data\n",
    "        self.prepare_advanced_features()\n",
    "        \n",
    "    def prepare_advanced_features(self):\n",
    "        \"\"\"Create advanced features for ML analysis\"\"\"\n",
    "        print(\"🔧 Preparing advanced analytics features...\")\n",
    "        \n",
    "        # Time-based features\n",
    "        self.laps['LapTimeSeconds_Clean'] = self.laps['LapTimeSeconds'].fillna(self.laps['LapTimeSeconds'].median())\n",
    "        \n",
    "        # Performance categories\n",
    "        self.laps['LapTime_Percentile'] = self.laps.groupby('Driver')['LapTimeSeconds_Clean'].rank(pct=True)\n",
    "        self.laps['Performance_Category'] = pd.cut(\n",
    "            self.laps['LapTime_Percentile'], \n",
    "            bins=[0, 0.25, 0.75, 1.0], \n",
    "            labels=['Fast', 'Average', 'Slow']\n",
    "        )\n",
    "        \n",
    "        # Stint progress\n",
    "        self.laps['Stint_Progress'] = self.laps.groupby(['Driver', 'Stint']).cumcount() + 1\n",
    "        self.laps['Stint_Length'] = self.laps.groupby(['Driver', 'Stint'])['LapNumber'].transform('count')\n",
    "        \n",
    "        # Position changes\n",
    "        self.laps['Position_Change'] = self.laps.groupby('Driver')['Position'].diff().fillna(0)\n",
    "        \n",
    "        # Rolling statistics\n",
    "        self.laps['LapTime_MA3'] = self.laps.groupby('Driver')['LapTimeSeconds_Clean'].rolling(3, min_periods=1).mean().reset_index(0, drop=True)\n",
    "        self.laps['LapTime_Std3'] = self.laps.groupby('Driver')['LapTimeSeconds_Clean'].rolling(3, min_periods=1).std().reset_index(0, drop=True)\n",
    "        \n",
    "        print(\"✅ Advanced features prepared\")\n",
    "    \n",
    "    def create_championship_analysis(self):\n",
    "        \"\"\"Create comprehensive championship analysis (FIXED)\"\"\"\n",
    "        \n",
    "        fig = make_subplots(\n",
    "            rows=2, cols=3,\n",
    "            subplot_titles=(\n",
    "                'Championship Standings', 'Points Distribution',\n",
    "                'Driver Consistency (Std Dev)', 'Race Wins Analysis', \n",
    "                'Fastest Laps Distribution', 'Performance Trends'\n",
    "            ),\n",
    "            specs=[\n",
    "                [{\"secondary_y\": False}, {\"secondary_y\": False}, {\"secondary_y\": False}],\n",
    "                [{\"secondary_y\": False}, {\"secondary_y\": False}, {\"secondary_y\": False}]\n",
    "            ]  # All xy type - no pie charts to avoid error\n",
    "        )\n",
    "        \n",
    "        # 1. Championship Standings\n",
    "        if 'Points' in self.laps.columns:\n",
    "            points_total = self.laps.groupby('Driver')['Points'].sum().sort_values(ascending=False).head(10)\n",
    "            fig.add_trace(\n",
    "                go.Bar(\n",
    "                    x=points_total.index,\n",
    "                    y=points_total.values,\n",
    "                    name='Total Points',\n",
    "                    marker_color='gold'\n",
    "                ),\n",
    "                row=1, col=1\n",
    "            )\n",
    "        \n",
    "        # 2. Points Distribution\n",
    "        if 'Points' in self.laps.columns:\n",
    "            fig.add_trace(\n",
    "                go.Histogram(\n",
    "                    x=self.laps['Points'],\n",
    "                    nbinsx=20,\n",
    "                    name='Points Distribution',\n",
    "                    marker_color='lightblue'\n",
    "                ),\n",
    "                row=1, col=2\n",
    "            )\n",
    "        \n",
    "        # 3. Driver Consistency\n",
    "        consistency = self.laps.groupby('Driver')['LapTimeSeconds_Clean'].std().sort_values().head(10)\n",
    "        fig.add_trace(\n",
    "            go.Bar(\n",
    "                x=consistency.index,\n",
    "                y=consistency.values,\n",
    "                name='Consistency (Lower is Better)',\n",
    "                marker_color='green'\n",
    "            ),\n",
    "            row=1, col=3\n",
    "        )\n",
    "        \n",
    "        # 4. Race Wins Analysis\n",
    "        if 'Position' in self.laps.columns:\n",
    "            wins = self.laps[self.laps['Position'] == 1].groupby('Driver').size().sort_values(ascending=False).head(8)\n",
    "            if not wins.empty:\n",
    "                fig.add_trace(\n",
    "                    go.Bar(\n",
    "                        x=wins.index,\n",
    "                        y=wins.values,\n",
    "                        name='Race Wins',\n",
    "                        marker_color='red'\n",
    "                    ),\n",
    "                    row=2, col=1\n",
    "                )\n",
    "        \n",
    "        # 5. Fastest Laps\n",
    "        fastest_laps = self.laps.groupby('Driver')['LapTimeSeconds_Clean'].min().sort_values().head(10)\n",
    "        fig.add_trace(\n",
    "            go.Bar(\n",
    "                x=fastest_laps.index,\n",
    "                y=fastest_laps.values,\n",
    "                name='Best Lap Time',\n",
    "                marker_color='purple'\n",
    "            ),\n",
    "            row=2, col=2\n",
    "        )\n",
    "        \n",
    "        # 6. Performance Trends\n",
    "        trend_data = self.laps.groupby(['Driver', 'LapNumber'])['LapTimeSeconds_Clean'].mean().reset_index()\n",
    "        top_drivers = self.laps['Driver'].value_counts().head(5).index\n",
    "        \n",
    "        for driver in top_drivers:\n",
    "            driver_trend = trend_data[trend_data['Driver'] == driver]\n",
    "            if not driver_trend.empty:\n",
    "                fig.add_trace(\n",
    "                    go.Scatter(\n",
    "                        x=driver_trend['LapNumber'],\n",
    "                        y=driver_trend['LapTimeSeconds_Clean'],\n",
    "                        mode='lines',\n",
    "                        name=driver,\n",
    "                        line=dict(width=2),\n",
    "                        opacity=0.7\n",
    "                    ),\n",
    "                    row=2, col=3\n",
    "                )\n",
    "        \n",
    "        # Update layout\n",
    "        fig.update_layout(\n",
    "            height=800,\n",
    "            title_text=\"🏆 Championship Analysis Dashboard\",\n",
    "            showlegend=True\n",
    "        )\n",
    "        \n",
    "        # Update axes\n",
    "        fig.update_xaxes(title_text=\"Driver\", row=1, col=1)\n",
    "        fig.update_yaxes(title_text=\"Total Points\", row=1, col=1)\n",
    "        fig.update_xaxes(title_text=\"Points\", row=1, col=2)\n",
    "        fig.update_yaxes(title_text=\"Frequency\", row=1, col=2)\n",
    "        fig.update_xaxes(title_text=\"Driver\", row=1, col=3)\n",
    "        fig.update_yaxes(title_text=\"Consistency (s)\", row=1, col=3)\n",
    "        fig.update_xaxes(title_text=\"Driver\", row=2, col=1)\n",
    "        fig.update_yaxes(title_text=\"Wins\", row=2, col=1)\n",
    "        fig.update_xaxes(title_text=\"Driver\", row=2, col=2)\n",
    "        fig.update_yaxes(title_text=\"Best Lap Time (s)\", row=2, col=2)\n",
    "        fig.update_xaxes(title_text=\"Lap Number\", row=2, col=3)\n",
    "        fig.update_yaxes(title_text=\"Avg Lap Time (s)\", row=2, col=3)\n",
    "        \n",
    "        fig.show()\n",
    "    \n",
    "    def create_advanced_telemetry_analysis(self):\n",
    "        \"\"\"Advanced telemetry and performance analysis (FIXED)\"\"\"\n",
    "        \n",
    "        fig = make_subplots(\n",
    "            rows=2, cols=2,\n",
    "            subplot_titles=(\n",
    "                'Lap Time Distribution by Driver',\n",
    "                'Performance Heatmap by Stint/Compound',\n",
    "                'Position Changes Over Time',\n",
    "                'Tire Strategy Analysis'\n",
    "            ),\n",
    "            specs=[\n",
    "                [{\"secondary_y\": False}, {\"secondary_y\": False}],\n",
    "                [{\"secondary_y\": False}, {\"type\": \"domain\"}]  # domain for pie chart\n",
    "            ]\n",
    "        )\n",
    "        \n",
    "        # 1. Lap Time Distribution\n",
    "        top_drivers = self.laps['Driver'].value_counts().head(6).index\n",
    "        colors = px.colors.qualitative.Set3\n",
    "        \n",
    "        for i, driver in enumerate(top_drivers):\n",
    "            driver_data = self.laps[self.laps['Driver'] == driver]['LapTimeSeconds_Clean']\n",
    "            fig.add_trace(\n",
    "                go.Histogram(\n",
    "                    x=driver_data,\n",
    "                    name=driver,\n",
    "                    opacity=0.7,\n",
    "                    nbinsx=30,\n",
    "                    marker_color=colors[i % len(colors)]\n",
    "                ),\n",
    "                row=1, col=1\n",
    "            )\n",
    "        \n",
    "        # 2. Performance Heatmap\n",
    "        if 'Compound' in self.laps.columns:\n",
    "            heatmap_data = self.laps.groupby(['Stint', 'Compound'])['LapTimeSeconds_Clean'].mean().unstack(fill_value=0)\n",
    "            \n",
    "            fig.add_trace(\n",
    "                go.Heatmap(\n",
    "                    z=heatmap_data.values,\n",
    "                    x=heatmap_data.columns,\n",
    "                    y=heatmap_data.index,\n",
    "                    colorscale='RdYlBu_r',\n",
    "                    name='Avg Lap Time'\n",
    "                ),\n",
    "                row=1, col=2\n",
    "            )\n",
    "        \n",
    "        # 3. Position Changes\n",
    "        if 'Position' in self.laps.columns:\n",
    "            for driver in top_drivers[:4]:\n",
    "                driver_positions = self.laps[self.laps['Driver'] == driver]\n",
    "                if not driver_positions.empty:\n",
    "                    fig.add_trace(\n",
    "                        go.Scatter(\n",
    "                            x=driver_positions['LapNumber'],\n",
    "                            y=driver_positions['Position'],\n",
    "                            mode='lines+markers',\n",
    "                            name=f'{driver} Position',\n",
    "                            line=dict(width=2)\n",
    "                        ),\n",
    "                        row=2, col=1\n",
    "                    )\n",
    "        \n",
    "        # 4. Tire Strategy Analysis (FIXED)\n",
    "        if 'Compound' in self.laps.columns:\n",
    "            compound_usage = self.laps['Compound'].value_counts()\n",
    "            fig.add_trace(\n",
    "                go.Pie(\n",
    "                    labels=compound_usage.index,\n",
    "                    values=compound_usage.values,\n",
    "                    name='Compound Usage',\n",
    "                    textinfo='label+percent'\n",
    "                ),\n",
    "                row=2, col=2\n",
    "            )\n",
    "        \n",
    "        fig.update_layout(\n",
    "            height=800,\n",
    "            title_text=\"🔬 Advanced Telemetry Analysis\",\n",
    "            showlegend=True\n",
    "        )\n",
    "        \n",
    "        fig.show()\n",
    "    \n",
    "    def create_ml_performance_predictor(self):\n",
    "        \"\"\"Create ML model to predict lap times and performance\"\"\"\n",
    "        \n",
    "        print(\"🤖 Training ML Performance Predictor...\")\n",
    "        \n",
    "        # Prepare features for ML\n",
    "        feature_columns = ['LapNumber', 'TyreLife', 'Stint', 'Stint_Progress', 'Position']\n",
    "        \n",
    "        # Filter available columns\n",
    "        available_features = [col for col in feature_columns if col in self.laps.columns]\n",
    "        \n",
    "        if len(available_features) < 2:\n",
    "            print(\"❌ Insufficient features for ML model\")\n",
    "            return\n",
    "        \n",
    "        # Prepare data\n",
    "        ml_data = self.laps[available_features + ['LapTimeSeconds_Clean', 'Driver']].dropna()\n",
    "        \n",
    "        # Encode categorical variables\n",
    "        if 'Driver' in ml_data.columns:\n",
    "            driver_encoded = pd.get_dummies(ml_data['Driver'], prefix='Driver')\n",
    "            ml_data = pd.concat([ml_data, driver_encoded], axis=1)\n",
    "            ml_data.drop('Driver', axis=1, inplace=True)\n",
    "        \n",
    "        if len(ml_data) < 100:\n",
    "            print(\"❌ Insufficient data for ML model\")\n",
    "            return\n",
    "        \n",
    "        # Split features and target\n",
    "        X = ml_data.drop('LapTimeSeconds_Clean', axis=1)\n",
    "        y = ml_data['LapTimeSeconds_Clean']\n",
    "        \n",
    "        # Split data\n",
    "        X_train, X_test, y_train, y_test = train_test_split(X, y, test_size=0.2, random_state=42)\n",
    "        \n",
    "        # Scale features\n",
    "        scaler = StandardScaler()\n",
    "        X_train_scaled = scaler.fit_transform(X_train)\n",
    "        X_test_scaled = scaler.transform(X_test)\n",
    "        \n",
    "        # Train model\n",
    "        rf_model = RandomForestRegressor(n_estimators=100, random_state=42, n_jobs=-1)\n",
    "        rf_model.fit(X_train_scaled, y_train)\n",
    "        \n",
    "        # Predictions\n",
    "        y_pred = rf_model.predict(X_test_scaled)\n",
    "        \n",
    "        # Calculate metrics\n",
    "        mae = mean_absolute_error(y_test, y_pred)\n",
    "        r2 = r2_score(y_test, y_pred)\n",
    "        \n",
    "        # Store model\n",
    "        self.ml_models['lap_time_predictor'] = {\n",
    "            'model': rf_model,\n",
    "            'scaler': scaler,\n",
    "            'features': X.columns.tolist(),\n",
    "            'mae': mae,\n",
    "            'r2': r2\n",
    "        }\n",
    "        \n",
    "        # Feature importance\n",
    "        importance_df = pd.DataFrame({\n",
    "            'feature': X.columns,\n",
    "            'importance': rf_model.feature_importances_\n",
    "        }).sort_values('importance', ascending=False)\n",
    "        \n",
    "        # Visualization\n",
    "        fig = make_subplots(\n",
    "            rows=1, cols=3,\n",
    "            subplot_titles=('Actual vs Predicted', 'Feature Importance', 'Prediction Residuals')\n",
    "        )\n",
    "        \n",
    "        # Actual vs Predicted\n",
    "        fig.add_trace(\n",
    "            go.Scatter(\n",
    "                x=y_test,\n",
    "                y=y_pred,\n",
    "                mode='markers',\n",
    "                name='Predictions',\n",
    "                marker=dict(color='blue', opacity=0.6)\n",
    "            ),\n",
    "            row=1, col=1\n",
    "        )\n",
    "        \n",
    "        # Perfect prediction line\n",
    "        min_val, max_val = min(y_test.min(), y_pred.min()), max(y_test.max(), y_pred.max())\n",
    "        fig.add_trace(\n",
    "            go.Scatter(\n",
    "                x=[min_val, max_val],\n",
    "                y=[min_val, max_val],\n",
    "                mode='lines',\n",
    "                name='Perfect Prediction',\n",
    "                line=dict(color='red', dash='dash')\n",
    "            ),\n",
    "            row=1, col=1\n",
    "        )\n",
    "        \n",
    "        # Feature Importance\n",
    "        fig.add_trace(\n",
    "            go.Bar(\n",
    "                x=importance_df['importance'].head(10),\n",
    "                y=importance_df['feature'].head(10),\n",
    "                orientation='h',\n",
    "                name='Feature Importance',\n",
    "                marker_color='green'\n",
    "            ),\n",
    "            row=1, col=2\n",
    "        )\n",
    "        \n",
    "        # Residuals\n",
    "        residuals = y_test - y_pred\n",
    "        fig.add_trace(\n",
    "            go.Histogram(\n",
    "                x=residuals,\n",
    "                nbinsx=30,\n",
    "                name='Residuals',\n",
    "                marker_color='orange'\n",
    "            ),\n",
    "            row=1, col=3\n",
    "        )\n",
    "        \n",
    "        fig.update_layout(\n",
    "            height=500,\n",
    "            title_text=f\"🤖 ML Performance Predictor (MAE: {mae:.3f}s, R²: {r2:.3f})\",\n",
    "            showlegend=True\n",
    "        )\n",
    "        \n",
    "        fig.update_xaxes(title_text=\"Actual Lap Time (s)\", row=1, col=1)\n",
    "        fig.update_yaxes(title_text=\"Predicted Lap Time (s)\", row=1, col=1)\n",
    "        fig.update_xaxes(title_text=\"Importance\", row=1, col=2)\n",
    "        fig.update_yaxes(title_text=\"Feature\", row=1, col=2)\n",
    "        fig.update_xaxes(title_text=\"Residual (s)\", row=1, col=3)\n",
    "        fig.update_yaxes(title_text=\"Frequency\", row=1, col=3)\n",
    "        \n",
    "        fig.show()\n",
    "        \n",
    "        print(f\"✅ ML Model Trained Successfully!\")\n",
    "        print(f\"   Mean Absolute Error: {mae:.3f} seconds\")\n",
    "        print(f\"   R² Score: {r2:.3f}\")\n",
    "        print(f\"   Top Features: {', '.join(importance_df['feature'].head(3).tolist())}\")\n",
    "    \n",
    "    def create_statistical_insights(self):\n",
    "        \"\"\"Generate advanced statistical insights\"\"\"\n",
    "        \n",
    "        print(\"📊 ADVANCED STATISTICAL INSIGHTS\")\n",
    "        print(\"=\" * 60)\n",
    "        \n",
    "        insights = {}\n",
    "        \n",
    "        # 1. Driver Performance Statistics\n",
    "        driver_stats = self.laps.groupby('Driver').agg({\n",
    "            'LapTimeSeconds_Clean': ['mean', 'std', 'min', 'count'],\n",
    "            'Position': 'mean' if 'Position' in self.laps.columns else lambda x: None\n",
    "        }).round(3)\n",
    "        \n",
    "        print(\"\\n🏎️ DRIVER PERFORMANCE ANALYSIS:\")\n",
    "        print(\"-\" * 40)\n",
    "        \n",
    "        if not driver_stats.empty:\n",
    "            best_avg_driver = driver_stats['LapTimeSeconds_Clean']['mean'].idxmin()\n",
    "            most_consistent = driver_stats['LapTimeSeconds_Clean']['std'].idxmin()\n",
    "            \n",
    "            print(f\"Fastest Average Lap: {best_avg_driver} ({driver_stats.loc[best_avg_driver, ('LapTimeSeconds_Clean', 'mean')]:.3f}s)\")\n",
    "            print(f\"Most Consistent: {most_consistent} (σ={driver_stats.loc[most_consistent, ('LapTimeSeconds_Clean', 'std')]:.3f}s)\")\n",
    "        \n",
    "        # 2. Compound Analysis\n",
    "        if 'Compound' in self.laps.columns:\n",
    "            compound_stats = self.laps.groupby('Compound').agg({\n",
    "                'LapTimeSeconds_Clean': ['mean', 'std', 'count'],\n",
    "                'TyreLife': 'mean' if 'TyreLife' in self.laps.columns else lambda x: None\n",
    "            }).round(3)\n",
    "            \n",
    "            print(f\"\\n🔧 COMPOUND PERFORMANCE:\")\n",
    "            print(\"-\" * 40)\n",
    "            \n",
    "            fastest_compound = compound_stats['LapTimeSeconds_Clean']['mean'].idxmin()\n",
    "            print(f\"Fastest Compound: {fastest_compound} ({compound_stats.loc[fastest_compound, ('LapTimeSeconds_Clean', 'mean')]:.3f}s avg)\")\n",
    "            \n",
    "            for compound in compound_stats.index:\n",
    "                avg_time = compound_stats.loc[compound, ('LapTimeSeconds_Clean', 'mean')]\n",
    "                usage_count = compound_stats.loc[compound, ('LapTimeSeconds_Clean', 'count')]\n",
    "                print(f\"  {compound:12s}: {avg_time:.3f}s (n={usage_count})\")\n",
    "        \n",
    "        # 3. Race Progression Analysis\n",
    "        if 'LapNumber' in self.laps.columns:\n",
    "            early_race = self.laps[self.laps['LapNumber'] <= 15]['LapTimeSeconds_Clean'].mean()\n",
    "            mid_race = self.laps[(self.laps['LapNumber'] > 15) & (self.laps['LapNumber'] <= 40)]['LapTimeSeconds_Clean'].mean()\n",
    "            late_race = self.laps[self.laps['LapNumber'] > 40]['LapTimeSeconds_Clean'].mean()\n",
    "            \n",
    "            print(f\"\\n⏱️ RACE PROGRESSION:\")\n",
    "            print(\"-\" * 40)\n",
    "            print(f\"Early Race (1-15):   {early_race:.3f}s\")\n",
    "            print(f\"Mid Race (16-40):    {mid_race:.3f}s\")\n",
    "            print(f\"Late Race (40+):     {late_race:.3f}s\")\n",
    "        \n",
    "        # 4. Performance Categories\n",
    "        category_dist = self.laps['Performance_Category'].value_counts()\n",
    "        print(f\"\\n📈 PERFORMANCE DISTRIBUTION:\")\n",
    "        print(\"-\" * 40)\n",
    "        for category, count in category_dist.items():\n",
    "            percentage = (count / len(self.laps)) * 100\n",
    "            print(f\"{category:10s}: {count:4d} laps ({percentage:5.1f}%)\")\n",
    "        \n",
    "        # 5. Statistical Tests\n",
    "        if len(self.laps['Driver'].unique()) >= 2:\n",
    "            print(f\"\\n🔬 STATISTICAL SIGNIFICANCE TESTS:\")\n",
    "            print(\"-\" * 40)\n",
    "            \n",
    "            # Compare top 2 drivers\n",
    "            top_drivers = self.laps['Driver'].value_counts().head(2).index\n",
    "            if len(top_drivers) == 2:\n",
    "                driver1_times = self.laps[self.laps['Driver'] == top_drivers[0]]['LapTimeSeconds_Clean']\n",
    "                driver2_times = self.laps[self.laps['Driver'] == top_drivers[1]]['LapTimeSeconds_Clean']\n",
    "                \n",
    "                # T-test\n",
    "                t_stat, p_value = stats.ttest_ind(driver1_times, driver2_times)\n",
    "                significance = \"Significant\" if p_value < 0.05 else \"Not Significant\"\n",
    "                \n",
    "                print(f\"T-test {top_drivers[0]} vs {top_drivers[1]}:\")\n",
    "                print(f\"  t-statistic: {t_stat:.3f}\")\n",
    "                print(f\"  p-value: {p_value:.4f}\")\n",
    "                print(f\"  Result: {significance} difference\")\n",
    "        \n",
    "        return insights\n",
    "    \n",
    "    def predict_lap_time(self, driver, lap_number, tyre_life, stint, position):\n",
    "        \"\"\"Predict lap time using trained ML model\"\"\"\n",
    "        \n",
    "        if 'lap_time_predictor' not in self.ml_models:\n",
    "            return None\n",
    "        \n",
    "        model_info = self.ml_models['lap_time_predictor']\n",
    "        \n",
    "        # Prepare prediction data\n",
    "        pred_data = pd.DataFrame({\n",
    "            'LapNumber': [lap_number],\n",
    "            'TyreLife': [tyre_life],\n",
    "            'Stint': [stint],\n",
    "            'Stint_Progress': [tyre_life],\n",
    "            'Position': [position]\n",
    "        })\n",
    "        \n",
    "        # Add driver encoding\n",
    "        for feature in model_info['features']:\n",
    "            if feature.startswith('Driver_'):\n",
    "                pred_data[feature] = 1 if feature == f'Driver_{driver}' else 0\n",
    "        \n",
    "        # Ensure all features are present\n",
    "        for feature in model_info['features']:\n",
    "            if feature not in pred_data.columns:\n",
    "                pred_data[feature] = 0\n",
    "        \n",
    "        # Scale and predict\n",
    "        try:\n",
    "            X_scaled = model_info['scaler'].transform(pred_data[model_info['features']])\n",
    "            prediction = model_info['model'].predict(X_scaled)[0]\n",
    "            \n",
    "            return {\n",
    "                'predicted_time': prediction,\n",
    "                'confidence': 'high' if model_info['r2'] > 0.8 else 'medium' if model_info['r2'] > 0.6 else 'low',\n",
    "                'model_accuracy': model_info['r2']\n",
    "            }\n",
    "        except:\n",
    "            return None\n",
    "    \n",
    "    def create_comprehensive_dashboard(self):\n",
    "        \"\"\"Create the complete advanced analytics dashboard\"\"\"\n",
    "        \n",
    "        print(\"🚀 Creating Comprehensive Advanced Analytics Dashboard...\")\n",
    "        print(\"This may take a moment...\")\n",
    "        \n",
    "        # 1. Championship Analysis\n",
    "        print(\"\\n1️⃣ Championship Analysis...\")\n",
    "        self.create_championship_analysis()\n",
    "        \n",
    "        # 2. Advanced Telemetry Analysis\n",
    "        print(\"2️⃣ Telemetry Analysis...\")\n",
    "        self.create_advanced_telemetry_analysis()\n",
    "        \n",
    "        # 3. ML Performance Predictor\n",
    "        print(\"3️⃣ ML Performance Predictor...\")\n",
    "        self.create_ml_performance_predictor()\n",
    "        \n",
    "        # 4. Statistical Insights\n",
    "        print(\"4️⃣ Statistical Insights...\")\n",
    "        self.create_statistical_insights()\n",
    "        \n",
    "        print(\"\\n✅ Comprehensive Advanced Analytics Dashboard Complete!\")\n",
    "        \n",
    "        # Summary report\n",
    "        print(f\"\\n📋 DASHBOARD SUMMARY:\")\n",
    "        print(f\"{'='*50}\")\n",
    "        print(f\"Total Data Points: {len(self.laps):,}\")\n",
    "        print(f\"Drivers Analyzed: {len(self.laps['Driver'].unique())}\")\n",
    "        print(f\"Analysis Features: {len([col for col in self.laps.columns if col.endswith('_Clean') or col.endswith('_MA3')])}\")\n",
    "        print(f\"ML Models Trained: {len(self.ml_models)}\")\n",
    "        print(f\"Statistical Tests: {'Completed' if len(self.laps['Driver'].unique()) >= 2 else 'Skipped (insufficient drivers)'}\")\n",
    "\n",
    "# Initialize Advanced Analytics Dashboard (FIXED)\n",
    "try:\n",
    "    print(\"🏁 Initializing Advanced F1 Analytics Dashboard...\")\n",
    "    \n",
    "    if 'laps' not in globals():\n",
    "        print(\"❌ 'laps' variable not found!\")\n",
    "        print(\"Please ensure you've run the F1 data loading cell first\")\n",
    "    else:\n",
    "        # Check for additional data\n",
    "        degradation_models_ref = None\n",
    "        if 'degradation_models' in globals():\n",
    "            degradation_models_ref = degradation_models\n",
    "        elif 'enhanced_degradation_models' in globals():\n",
    "            degradation_models_ref = enhanced_degradation_models\n",
    "        \n",
    "        # Create advanced dashboard\n",
    "        advanced_dashboard = AdvancedF1AnalyticsDashboard(laps, degradation_models_ref)\n",
    "        \n",
    "        print(\"\\n✅ Advanced Analytics Dashboard Created Successfully!\")\n",
    "        print(\"\\n🏆 ADVANCED FEATURES:\")\n",
    "        print(\" • Comprehensive championship analysis with statistical insights\")\n",
    "        print(\" • Advanced telemetry analysis with performance heatmaps\")\n",
    "        print(\" • Machine Learning lap time predictor with feature importance\")\n",
    "        print(\" • Statistical significance testing and performance categorization\")\n",
    "        print(\" • Real-time performance prediction capabilities\")\n",
    "        print(\" • Professional-grade F1 team analytics\")\n",
    "        print(\" • Advanced data preprocessing with rolling statistics\")\n",
    "        print(\" • Multi-dimensional performance analysis\")\n",
    "        print(\" • FIXED Plotly subplot compatibility issues\")\n",
    "        \n",
    "        # Create the comprehensive dashboard\n",
    "        print(\"\\n🎛️ Generating Advanced Analytics Dashboard...\")\n",
    "        advanced_dashboard.create_comprehensive_dashboard()\n",
    "        \n",
    "        # Example ML prediction\n",
    "        print(\"\\n🔮 Example ML Predictions:\")\n",
    "        print(\"-\" * 40)\n",
    "        \n",
    "        sample_drivers = list(laps['Driver'].unique())[:3]\n",
    "        for driver in sample_drivers:\n",
    "            prediction = advanced_dashboard.predict_lap_time(driver, 25, 10, 2, 5)\n",
    "            if prediction:\n",
    "                print(f\"{driver}: {prediction['predicted_time']:.3f}s \"\n",
    "                      f\"({prediction['confidence']} confidence, R²={prediction['model_accuracy']:.3f})\")\n",
    "            else:\n",
    "                print(f\"{driver}: Prediction not available\")\n",
    "        \n",
    "except Exception as e:\n",
    "    print(f\"❌ Error creating advanced dashboard: {str(e)}\")\n",
    "    print(\"\\n🔧 Troubleshooting:\")\n",
    "    print(\"1. Ensure you have the 'laps' variable from F1 data loading\")\n",
    "    print(\"2. Install required packages: scikit-learn, scipy\")\n",
    "    print(\"3. Check that your data has sufficient rows for ML analysis\")\n",
    "\n",
    "print(\"\\n✅ Advanced F1 Analytics Dashboard Complete!\")\n"
   ]
  },
  {
   "cell_type": "code",
   "execution_count": 12,
   "id": "d1c78b3a",
   "metadata": {},
   "outputs": [
    {
     "data": {
      "application/vnd.jupyter.widget-view+json": {
       "model_id": "1862d14c82ba4b178f997965052a1f7f",
       "version_major": 2,
       "version_minor": 0
      },
      "text/plain": [
       "VBox(children=(HTML(value='<h2>🏁 F1 STRATEGY COMMAND CENTER</h2>'), HTML(value='<p><i>Professional race strate…"
      ]
     },
     "metadata": {},
     "output_type": "display_data"
    }
   ],
   "source": [
    "import numpy as np\n",
    "import pandas as pd\n",
    "from scipy import stats, optimize\n",
    "import matplotlib.pyplot as plt\n",
    "from typing import Dict, List, Tuple, Optional, Callable, Union\n",
    "import warnings\n",
    "warnings.filterwarnings('ignore')\n",
    "from datetime import datetime, timedelta\n",
    "import json\n",
    "\n",
    "# Widget imports\n",
    "try:\n",
    "    import ipywidgets as widgets\n",
    "    from ipywidgets import interact, interactive, fixed, interact_manual\n",
    "    from IPython.display import display, clear_output\n",
    "    WIDGETS_AVAILABLE = True\n",
    "except ImportError:\n",
    "    WIDGETS_AVAILABLE = False\n",
    "\n",
    "class F1StrategyMonteCarloSimulator:\n",
    "    \"\"\"\n",
    "    Professional F1 Strategy Monte Carlo Simulator for race analysis and strategic decision making.\n",
    "    \"\"\"\n",
    "    \n",
    "    def __init__(self, random_seed: Optional[int] = None):\n",
    "        \"\"\"Initialize the F1 Strategy Simulator.\"\"\"\n",
    "        if random_seed is not None:\n",
    "            np.random.seed(random_seed)\n",
    "        \n",
    "        self.simulation_results = {}\n",
    "        self.strategy_recommendations = {}\n",
    "        self.variables = {}\n",
    "        self.historical_data = {}\n",
    "        self.track_database = self.initialize_track_database()\n",
    "        self.tire_compounds = self.initialize_tire_compounds()\n",
    "        self.weather_impact_model = self.initialize_weather_model()\n",
    "        \n",
    "    def initialize_track_database(self) -> Dict:\n",
    "        \"\"\"Initialize track-specific parameters database.\"\"\"\n",
    "        return {\n",
    "            'Monaco': {\n",
    "                'base_lap_time': 74.5, 'pit_loss': 23.0, 'overtaking_difficulty': 0.95,\n",
    "                'tire_wear_factor': 1.2, 'fuel_effect': 0.035, 'drs_zones': 1,\n",
    "                'safety_car_probability': 0.4, 'track_evolution': 0.5\n",
    "            },\n",
    "            'Monza': {\n",
    "                'base_lap_time': 80.5, 'pit_loss': 19.5, 'overtaking_difficulty': 0.3,\n",
    "                'tire_wear_factor': 0.8, 'fuel_effect': 0.025, 'drs_zones': 3,\n",
    "                'safety_car_probability': 0.15, 'track_evolution': 1.2\n",
    "            },\n",
    "            'Silverstone': {\n",
    "                'base_lap_time': 87.0, 'pit_loss': 20.5, 'overtaking_difficulty': 0.6,\n",
    "                'tire_wear_factor': 1.0, 'fuel_effect': 0.030, 'drs_zones': 2,\n",
    "                'safety_car_probability': 0.25, 'track_evolution': 1.0\n",
    "            },\n",
    "            'Spa': {\n",
    "                'base_lap_time': 103.5, 'pit_loss': 22.0, 'overtaking_difficulty': 0.4,\n",
    "                'tire_wear_factor': 0.9, 'fuel_effect': 0.028, 'drs_zones': 2,\n",
    "                'safety_car_probability': 0.3, 'track_evolution': 0.8\n",
    "            },\n",
    "            'Suzuka': {\n",
    "                'base_lap_time': 89.5, 'pit_loss': 21.5, 'overtaking_difficulty': 0.7,\n",
    "                'tire_wear_factor': 1.1, 'fuel_effect': 0.032, 'drs_zones': 1,\n",
    "                'safety_car_probability': 0.2, 'track_evolution': 0.9\n",
    "            }\n",
    "        }\n",
    "    \n",
    "    def initialize_tire_compounds(self) -> Dict:\n",
    "        \"\"\"Initialize tire compound characteristics.\"\"\"\n",
    "        return {\n",
    "            'C1': {'grip': 0.85, 'degradation': 0.3, 'optimal_stint': 35, 'performance_window': (20, 45)},\n",
    "            'C2': {'grip': 0.90, 'degradation': 0.5, 'optimal_stint': 28, 'performance_window': (15, 35)},\n",
    "            'C3': {'grip': 0.95, 'degradation': 0.7, 'optimal_stint': 22, 'performance_window': (12, 28)},\n",
    "            'C4': {'grip': 1.00, 'degradation': 1.0, 'optimal_stint': 18, 'performance_window': (8, 22)},\n",
    "            'C5': {'grip': 1.05, 'degradation': 1.4, 'optimal_stint': 15, 'performance_window': (5, 18)},\n",
    "            'Intermediate': {'grip': 0.75, 'degradation': 0.2, 'optimal_stint': 25, 'performance_window': (10, 40)},\n",
    "            'Wet': {'grip': 0.65, 'degradation': 0.1, 'optimal_stint': 30, 'performance_window': (15, 50)}\n",
    "        }\n",
    "    \n",
    "    def initialize_weather_model(self) -> Dict:\n",
    "        \"\"\"Initialize weather impact parameters.\"\"\"\n",
    "        return {\n",
    "            'rain_probability_impact': {\n",
    "                0.0: 1.0, 0.2: 1.05, 0.4: 1.15, 0.6: 1.3, 0.8: 1.6, 1.0: 2.0\n",
    "            },\n",
    "            'temperature_impact': {\n",
    "                'optimal_track_temp': 45.0,\n",
    "                'optimal_air_temp': 25.0,\n",
    "                'temp_coefficient': 0.002\n",
    "            }\n",
    "        }\n",
    "    \n",
    "    def calculate_tire_degradation_model(self, compound: str, stint_length: int, \n",
    "                                       track_conditions: Dict) -> np.ndarray:\n",
    "        \"\"\"Advanced tire degradation model based on compound and conditions.\"\"\"\n",
    "        tire_data = self.tire_compounds[compound]\n",
    "        base_degradation = tire_data['degradation']\n",
    "        \n",
    "        # Create degradation curve\n",
    "        laps = np.arange(1, stint_length + 1)\n",
    "        \n",
    "        # Non-linear degradation (starts slow, accelerates)\n",
    "        degradation_curve = base_degradation * (laps ** 1.2) / stint_length\n",
    "        \n",
    "        # Apply track conditions\n",
    "        track_temp_factor = 1 + (track_conditions.get('track_temperature', 45) - 45) * 0.01\n",
    "        track_grip_factor = track_conditions.get('track_grip', 1.0)\n",
    "        \n",
    "        adjusted_degradation = degradation_curve * track_temp_factor * (2.0 - track_grip_factor)\n",
    "        \n",
    "        return adjusted_degradation\n",
    "    \n",
    "    def simulate_pit_strategy(self, strategy: Dict, race_distance: int = 70) -> Dict:\n",
    "        \"\"\"Simulate a complete pit strategy for race distance.\"\"\"\n",
    "        pit_stops = strategy['pit_stops']\n",
    "        compounds = strategy['compounds']\n",
    "        \n",
    "        total_time = 0\n",
    "        stint_times = []\n",
    "        tire_performance = []\n",
    "        \n",
    "        current_lap = 1\n",
    "        \n",
    "        for i, (stint_end, compound) in enumerate(zip(pit_stops + [race_distance], compounds)):\n",
    "            stint_length = stint_end - current_lap + 1\n",
    "            \n",
    "            # Calculate stint performance\n",
    "            degradation = self.calculate_tire_degradation_model(\n",
    "                compound, stint_length, strategy.get('conditions', {})\n",
    "            )\n",
    "            \n",
    "            base_lap_time = strategy.get('base_lap_time', 90.0)\n",
    "            tire_grip = self.tire_compounds[compound]['grip']\n",
    "            \n",
    "            # Lap times for this stint\n",
    "            stint_lap_times = []\n",
    "            for lap in range(stint_length):\n",
    "                fuel_load = strategy.get('starting_fuel', 100) - (current_lap + lap - 1) * 1.5\n",
    "                fuel_effect = fuel_load * strategy.get('fuel_coefficient', 0.03)\n",
    "                tire_effect = degradation[lap] if lap < len(degradation) else degradation[-1]\n",
    "                \n",
    "                lap_time = base_lap_time + fuel_effect + tire_effect - (tire_grip - 1.0) * 2.0\n",
    "                stint_lap_times.append(lap_time)\n",
    "            \n",
    "            stint_times.extend(stint_lap_times)\n",
    "            tire_performance.append(np.mean(stint_lap_times))\n",
    "            total_time += sum(stint_lap_times)\n",
    "            \n",
    "            # Add pit stop time (except for last stint)\n",
    "            if i < len(pit_stops):\n",
    "                pit_time = strategy.get('pit_loss', 22.0)\n",
    "                total_time += pit_time\n",
    "            \n",
    "            current_lap = stint_end + 1\n",
    "        \n",
    "        return {\n",
    "            'total_race_time': total_time,\n",
    "            'stint_times': stint_times,\n",
    "            'average_stint_performance': tire_performance,\n",
    "            'strategy_summary': strategy\n",
    "        }\n",
    "    \n",
    "    def generate_strategy_recommendations(self, \n",
    "                                        track: str,\n",
    "                                        weather_forecast: Dict,\n",
    "                                        car_performance: Dict,\n",
    "                                        grid_position: int,\n",
    "                                        race_distance: int = 70) -> Dict:\n",
    "        \"\"\"Generate comprehensive strategy recommendations.\"\"\"\n",
    "        \n",
    "        track_data = self.track_database.get(track, self.track_database['Silverstone'])\n",
    "        \n",
    "        # Strategy generation based on conditions\n",
    "        strategies = []\n",
    "        \n",
    "        # One-stop strategies\n",
    "        for compound1 in ['C2', 'C3', 'C4']:\n",
    "            for compound2 in ['C1', 'C2', 'C3']:\n",
    "                if compound1 != compound2:\n",
    "                    for pit_lap in range(20, 50, 5):\n",
    "                        strategy = {\n",
    "                            'name': f'One-stop: {compound1}→{compound2} (Lap {pit_lap})',\n",
    "                            'pit_stops': [pit_lap],\n",
    "                            'compounds': [compound1, compound2],\n",
    "                            'base_lap_time': track_data['base_lap_time'],\n",
    "                            'pit_loss': track_data['pit_loss'],\n",
    "                            'conditions': weather_forecast,\n",
    "                            'fuel_coefficient': track_data['fuel_effect']\n",
    "                        }\n",
    "                        result = self.simulate_pit_strategy(strategy, race_distance)\n",
    "                        strategies.append({**strategy, **result, 'stops': 1})\n",
    "        \n",
    "        # Two-stop strategies\n",
    "        for compound1 in ['C3', 'C4', 'C5']:\n",
    "            for compound2 in ['C2', 'C3', 'C4']:\n",
    "                for compound3 in ['C1', 'C2', 'C3']:\n",
    "                    for pit1 in range(15, 25, 3):\n",
    "                        for pit2 in range(35, 50, 5):\n",
    "                            if pit2 > pit1 + 10:\n",
    "                                strategy = {\n",
    "                                    'name': f'Two-stop: {compound1}→{compound2}→{compound3} (Laps {pit1},{pit2})',\n",
    "                                    'pit_stops': [pit1, pit2],\n",
    "                                    'compounds': [compound1, compound2, compound3],\n",
    "                                    'base_lap_time': track_data['base_lap_time'],\n",
    "                                    'pit_loss': track_data['pit_loss'],\n",
    "                                    'conditions': weather_forecast,\n",
    "                                    'fuel_coefficient': track_data['fuel_effect']\n",
    "                                }\n",
    "                                result = self.simulate_pit_strategy(strategy, race_distance)\n",
    "                                strategies.append({**strategy, **result, 'stops': 2})\n",
    "        \n",
    "        # Sort strategies by total race time\n",
    "        strategies.sort(key=lambda x: x['total_race_time'])\n",
    "        \n",
    "        # Apply grid position and overtaking difficulty adjustments\n",
    "        for strategy in strategies:\n",
    "            overtaking_penalty = 0\n",
    "            if grid_position > 10:\n",
    "                overtaking_penalty = track_data['overtaking_difficulty'] * (grid_position - 10) * 2.0\n",
    "            strategy['adjusted_race_time'] = strategy['total_race_time'] + overtaking_penalty\n",
    "        \n",
    "        # Re-sort by adjusted time\n",
    "        strategies.sort(key=lambda x: x['adjusted_race_time'])\n",
    "        \n",
    "        # Generate recommendations\n",
    "        recommendations = {\n",
    "            'optimal_strategy': strategies[0],\n",
    "            'alternative_strategies': strategies[1:4],\n",
    "            'risk_analysis': self.analyze_strategy_risks(strategies[:5], weather_forecast, track_data),\n",
    "            'weather_contingencies': self.generate_weather_contingencies(track, weather_forecast),\n",
    "            'tire_allocation_advice': self.optimize_tire_allocation(strategies[:3]),\n",
    "            'strategic_insights': self.generate_strategic_insights(strategies, track_data, grid_position)\n",
    "        }\n",
    "        \n",
    "        return recommendations\n",
    "    \n",
    "    def analyze_strategy_risks(self, strategies: List[Dict], weather: Dict, track_data: Dict) -> Dict:\n",
    "        \"\"\"Analyze risks associated with different strategies.\"\"\"\n",
    "        risk_analysis = {}\n",
    "        \n",
    "        for strategy in strategies:\n",
    "            risks = []\n",
    "            risk_score = 0\n",
    "            \n",
    "            # Weather risk\n",
    "            if weather.get('rain_probability', 0) > 0.3:\n",
    "                if strategy['stops'] == 1:\n",
    "                    risks.append(\"High weather risk - limited pit window flexibility\")\n",
    "                    risk_score += 3\n",
    "                else:\n",
    "                    risks.append(\"Moderate weather risk - multiple pit windows available\")\n",
    "                    risk_score += 1\n",
    "            \n",
    "            # Safety car risk\n",
    "            sc_probability = track_data.get('safety_car_probability', 0.2)\n",
    "            if sc_probability > 0.3:\n",
    "                if strategy['stops'] == 2:\n",
    "                    risks.append(\"Safety car could benefit strategy - free pit stops\")\n",
    "                    risk_score -= 1\n",
    "                else:\n",
    "                    risks.append(\"Safety car risk - could lose track position\")\n",
    "                    risk_score += 2\n",
    "            \n",
    "            # Tire degradation risk\n",
    "            if any(compound in ['C4', 'C5'] for compound in strategy['compounds']):\n",
    "                risks.append(\"High tire degradation risk - performance cliff possible\")\n",
    "                risk_score += 2\n",
    "            \n",
    "            # Undercut/overcut risk\n",
    "            if strategy['stops'] == 1 and strategy['pit_stops'][0] < 30:\n",
    "                risks.append(\"Undercut vulnerability - early pit stop\")\n",
    "                risk_score += 1\n",
    "            \n",
    "            risk_analysis[strategy['name']] = {\n",
    "                'risk_factors': risks,\n",
    "                'risk_score': risk_score,\n",
    "                'risk_level': 'Low' if risk_score <= 2 else 'Medium' if risk_score <= 4 else 'High'\n",
    "            }\n",
    "        \n",
    "        return risk_analysis\n",
    "    \n",
    "    def generate_weather_contingencies(self, track: str, weather_forecast: Dict) -> Dict:\n",
    "        \"\"\"Generate weather-based contingency strategies.\"\"\"\n",
    "        contingencies = {}\n",
    "        \n",
    "        rain_prob = weather_forecast.get('rain_probability', 0)\n",
    "        \n",
    "        if rain_prob > 0.3:\n",
    "            contingencies['rain_strategy'] = {\n",
    "                'recommendation': 'Prepare for intermediate/wet tire strategy',\n",
    "                'pit_timing': 'Pit as soon as rain starts - track position crucial',\n",
    "                'tire_sequence': 'Slicks → Intermediates → Wets (if heavy rain)',\n",
    "                'risk_level': 'High' if rain_prob > 0.6 else 'Medium'\n",
    "            }\n",
    "        \n",
    "        if weather_forecast.get('temperature_variance', 5) > 10:\n",
    "            contingencies['temperature_strategy'] = {\n",
    "                'recommendation': 'Monitor tire temperatures closely',\n",
    "                'adjustments': 'May need to adjust tire pressures and compound selection',\n",
    "                'impact': 'Significant lap time variations possible'\n",
    "            }\n",
    "        \n",
    "        return contingencies\n",
    "    \n",
    "    def optimize_tire_allocation(self, top_strategies: List[Dict]) -> Dict:\n",
    "        \"\"\"Optimize tire allocation for weekend.\"\"\"\n",
    "        allocation = {\n",
    "            'qualifying': {'recommended': 'C4 or C5', 'reasoning': 'Maximum performance for Q3'},\n",
    "            'race': {},\n",
    "            'practice_allocation': {\n",
    "                'FP1': 'C2, C3 (long runs)',\n",
    "                'FP2': 'C3, C4 (quali simulation)',\n",
    "                'FP3': 'C4, C5 (final quali prep)'\n",
    "            }\n",
    "        }\n",
    "        \n",
    "        # Analyze compound usage across top strategies\n",
    "        compound_usage = {}\n",
    "        for strategy in top_strategies:\n",
    "            for compound in strategy['compounds']:\n",
    "                compound_usage[compound] = compound_usage.get(compound, 0) + 1\n",
    "        \n",
    "        most_used = max(compound_usage.items(), key=lambda x: x[1])\n",
    "        allocation['race']['primary_compound'] = most_used[0]\n",
    "        allocation['race']['reasoning'] = f\"Most versatile compound across top strategies\"\n",
    "        \n",
    "        return allocation\n",
    "    \n",
    "    def generate_strategic_insights(self, strategies: List[Dict], \n",
    "                                  track_data: Dict, grid_position: int) -> List[str]:\n",
    "        \"\"\"Generate strategic insights and recommendations.\"\"\"\n",
    "        insights = []\n",
    "        \n",
    "        # Pit stop analysis\n",
    "        avg_stops = np.mean([s['stops'] for s in strategies[:5]])\n",
    "        if avg_stops < 1.5:\n",
    "            insights.append(\"🔧 One-stop strategies dominate - focus on tire management\")\n",
    "        else:\n",
    "            insights.append(\"🔧 Two-stop strategies preferred - aggressive tire strategy viable\")\n",
    "        \n",
    "        # Track position importance\n",
    "        overtaking_difficulty = track_data.get('overtaking_difficulty', 0.5)\n",
    "        if overtaking_difficulty > 0.7:\n",
    "            insights.append(f\"🏁 Track position crucial (difficulty: {overtaking_difficulty:.1f}) - consider track position over pure speed\")\n",
    "        else:\n",
    "            insights.append(f\"🚀 Overtaking viable (difficulty: {overtaking_difficulty:.1f}) - pure pace strategy recommended\")\n",
    "        \n",
    "        # Grid position analysis\n",
    "        if grid_position <= 5:\n",
    "            insights.append(\"🥇 Front row start - control the race, cover other strategies\")\n",
    "        elif grid_position <= 10:\n",
    "            insights.append(\"📈 Midfield start - be aggressive early, different strategy from leaders\")\n",
    "        else:\n",
    "            insights.append(\"⚡ Back of grid - high-risk strategy needed, alternative compounds\")\n",
    "        \n",
    "        # Safety car probability\n",
    "        sc_prob = track_data.get('safety_car_probability', 0.2)\n",
    "        if sc_prob > 0.3:\n",
    "            insights.append(f\"🚨 High safety car probability ({sc_prob:.1%}) - keep strategic flexibility\")\n",
    "        \n",
    "        return insights\n",
    "    \n",
    "    def create_strategy_dashboard_widget(self):\n",
    "        \"\"\"Create comprehensive strategy analysis dashboard.\"\"\"\n",
    "        if not WIDGETS_AVAILABLE:\n",
    "            print(\"Widgets not available. Please install ipywidgets.\")\n",
    "            return None\n",
    "        \n",
    "        style = {'description_width': '150px'}\n",
    "        layout = widgets.Layout(width='300px')\n",
    "        \n",
    "        # Track and session parameters\n",
    "        track_selector = widgets.Dropdown(\n",
    "            options=list(self.track_database.keys()),\n",
    "            value='Silverstone',\n",
    "            description='Track:',\n",
    "            style=style, layout=layout\n",
    "        )\n",
    "        \n",
    "        race_distance = widgets.IntSlider(\n",
    "            value=70, min=50, max=90, step=1,\n",
    "            description='Race Distance:',\n",
    "            style=style, layout=layout\n",
    "        )\n",
    "        \n",
    "        grid_position = widgets.IntSlider(\n",
    "            value=5, min=1, max=20, step=1,\n",
    "            description='Grid Position:',\n",
    "            style=style, layout=layout\n",
    "        )\n",
    "        \n",
    "        # Weather forecast\n",
    "        rain_probability = widgets.FloatSlider(\n",
    "            value=0.2, min=0.0, max=1.0, step=0.1,\n",
    "            description='Rain Probability:',\n",
    "            style=style, layout=layout\n",
    "        )\n",
    "        \n",
    "        air_temperature = widgets.FloatSlider(\n",
    "            value=25.0, min=10.0, max=40.0, step=1.0,\n",
    "            description='Air Temp (°C):',\n",
    "            style=style, layout=layout\n",
    "        )\n",
    "        \n",
    "        track_temperature = widgets.FloatSlider(\n",
    "            value=45.0, min=20.0, max=70.0, step=1.0,\n",
    "            description='Track Temp (°C):',\n",
    "            style=style, layout=layout\n",
    "        )\n",
    "        \n",
    "        wind_speed = widgets.FloatSlider(\n",
    "            value=10.0, min=0.0, max=30.0, step=1.0,\n",
    "            description='Wind Speed (km/h):',\n",
    "            style=style, layout=layout\n",
    "        )\n",
    "        \n",
    "        # Car performance\n",
    "        car_pace_ranking = widgets.IntSlider(\n",
    "            value=5, min=1, max=10, step=1,\n",
    "            description='Car Pace Rank:',\n",
    "            style=style, layout=layout\n",
    "        )\n",
    "        \n",
    "        tire_wear_rate = widgets.FloatSlider(\n",
    "            value=1.0, min=0.5, max=2.0, step=0.1,\n",
    "            description='Tire Wear Rate:',\n",
    "            style=style, layout=layout\n",
    "        )\n",
    "        \n",
    "        fuel_efficiency = widgets.FloatSlider(\n",
    "            value=1.0, min=0.8, max=1.2, step=0.05,\n",
    "            description='Fuel Efficiency:',\n",
    "            style=style, layout=layout\n",
    "        )\n",
    "        \n",
    "        # Strategy preferences - FIXED\n",
    "        risk_appetite = widgets.Dropdown(\n",
    "            options=['Conservative', 'Balanced', 'Aggressive'],\n",
    "            value='Balanced',\n",
    "            description='Risk Appetite:',\n",
    "            style=style, layout=layout\n",
    "        )\n",
    "        \n",
    "        strategy_focus = widgets.Dropdown(\n",
    "            options=['Track Position', 'Pure Pace', 'Tire Management', 'Flexible'],\n",
    "            value='Flexible',  # Fixed: Changed from 'Balanced' to 'Flexible'\n",
    "            description='Strategy Focus:',\n",
    "            style=style, layout=layout\n",
    "        )\n",
    "        \n",
    "        # Analysis button\n",
    "        analyze_button = widgets.Button(\n",
    "            description='🏁 Generate Strategy',\n",
    "            button_style='success',\n",
    "            layout=widgets.Layout(width='300px', height='50px')\n",
    "        )\n",
    "        \n",
    "        # Output area\n",
    "        output_area = widgets.Output()\n",
    "        \n",
    "        def generate_strategy_analysis(button):\n",
    "            \"\"\"Generate comprehensive strategy analysis.\"\"\"\n",
    "            with output_area:\n",
    "                clear_output(wait=True)\n",
    "                print(\"🏁 F1 STRATEGY ANALYSIS\")\n",
    "                print(\"=\" * 80)\n",
    "                print(f\"📍 Track: {track_selector.value}\")\n",
    "                print(f\"🏁 Race Distance: {race_distance.value} laps\")\n",
    "                print(f\"🥇 Grid Position: P{grid_position.value}\")\n",
    "                print(f\"🌤️  Weather: {rain_probability.value:.0%} rain chance, {air_temperature.value}°C air, {track_temperature.value}°C track\")\n",
    "                print(\"=\" * 80)\n",
    "                \n",
    "                # Prepare inputs\n",
    "                weather_forecast = {\n",
    "                    'rain_probability': rain_probability.value,\n",
    "                    'air_temperature': air_temperature.value,\n",
    "                    'track_temperature': track_temperature.value,\n",
    "                    'wind_speed': wind_speed.value,\n",
    "                    'temperature_variance': 5.0\n",
    "                }\n",
    "                \n",
    "                car_performance = {\n",
    "                    'pace_ranking': car_pace_ranking.value,\n",
    "                    'tire_wear_rate': tire_wear_rate.value,\n",
    "                    'fuel_efficiency': fuel_efficiency.value\n",
    "                }\n",
    "                \n",
    "                try:\n",
    "                    # Generate recommendations\n",
    "                    recommendations = self.generate_strategy_recommendations(\n",
    "                        track=track_selector.value,\n",
    "                        weather_forecast=weather_forecast,\n",
    "                        car_performance=car_performance,\n",
    "                        grid_position=grid_position.value,\n",
    "                        race_distance=race_distance.value\n",
    "                    )\n",
    "                    \n",
    "                    # Display optimal strategy\n",
    "                    optimal = recommendations['optimal_strategy']\n",
    "                    print(\"🥇 OPTIMAL STRATEGY\")\n",
    "                    print(f\"   Strategy: {optimal['name']}\")\n",
    "                    print(f\"   Estimated Race Time: {optimal['adjusted_race_time']:.1f} seconds\")\n",
    "                    print(f\"   Pit Stops: Lap {', Lap '.join(map(str, optimal['pit_stops']))}\")\n",
    "                    print(f\"   Tire Sequence: {' → '.join(optimal['compounds'])}\")\n",
    "                    print()\n",
    "                    \n",
    "                    # Display alternatives\n",
    "                    print(\"🥈 ALTERNATIVE STRATEGIES\")\n",
    "                    for i, alt in enumerate(recommendations['alternative_strategies'][:3], 1):\n",
    "                        time_diff = alt['adjusted_race_time'] - optimal['adjusted_race_time']\n",
    "                        print(f\"   {i}. {alt['name']}\")\n",
    "                        print(f\"      Time difference: +{time_diff:.1f}s\")\n",
    "                        print(f\"      Risk level: {recommendations['risk_analysis'].get(alt['name'], {}).get('risk_level', 'Unknown')}\")\n",
    "                    print()\n",
    "                    \n",
    "                    # Strategic insights\n",
    "                    print(\"🧠 STRATEGIC INSIGHTS\")\n",
    "                    for insight in recommendations['strategic_insights']:\n",
    "                        print(f\"   {insight}\")\n",
    "                    print()\n",
    "                    \n",
    "                    # Risk analysis for optimal strategy\n",
    "                    risk_info = recommendations['risk_analysis'].get(optimal['name'], {})\n",
    "                    if risk_info:\n",
    "                        print(\"⚠️  RISK ANALYSIS\")\n",
    "                        print(f\"   Risk Level: {risk_info['risk_level']}\")\n",
    "                        for risk in risk_info['risk_factors']:\n",
    "                            print(f\"   • {risk}\")\n",
    "                        print()\n",
    "                    \n",
    "                    # Weather contingencies\n",
    "                    if recommendations['weather_contingencies']:\n",
    "                        print(\"🌦️  WEATHER CONTINGENCIES\")\n",
    "                        for scenario, details in recommendations['weather_contingencies'].items():\n",
    "                            print(f\"   {scenario.replace('_', ' ').title()}:\")\n",
    "                            print(f\"   • {details['recommendation']}\")\n",
    "                            if 'pit_timing' in details:\n",
    "                                print(f\"   • {details['pit_timing']}\")\n",
    "                        print()\n",
    "                    \n",
    "                    # Tire allocation\n",
    "                    tire_advice = recommendations['tire_allocation_advice']\n",
    "                    print(\"🏎️  TIRE ALLOCATION ADVICE\")\n",
    "                    print(f\"   Qualifying: {tire_advice['qualifying']['recommended']}\")\n",
    "                    print(f\"   Race Primary: {tire_advice['race']['primary_compound']}\")\n",
    "                    print(f\"   Reasoning: {tire_advice['race']['reasoning']}\")\n",
    "                    print()\n",
    "                    \n",
    "                    print(\"📊 STRATEGY GENERATION COMPLETE\")\n",
    "                    print(\"=\" * 80)\n",
    "                    \n",
    "                except Exception as e:\n",
    "                    print(f\"❌ Strategy analysis failed: {str(e)}\")\n",
    "                    import traceback\n",
    "                    traceback.print_exc()\n",
    "        \n",
    "        # Connect button\n",
    "        analyze_button.on_click(generate_strategy_analysis)\n",
    "        \n",
    "        # Organize interface\n",
    "        session_tab = widgets.VBox([\n",
    "            widgets.HTML(\"<h3>🏁 Session Parameters</h3>\"),\n",
    "            track_selector, race_distance, grid_position\n",
    "        ])\n",
    "        \n",
    "        weather_tab = widgets.VBox([\n",
    "            widgets.HTML(\"<h3>🌤️ Weather Forecast</h3>\"),\n",
    "            rain_probability, air_temperature, track_temperature, wind_speed\n",
    "        ])\n",
    "        \n",
    "        car_tab = widgets.VBox([\n",
    "            widgets.HTML(\"<h3>🏎️ Car Performance</h3>\"),\n",
    "            car_pace_ranking, tire_wear_rate, fuel_efficiency\n",
    "        ])\n",
    "        \n",
    "        strategy_tab = widgets.VBox([\n",
    "            widgets.HTML(\"<h3>📋 Strategy Preferences</h3>\"),\n",
    "            risk_appetite, strategy_focus, analyze_button\n",
    "        ])\n",
    "        \n",
    "        # Create tabs\n",
    "        tabs = widgets.Tab(children=[session_tab, weather_tab, car_tab, strategy_tab])\n",
    "        tabs.set_title(0, \"Session\")\n",
    "        tabs.set_title(1, \"Weather\")\n",
    "        tabs.set_title(2, \"Car\")\n",
    "        tabs.set_title(3, \"Strategy\")\n",
    "        \n",
    "        # Complete interface\n",
    "        interface = widgets.VBox([\n",
    "            widgets.HTML(\"<h2>🏁 F1 STRATEGY COMMAND CENTER</h2>\"),\n",
    "            widgets.HTML(\"<p><i>Professional race strategy analysis and recommendations</i></p>\"),\n",
    "            tabs,\n",
    "            output_area\n",
    "        ])\n",
    "        \n",
    "        return interface\n",
    "    \n",
    "    def export_strategy_report(self, recommendations: Dict, filename: str = None):\n",
    "        \"\"\"Export comprehensive strategy report.\"\"\"\n",
    "        if filename is None:\n",
    "            filename = f\"f1_strategy_report_{datetime.now().strftime('%Y%m%d_%H%M')}.json\"\n",
    "        \n",
    "        report = {\n",
    "            'timestamp': datetime.now().isoformat(),\n",
    "            'recommendations': recommendations,\n",
    "            'metadata': {\n",
    "                'simulator_version': '2.0',\n",
    "                'analysis_type': 'comprehensive_strategy'\n",
    "            }\n",
    "        }\n",
    "        \n",
    "        with open(filename, 'w') as f:\n",
    "            json.dump(report, f, indent=2, default=str)\n",
    "        \n",
    "        print(f\"📊 Strategy report exported to {filename}\")\n",
    "\n",
    "# Example usage\n",
    "if __name__ == \"__main__\":\n",
    "    # Create F1 strategy simulator\n",
    "    f1_simulator = F1StrategyMonteCarloSimulator(random_seed=42)\n",
    "    \n",
    "    # Display strategy dashboard\n",
    "    if WIDGETS_AVAILABLE:\n",
    "        strategy_dashboard = f1_simulator.create_strategy_dashboard_widget()\n",
    "        display(strategy_dashboard)\n",
    "    else:\n",
    "        print(\"Install ipywidgets for the interactive dashboard:\")\n",
    "        print(\"pip install ipywidgets\")\n"
   ]
  }
 ],
 "metadata": {
  "kernelspec": {
   "display_name": "Python 3",
   "language": "python",
   "name": "python3"
  },
  "language_info": {
   "codemirror_mode": {
    "name": "ipython",
    "version": 3
   },
   "file_extension": ".py",
   "mimetype": "text/x-python",
   "name": "python",
   "nbconvert_exporter": "python",
   "pygments_lexer": "ipython3",
   "version": "3.11.9"
  }
 },
 "nbformat": 4,
 "nbformat_minor": 5
}
